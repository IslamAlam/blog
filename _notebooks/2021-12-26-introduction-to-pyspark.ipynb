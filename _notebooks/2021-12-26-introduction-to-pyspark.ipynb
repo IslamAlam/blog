{
  "cells": [
    {
      "cell_type": "markdown",
      "metadata": {},
      "source": [
        "# \"Introduction to PySpark\"\n",
        "> \"In this course, you'll learn how to use Spark from Python! Spark is a tool for doing parallel computation with large datasets and it integrates well with Python. PySpark is the Python package that makes the magic happen. You'll use this package to work with data about flights from Portland and Seattle. You'll learn to wrangle this data and build a whole machine learning pipeline to predict whether or not flights will be delayed. Get ready to put some Spark in your Python code and dive into the world of high-performance machine learning!\"\n",
        "- toc: true\n",
        "- branch: master\n",
        "- badges: true\n",
        "- comments: true\n",
        "- author: Islam Mansour\n",
        "- categories: [Python, DataCamp, Machine Learning Scientist with Python, Big Data with PySpark, Data Engineer with Python]\n",
        "- hide: false"
      ]
    },
    {
      "cell_type": "markdown",
      "metadata": {
        "id": "0jbpuHe9p37J"
      },
      "source": [
        "Introduction to PySpark\n",
        "---\n",
        "\n"
      ]
    },
    {
      "cell_type": "markdown",
      "metadata": {
        "id": "_hhm2tE9qTyP"
      },
      "source": [
        "**Course Description:**\n",
        "\n",
        "In this course, you'll learn how to use Spark from Python! Spark is a tool for doing parallel computation with large datasets and it integrates well with Python. PySpark is the Python package that makes the magic happen. You'll use this package to work with data about flights from Portland and Seattle. You'll learn to wrangle this data and build a whole machine learning pipeline to predict whether or not flights will be delayed. Get ready to put some Spark in your Python code and dive into the world of high-performance machine learning!"
      ]
    },
    {
      "cell_type": "code",
      "execution_count": 2,
      "metadata": {
        "colab": {
          "base_uri": "https://localhost:8080/"
        },
        "id": "E896E9nUuKyx",
        "outputId": "956dd669-6d5f-4435-d1b1-25030a2af095"
      },
      "outputs": [
        {
          "name": "stdout",
          "output_type": "stream",
          "text": [
            "Collecting pyspark\n",
            "  Downloading pyspark-3.2.0.tar.gz (281.3 MB)\n",
            "\u001b[K     |████████████████████████████████| 281.3 MB 38 kB/s \n",
            "\u001b[?25hCollecting py4j==0.10.9.2\n",
            "  Downloading py4j-0.10.9.2-py2.py3-none-any.whl (198 kB)\n",
            "\u001b[K     |████████████████████████████████| 198 kB 40.8 MB/s \n",
            "\u001b[?25hBuilding wheels for collected packages: pyspark\n",
            "  Building wheel for pyspark (setup.py) ... \u001b[?25l\u001b[?25hdone\n",
            "  Created wheel for pyspark: filename=pyspark-3.2.0-py2.py3-none-any.whl size=281805912 sha256=fab35528b694432280a1206b41c03efeef4945f96ea5965e75c2cf01dba9f583\n",
            "  Stored in directory: /root/.cache/pip/wheels/0b/de/d2/9be5d59d7331c6c2a7c1b6d1a4f463ce107332b1ecd4e80718\n",
            "Successfully built pyspark\n",
            "Installing collected packages: py4j, pyspark\n",
            "Successfully installed py4j-0.10.9.2 pyspark-3.2.0\n"
          ]
        }
      ],
      "source": [
        "! pip install pyspark"
      ]
    },
    {
      "cell_type": "code",
      "execution_count": 5,
      "metadata": {
        "id": "vTtXvkCJt6Sk"
      },
      "outputs": [],
      "source": [
        "import pyspark\n",
        "import numpy as np\n",
        "import pandas as pd"
      ]
    },
    {
      "cell_type": "markdown",
      "metadata": {
        "id": "Oq6YWwJNqpiS"
      },
      "source": [
        "# 1. Getting to know PySpark\n",
        "\n",
        "\n",
        "In this chapter, you'll learn how Spark manages data and how can you read and write tables from Python.\n",
        "\n"
      ]
    },
    {
      "cell_type": "markdown",
      "metadata": {
        "id": "tnMBBEh7qyst"
      },
      "source": [
        "## 1.1 What is Spark, anyway?\n"
      ]
    },
    {
      "cell_type": "markdown",
      "metadata": {
        "id": "SkGpNqdks7Ec"
      },
      "source": [
        "Spark is a platform for cluster computing. Spark lets you spread data and computations over _clusters_ with multiple _nodes_ (think of each node as a separate computer). Splitting up your data makes it easier to work with very large datasets because each node only works with a small amount of data.\n",
        "\n",
        "As each node works on its own subset of the total data, it also carries out a part of the total calculations required, so that both data processing and computation are performed _in parallel_ over the nodes in the cluster. It is a fact that parallel computation can make certain types of programming tasks much faster.\n",
        "\n",
        "However, with greater computing power comes greater complexity.\n",
        "\n",
        "Deciding whether or not Spark is the best solution for your problem takes some experience, but you can consider questions like:\n",
        "\n",
        "- Is my data too big to work with on a single machine?\n",
        "- Can my calculations be easily parallelized?\n",
        "\n",
        "* * *\n",
        "\n",
        "Are you excited to learn more about Spark?\n",
        "\n",
        "##### Answer the question\n",
        "\n",
        "**50XP**\n",
        "\n",
        "#### Possible Answers\n",
        "\n",
        "- No way!\n",
        "    \n",
        "- Yes way!\n",
        "    \n"
      ]
    },
    {
      "cell_type": "markdown",
      "metadata": {
        "id": "yEQ7eXQ4qzOn"
      },
      "source": [
        "## 1.2 Using Spark in Python\n"
      ]
    },
    {
      "cell_type": "markdown",
      "metadata": {
        "id": "pviVlHwWtI7W"
      },
      "source": [
        "The first step in using Spark is connecting to a cluster.\n",
        "\n",
        "In practice, the cluster will be hosted on a remote machine that's connected to all other nodes. There will be one computer, called the _master_ that manages splitting up the data and the computations. The master is connected to the rest of the computers in the cluster, which are called _worker_. The master sends the workers data and calculations to run, and they send their results back to the master.\n",
        "\n",
        "When you're just getting started with Spark it's simpler to just run a cluster locally. Thus, for this course, instead of connecting to another computer, all computations will be run on DataCamp's servers in a simulated cluster.\n",
        "\n",
        "Creating the connection is as simple as creating an instance of the `SparkContext` class. The class constructor takes a few optional arguments that allow you to specify the attributes of the cluster you're connecting to.\n",
        "\n",
        "An object holding all these attributes can be created with the `SparkConf()` constructor. Take a look at the [documentation](http://spark.apache.org/docs/2.1.0/api/python/pyspark.html) for all the details!\n",
        "\n",
        "For the rest of this course you'll have a `SparkContext` called `sc` already available in your workspace.\n",
        "\n",
        "* * *\n",
        "\n",
        "How do you connect to a Spark cluster from PySpark?\n",
        "\n",
        "##### Answer the question\n",
        "\n",
        "**50XP**\n",
        "\n",
        "#### Possible Answers\n",
        "\n",
        "- **Create an instance of the `SparkContext` class.**\n",
        "\n",
        "- Import the `pyspark` library.\n",
        "    \n",
        "- Plug your computer into the cluster.\n",
        "    \n",
        "    \n",
        "Great job! I knew you were paying attention."
      ]
    },
    {
      "cell_type": "markdown",
      "metadata": {
        "id": "d9kGVnP-qzUd"
      },
      "source": [
        "## 1.3 Examining The SparkContext\n"
      ]
    },
    {
      "cell_type": "markdown",
      "metadata": {
        "id": "gs2w4B6Htodz"
      },
      "source": [
        "In this exercise you'll get familiar with the `SparkContext`.\n",
        "\n",
        "You'll probably notice that code takes longer to run than you might expect. This is because Spark is some serious software. It takes more time to start up than you might be used to. You may also find that running simpler computations might take longer than expected. That's because all the optimizations that Spark has under its hood are designed for complicated operations with big data sets. That means that for simple or small problems Spark may actually perform worse than some other solutions!\n",
        "\n",
        "##### Instructions\n",
        "\n",
        "**100 XP**\n",
        "\n",
        "Get to know the `SparkContext`.\n",
        "\n",
        "- Call `print()` on `sc` to verify there's a `SparkContext` in your environment.\n",
        "- `print()` `sc.version` to see what version of Spark is running on your cluster."
      ]
    },
    {
      "cell_type": "code",
      "execution_count": 6,
      "metadata": {
        "id": "SzRGdfapum-Z"
      },
      "outputs": [],
      "source": [
        "sc = pyspark.SparkContext()\n"
      ]
    },
    {
      "cell_type": "code",
      "execution_count": 7,
      "metadata": {
        "colab": {
          "base_uri": "https://localhost:8080/"
        },
        "id": "Yvb7x9Katxvq",
        "outputId": "4edc1f7b-f3cd-40e9-e13b-d63130d58a2d"
      },
      "outputs": [
        {
          "name": "stdout",
          "output_type": "stream",
          "text": [
            "<SparkContext master=local[*] appName=pyspark-shell>\n",
            "3.2.0\n"
          ]
        }
      ],
      "source": [
        "# Verify SparkContext\n",
        "print(sc)\n",
        "\n",
        "# Print Spark version\n",
        "print(sc.version)"
      ]
    },
    {
      "cell_type": "markdown",
      "metadata": {
        "id": "BXqHePaxu4cQ"
      },
      "source": [
        "Awesome! You're up and running with Spark.\n",
        "\n"
      ]
    },
    {
      "cell_type": "markdown",
      "metadata": {
        "id": "fcRa4l0vqzZc"
      },
      "source": [
        "## 1.4 Using DataFrames\n"
      ]
    },
    {
      "cell_type": "markdown",
      "metadata": {
        "id": "0i7UF8Bcu9-i"
      },
      "source": [
        "Spark's core data structure is the Resilient Distributed Dataset (RDD). This is a low level object that lets Spark work its magic by splitting data across multiple nodes in the cluster. However, RDDs are hard to work with directly, so in this course you'll be using the Spark DataFrame abstraction built on top of RDDs.\n",
        "\n",
        "The Spark DataFrame was designed to behave a lot like a SQL table (a table with variables in the columns and observations in the rows). Not only are they easier to understand, DataFrames are also more optimized for complicated operations than RDDs.\n",
        "\n",
        "When you start modifying and combining columns and rows of data, there are many ways to arrive at the same result, but some often take much longer than others. When using RDDs, it's up to the data scientist to figure out the right way to optimize the query, but the DataFrame implementation has much of this optimization built in!\n",
        "\n",
        "To start working with Spark DataFrames, you first have to create a `SparkSession` object from your `SparkContext`. You can think of the `SparkContext` as your connection to the cluster and the `SparkSession` as your interface with that connection.\n",
        "\n",
        "Remember, for the rest of this course you'll have a `SparkSession` called `spark` available in your workspace!\n",
        "\n",
        "* * *\n",
        "\n",
        "Which of the following is an advantage of Spark DataFrames over RDDs?\n",
        "\n",
        "##### Answer the question\n",
        "\n",
        "**50XP**\n",
        "\n",
        "#### Possible Answers\n",
        "\n",
        "- **Operations using DataFrames are automatically optimized.**\n",
        "    \n",
        "- They are smaller.\n",
        "    \n",
        "- They can perform more kinds of operations.\n",
        "        \n",
        "- They can hold more kinds of data.\n",
        "\n",
        "Exactly! This is another way DataFrames are like SQL tables."
      ]
    },
    {
      "cell_type": "markdown",
      "metadata": {
        "id": "Q0B3wcGbqzeT"
      },
      "source": [
        "## 1.5 Creating a SparkSession\n"
      ]
    },
    {
      "cell_type": "markdown",
      "metadata": {
        "id": "KsEXmTGyvTxK"
      },
      "source": []
    },
    {
      "cell_type": "code",
      "execution_count": 9,
      "metadata": {
        "colab": {
          "base_uri": "https://localhost:8080/"
        },
        "id": "CgNvEy1mvT-m",
        "outputId": "8e33c17f-5213-4458-bc2e-ddaf16e058cc"
      },
      "outputs": [
        {
          "name": "stdout",
          "output_type": "stream",
          "text": [
            "<pyspark.sql.session.SparkSession object at 0x7f537909d3d0>\n"
          ]
        }
      ],
      "source": [
        "# Import SparkSession from pyspark.sql\n",
        "from pyspark.sql import SparkSession\n",
        "\n",
        "# Create my_spark\n",
        "my_spark = SparkSession.builder.getOrCreate()\n",
        "\n",
        "# Print my_spark\n",
        "print(my_spark)"
      ]
    },
    {
      "cell_type": "markdown",
      "metadata": {
        "id": "QWSKav2fvcwK"
      },
      "source": [
        "Great work! You did that like a PySpark Pro!\n",
        "\n"
      ]
    },
    {
      "cell_type": "markdown",
      "metadata": {
        "id": "rjZF5g0iqzir"
      },
      "source": [
        "## 1.6 Viewing tables\n"
      ]
    },
    {
      "cell_type": "markdown",
      "metadata": {
        "id": "rzgUwb6GvkMN"
      },
      "source": [
        "Once you've created a `SparkSession`, you can start poking around to see what data is in your cluster!\n",
        "\n",
        "Your `SparkSession` has an attribute called `catalog` which lists all the data inside the cluster. This attribute has a few methods for extracting different pieces of information.\n",
        "\n",
        "One of the most useful is the `.listTables()` method, which returns the names of all the tables in your cluster as a list.\n",
        "\n",
        "##### Instructions\n",
        "\n",
        "**100 XP**\n",
        "\n",
        "- See what tables are in your cluster by calling `spark.catalog.listTables()` and printing the result!"
      ]
    },
    {
      "cell_type": "code",
      "execution_count": null,
      "metadata": {
        "id": "XQOyG81-vuxg"
      },
      "outputs": [],
      "source": [
        "spark = (SparkSession\n",
        "  .builder\n",
        "  .appName(\"flights\")\n",
        "  .getOrCreate())\n",
        "\n",
        "# Path to data set\n",
        "csv_file = \"./dataset/flights_small.csv\"\n",
        "\n",
        "# Read and create a temporary view\n",
        "# Infer schema (note that for larger files you \n",
        "# may want to specify the schema)\n",
        "flights = (spark.read.format(\"csv\")\n",
        "  .option(\"inferSchema\", \"true\")\n",
        "  .option(\"header\", \"true\")\n",
        "  .load(csv_file))\n",
        "flights.createOrReplaceTempView(\"flights\")"
      ]
    },
    {
      "cell_type": "code",
      "execution_count": 10,
      "metadata": {
        "id": "jdVpytMSvkXL"
      },
      "outputs": [],
      "source": [
        "# Print the tables in the catalog\n",
        "print(spark.catalog.listTables())"
      ]
    },
    {
      "cell_type": "markdown",
      "metadata": {
        "id": "XN4DpevHwDhz"
      },
      "source": [
        "Fantastic! What kind of data do you think is in that table?\n",
        "\n"
      ]
    },
    {
      "cell_type": "markdown",
      "metadata": {
        "id": "DmYBUR_zqznf"
      },
      "source": [
        "## 1.7 Are you query-ious?\n"
      ]
    },
    {
      "cell_type": "markdown",
      "metadata": {
        "id": "4d4RBXKcwBP5"
      },
      "source": [
        "One of the advantages of the DataFrame interface is that you can run SQL queries on the tables in your Spark cluster. If you don't have any experience with SQL, don't worry, we'll provide you with queries! (To learn more SQL, start with our [Introduction to SQL](https://www.datacamp.com/courses/intro-to-sql-for-data-science) course.)\n",
        "\n",
        "As you saw in the last exercise, one of the tables in your cluster is the `flights` table. This table contains a row for every flight that left Portland International Airport (PDX) or Seattle-Tacoma International Airport (SEA) in 2014 and 2015.\n",
        "\n",
        "Running a query on this table is as easy as using the `.sql()` method on your `SparkSession`. This method takes a string containing the query and returns a DataFrame with the results!\n",
        "\n",
        "If you look closely, you'll notice that the table `flights` is only mentioned in the query, not as an argument to any of the methods. This is because there isn't a local object in your environment that holds that data, so it wouldn't make sense to pass the table as an argument.\n",
        "\n",
        "Remember, we've already created a `SparkSession` called `spark` in your workspace. (It's no longer called `my_spark` because we created it for you!)\n",
        "\n",
        "##### Instructions\n",
        "\n",
        "**100 XP**\n",
        "\n",
        "##### Instructions\n",
        "\n",
        "**100 XP**\n",
        "\n",
        "- Use the `.sql()` method to get the first 10 rows of the `flights` table and save the result to `flights10`. The variable `query` contains the appropriate SQL query.\n",
        "- Use the DataFrame method `.show()` to print `flights10`."
      ]
    },
    {
      "cell_type": "code",
      "execution_count": null,
      "metadata": {
        "id": "1qRLsspZwI76"
      },
      "outputs": [],
      "source": [
        "# Don't change this query\n",
        "query = \"FROM flights SELECT * LIMIT 10\"\n",
        "\n",
        "# Get the first 10 rows of flights\n",
        "flights10 = spark.sql(query)\n",
        "\n",
        "# Show the results\n",
        "flights10.show()"
      ]
    },
    {
      "cell_type": "markdown",
      "metadata": {
        "id": "euDJ6USSwJKP"
      },
      "source": [
        "Awesome work! You've got queries down!\n",
        "\n"
      ]
    },
    {
      "cell_type": "markdown",
      "metadata": {
        "id": "S1QNbBEUqzsR"
      },
      "source": [
        "## 1.8 Pandafy a Spark DataFrame\n"
      ]
    },
    {
      "cell_type": "markdown",
      "metadata": {
        "id": "WukaM-Yzwdhf"
      },
      "source": [
        "Suppose you've run a query on your huge dataset and aggregated it down to something a little more manageable.\n",
        "\n",
        "Sometimes it makes sense to then take that table and work with it locally using a tool like `pandas`. Spark DataFrames make that easy with the `.toPandas()` method. Calling this method on a Spark DataFrame returns the corresponding `pandas` DataFrame. It's as simple as that!\n",
        "\n",
        "This time the query counts the number of flights to each airport from SEA and PDX.\n",
        "\n",
        "Remember, there's already a `SparkSession` called `spark` in your workspace!\n",
        "\n",
        "##### Instructions\n",
        "\n",
        "**100 XP**\n",
        "\n",
        "- Run the query using the `.sql()` method. Save the result in `flight_counts`.\n",
        "- Use the `.toPandas()` method on `flight_counts` to create a `pandas` DataFrame called `pd_counts`.\n",
        "- Print the `.head()` of `pd_counts` to the console."
      ]
    },
    {
      "cell_type": "code",
      "execution_count": null,
      "metadata": {
        "id": "CG8z1Plrwdv6"
      },
      "outputs": [],
      "source": [
        "# Don't change this query\n",
        "query = \"SELECT origin, dest, COUNT(*) as N FROM flights GROUP BY origin, dest\"\n",
        "\n",
        "# Run the query\n",
        "flight_counts = spark.sql(query)\n",
        "\n",
        "# Convert the results to a pandas DataFrame\n",
        "pd_counts = flight_counts.toPandas()\n",
        "\n",
        "# Print the head of pd_counts\n",
        "print(pd_counts.head())"
      ]
    },
    {
      "cell_type": "markdown",
      "metadata": {
        "id": "43s85wI9wd6k"
      },
      "source": [
        "Great job! You did it!\n",
        "\n"
      ]
    },
    {
      "cell_type": "markdown",
      "metadata": {
        "id": "utgKcpZ_qzwn"
      },
      "source": [
        "## 1.9 Put some Spark in your data\n"
      ]
    },
    {
      "cell_type": "markdown",
      "metadata": {
        "id": "Uk46I7onw7Eb"
      },
      "source": [
        "In the last exercise, you saw how to move data from Spark to `pandas`. However, maybe you want to go the other direction, and put a `pandas` DataFrame into a Spark cluster! The `SparkSession` class has a method for this as well.\n",
        "\n",
        "The `.createDataFrame()` method takes a `pandas` DataFrame and returns a Spark DataFrame.\n",
        "\n",
        "The output of this method is stored locally, not in the `SparkSession` catalog. This means that you can use all the Spark DataFrame methods on it, but you can't access the data in other contexts.\n",
        "\n",
        "For example, a SQL query (using the `.sql()` method) that references your DataFrame will throw an error. To access the data in this way, you have to save it as a _temporary table_.\n",
        "\n",
        "You can do this using the `.createTempView()` Spark DataFrame method, which takes as its only argument the name of the temporary table you'd like to register. This method registers the DataFrame as a table in the catalog, but as this table is temporary, it can only be accessed from the specific `SparkSession` used to create the Spark DataFrame.\n",
        "\n",
        "There is also the method `.createOrReplaceTempView()`. This safely creates a new temporary table if nothing was there before, or updates an existing table if one was already defined. You'll use this method to avoid running into problems with duplicate tables.\n",
        "\n",
        "Check out the diagram to see all the different ways your Spark data structures interact with each other.\n",
        "\n",
        "![](https://s3.amazonaws.com/assets.datacamp.com/production/course_4452/datasets/spark_figure.png)\n",
        "\n",
        "![image.png](data:image/png;base64,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)\n",
        "\n",
        "There's already a `SparkSession` called `spark` in your workspace, `numpy` has been imported as `np`, and `pandas` as `pd`.\n",
        "\n",
        "##### Instructions\n",
        "\n",
        "**100 XP**\n",
        "\n",
        "##### Instructions\n",
        "\n",
        "**100 XP**\n",
        "\n",
        "- The code to create a `pandas` DataFrame of random numbers has already been provided and saved under `pd_temp`.\n",
        "- Create a Spark DataFrame called `spark_temp` by calling the Spark method `.createDataFrame()` with `pd_temp` as the argument.\n",
        "- Examine the list of tables in your Spark cluster and verify that the new DataFrame is _not_ present. Remember you can use `spark.catalog.listTables()` to do so.\n",
        "- Register the `spark_temp` DataFrame you just created as a temporary table using the `.createOrReplaceTempView()` method. THe temporary table should be named `\"temp\"`. Remember that the table name is set including it as the only argument to your method!\n",
        "- Examine the list of tables again."
      ]
    },
    {
      "cell_type": "code",
      "execution_count": null,
      "metadata": {
        "id": "vNjd6cMZxWBd"
      },
      "outputs": [],
      "source": [
        "# Create pd_temp\n",
        "pd_temp = pd.DataFrame(np.random.random(10))\n",
        "\n",
        "# Create spark_temp from pd_temp\n",
        "spark_temp = spark.createDataFrame(pd_temp)\n",
        "\n",
        "# Examine the tables in the catalog\n",
        "print(spark.catalog.listTables())\n",
        "\n",
        "# Add spark_temp to the catalog\n",
        "spark_temp.createOrReplaceTempView('temp')\n",
        "\n",
        "# Examine the tables in the catalog again\n",
        "print(spark.catalog.listTables())"
      ]
    },
    {
      "cell_type": "markdown",
      "metadata": {
        "id": "kUAvzNCHw7Oj"
      },
      "source": [
        "Awesome! Now you can get your data in and out of Spark.\n",
        "\n"
      ]
    },
    {
      "cell_type": "markdown",
      "metadata": {
        "id": "g6cefpYzqz0_"
      },
      "source": [
        "## 1.10 Dropping the middle man"
      ]
    },
    {
      "cell_type": "markdown",
      "metadata": {
        "id": "2759EzJMxazr"
      },
      "source": [
        "Now you know how to put data into Spark via `pandas`, but you're probably wondering why deal with `pandas` at all? Wouldn't it be easier to just read a text file straight into Spark? Of course it would!\n",
        "\n",
        "Luckily, your `SparkSession` has a `.read` attribute which has several methods for reading different data sources into Spark DataFrames. Using these you can create a DataFrame from a .csv file just like with regular `pandas` DataFrames!\n",
        "\n",
        "The variable `file_path` is a string with the path to the file `airports.csv`. This file contains information about different airports all over the world.\n",
        "\n",
        "A `SparkSession` named `spark` is available in your workspace.\n",
        "\n",
        "##### Instructions\n",
        "\n",
        "**100 XP**\n",
        "\n",
        "##### Instructions\n",
        "\n",
        "**100 XP**\n",
        "\n",
        "- Use the `.read.csv()` method to create a Spark DataFrame called `airports`\n",
        "    - The first argument is `file_path`\n",
        "    - Pass the argument `header=True` so that Spark knows to take the column names from the first line of the file.\n",
        "- Print out this DataFrame by calling `.show()`."
      ]
    },
    {
      "cell_type": "code",
      "execution_count": null,
      "metadata": {
        "id": "pxP_dO9axf-p"
      },
      "outputs": [],
      "source": [
        "# Don't change this file path\n",
        "file_path = \"/usr/local/share/datasets/airports.csv\"\n",
        "\n",
        "# Read in the airports data\n",
        "airports = spark.read.csv(file_path, header=True)\n",
        "\n",
        "# Show the data\n",
        "airports.show()\n"
      ]
    },
    {
      "cell_type": "markdown",
      "metadata": {
        "id": "nWXEdYSR3zV6"
      },
      "source": [
        "Awesome job! You've got the basics of Spark under your belt!\n",
        "\n"
      ]
    },
    {
      "cell_type": "markdown",
      "metadata": {
        "id": "Cqph6Ncuqz5s"
      },
      "source": [
        "# 2. Manipulating data\n",
        "\n",
        "In this chapter, you'll learn about the pyspark.sql module, which provides optimized data queries to your Spark session.\n",
        "\n",
        "\n"
      ]
    },
    {
      "cell_type": "markdown",
      "metadata": {
        "id": "Ng89AyCGrgrW"
      },
      "source": [
        "## 2.1 Creating columns\n"
      ]
    },
    {
      "cell_type": "markdown",
      "metadata": {
        "id": "-X4ahZ9J4FL9"
      },
      "source": [
        "In this chapter, you'll learn how to use the methods defined by Spark's `DataFrame` class to perform common data operations.\n",
        "\n",
        "Let's look at performing column-wise operations. In Spark you can do this using the `.withColumn()` method, which takes two arguments. First, a string with the name of your new column, and second the new column itself.\n",
        "\n",
        "The new column must be an object of class `Column`. Creating one of these is as easy as extracting a column from your DataFrame using `df.colName`.\n",
        "\n",
        "Updating a Spark DataFrame is somewhat different than working in `pandas` because the Spark DataFrame is _immutable_. This means that it can't be changed, and so columns can't be updated in place.\n",
        "\n",
        "Thus, all these methods return a new DataFrame. To overwrite the original DataFrame you must reassign the returned DataFrame using the method like so:\n",
        "\n",
        "```\n",
        "df = df.withColumn(\"newCol\", df.oldCol + 1)\n",
        "```\n",
        "\n",
        "The above code creates a DataFrame with the same columns as `df` plus a new column, `newCol`, where every entry is equal to the corresponding entry from `oldCol`, plus one.\n",
        "\n",
        "To overwrite an existing column, just pass the name of the column as the first argument!\n",
        "\n",
        "Remember, a `SparkSession` called `spark` is already in your workspace.\n",
        "\n",
        "##### Instructions\n",
        "\n",
        "**100 XP**\n",
        "\n",
        "- Use the `spark.table()` method with the argument `\"flights\"` to create a DataFrame containing the values of the `flights` table in the `.catalog`. Save it as `flights`.\n",
        "- Show the head of `flights` using `flights.show()`. Check the output: the column `air_time` contains the duration of the flight in minutes.\n",
        "- Update `flights` to include a new column called `duration_hrs`, that contains the duration of each flight in hours (you'll need to divide `air_time` by the number of minutes in an hour)."
      ]
    },
    {
      "cell_type": "code",
      "execution_count": null,
      "metadata": {
        "id": "s_YgWkSl4FfE"
      },
      "outputs": [],
      "source": [
        "# Create the DataFrame flights\n",
        "flights = spark.table('flights')\n",
        "\n",
        "# Show the head\n",
        "flights.show()\n",
        "\n",
        "# Add duration_hrs\n",
        "flights = flights.withColumn('duration_hrs', flights.air_time / 60)"
      ]
    },
    {
      "cell_type": "markdown",
      "metadata": {
        "id": "wr9d9YzIrhuX"
      },
      "source": [
        "## 2.2 SQL in a nutshell\n"
      ]
    },
    {
      "cell_type": "markdown",
      "metadata": {
        "id": "dzqLCJwV4PZN"
      },
      "source": [
        "As you move forward, it will help to have a basic understanding of SQL. A more in depth look can be found [here](https://www.datacamp.com/courses/intro-to-sql-for-data-science).\n",
        "\n",
        "A SQL query returns a table derived from one or more tables contained in a database.\n",
        "\n",
        "Every SQL query is made up of commands that tell the database what you want to do with the data. The two commands that every query has to contain are `SELECT` and `FROM`.\n",
        "\n",
        "The `SELECT` command is followed by the _columns_ you want in the resulting table.\n",
        "\n",
        "The `FROM` command is followed by the name of the table that contains those columns. The minimal SQL query is:\n",
        "\n",
        "```\n",
        "SELECT * FROM my_table;\n",
        "```\n",
        "\n",
        "The `*` selects all columns, so this returns the entire table named `my_table`.\n",
        "\n",
        "Similar to `.withColumn()`, you can do column-wise computations within a `SELECT` statement. For example,\n",
        "\n",
        "```\n",
        "SELECT origin, dest, air_time / 60 FROM flights;\n",
        "```\n",
        "\n",
        "returns a table with the origin, destination, and duration in hours for each flight.\n",
        "\n",
        "Another commonly used command is `WHERE`. This command filters the rows of the table based on some logical condition you specify. The resulting table contains the rows where your condition is true. For example, if you had a table of students and grades you could do:\n",
        "\n",
        "```\n",
        "SELECT * FROM students\n",
        "WHERE grade = 'A';\n",
        "```\n",
        "\n",
        "to select all the columns and the rows containing information about students who got As.\n",
        "\n",
        "* * *\n",
        "\n",
        "Which of the following queries returns a table of tail numbers and destinations for flights that lasted more than 10 hours?\n",
        "\n",
        "##### Answer the question\n",
        "\n",
        "**50XP**\n",
        "\n",
        "#### Possible Answers\n",
        "\n",
        "- `SELECT dest, tail_num FROM flights WHERE air_time > 10;`\n",
        "    \n",
        "    \n",
        "- **`SELECT dest, tail_num FROM flights WHERE air_time > 600;`**\n",
        "    \n",
        "    \n",
        "- `SELECT * FROM flights WHERE air_time > 600;`\n",
        "\n",
        "Great work! You're a SQL wizard!\n",
        "\n"
      ]
    },
    {
      "cell_type": "markdown",
      "metadata": {
        "id": "TK90uOglrimS"
      },
      "source": [
        "## 2.3 SQL in a nutshell (2)\n"
      ]
    },
    {
      "cell_type": "markdown",
      "metadata": {
        "id": "GrWjlQib4j1t"
      },
      "source": [
        "Another common database task is aggregation. That is, reducing your data by breaking it into chunks and summarizing each chunk.\n",
        "\n",
        "This is done in SQL using the `GROUP BY` command. This command breaks your data into groups and applies a function from your `SELECT` statement to each group.\n",
        "\n",
        "For example, if you wanted to count the number of flights from each of two origin destinations, you could use the query\n",
        "\n",
        "```\n",
        "SELECT COUNT(*) FROM flights\n",
        "GROUP BY origin;\n",
        "```\n",
        "\n",
        "`GROUP BY origin` tells SQL that you want the output to have a row for each unique value of the `origin` column. The `SELECT` statement selects the values you want to populate each of the columns. Here, we want to `COUNT()` every row in each of the groups.\n",
        "\n",
        "It's possible to `GROUP BY` more than one column. When you do this, the resulting table has a row for every combination of the unique values in each column. The following query counts the number of flights from SEA and PDX to every destination airport:\n",
        "\n",
        "```\n",
        "SELECT origin, dest, COUNT(*) FROM flights\n",
        "GROUP BY origin, dest;\n",
        "```\n",
        "\n",
        "The output will have a row for every combination of the values in `origin` and `dest` (i.e. a row listing each origin and destination that a flight flew to). There will also be a column with the `COUNT()` of all the rows in each group.\n",
        "\n",
        "Remember, a more in depth look at SQL can be found [here](https://www.datacamp.com/courses/intro-to-sql-for-data-science).\n",
        "\n",
        "* * *\n",
        "\n",
        "What information would this query get? Remember the `flights` table holds information about flights that departed PDX and SEA in 2014 and 2015. Note that `AVG()` function gets the average value of a column!\n",
        "\n",
        "```\n",
        "SELECT AVG(air_time) / 60 FROM flights\n",
        "GROUP BY origin, carrier;\n",
        "```\n",
        "\n",
        "##### Answer the question\n",
        "\n",
        "**50XP**\n",
        "\n",
        "#### Possible Answers\n",
        "\n",
        "- **The average length of each airline's flights from SEA and from PDX in hours.**\n",
        "    \n",
        "    \n",
        "- The average length of each flight.\n",
        "    \n",
        "    \n",
        "- The average length of each airline's flights.\n",
        "\n",
        "Awesome! You've got this SQL stuff down!\n",
        "\n"
      ]
    },
    {
      "cell_type": "markdown",
      "metadata": {
        "id": "4LpbLadJrisP"
      },
      "source": [
        "## 2.4 Filtering Data\n"
      ]
    },
    {
      "cell_type": "markdown",
      "metadata": {
        "id": "vcovan4W44a8"
      },
      "source": [
        "Now that you have a bit of SQL know-how under your belt, it's easier to talk about the analogous operations using Spark DataFrames.\n",
        "\n",
        "Let's take a look at the `.filter()` method. As you might suspect, this is the Spark counterpart of SQL's `WHERE` clause. The `.filter()` method takes either an expression that would follow the `WHERE` clause of a SQL expression as a string, or a Spark Column of boolean (`True`/`False`) values.\n",
        "\n",
        "For example, the following two expressions will produce the same output:\n",
        "\n",
        "```\n",
        "flights.filter(\"air_time > 120\").show()\n",
        "flights.filter(flights.air_time > 120).show()\n",
        "```\n",
        "\n",
        "Notice that in the first case, we pass a _string_ to `.filter()`. In SQL, we would write this filtering task as `SELECT * FROM flights WHERE air_time > 120`. Spark's `.filter()` can accept any expression that could go in the `WHERE`clause of a SQL query (in this case, `\"air_time > 120\"`), as long as it is passed as a string. Notice that in this case, we do not reference the name of the table in the string -- as we wouldn't in the SQL request.\n",
        "\n",
        "In the second case, we actually pass a _column of boolean values_ to `.filter()`. Remember that `flights.air_time > 120` returns a column of boolean values that has `True` in place of those records in `flights.air_time` that are over 120, and `False` otherwise.\n",
        "\n",
        "Remember, a `SparkSession` called `spark` is already in your workspace, along with the Spark DataFrame `flights`.\n",
        "\n",
        "##### Instructions\n",
        "\n",
        "**100 XP**\n",
        "\n",
        "- Use the `.filter()` method to find all the flights that flew over 1000 miles two ways:\n",
        "    - First, pass a SQL **string** to `.filter()` that checks whether the distance is greater than 1000. Save this as `long_flights1`.\n",
        "    - Then pass a column of boolean values to `.filter()` that checks the same thing. Save this as `long_flights2`.\n",
        "- Use `.show()` to print heads of both DataFrames and make sure they're actually equal!"
      ]
    },
    {
      "cell_type": "code",
      "execution_count": null,
      "metadata": {
        "id": "btGNBUGd444_"
      },
      "outputs": [],
      "source": [
        "# Filter flights by passing a string\n",
        "long_flights1 = flights.filter(\"distance > 1000\")\n",
        "\n",
        "# Filter flights by passing a column of boolean values\n",
        "long_flights2 = flights.filter(flights.distance > 1000)\n",
        "\n",
        "# Print the data to check they're equal\n",
        "long_flights1.show()\n",
        "long_flights2.show()"
      ]
    },
    {
      "cell_type": "markdown",
      "metadata": {
        "id": "9pGPqX535Ifo"
      },
      "source": [
        "Awesome! PySpark often provides a few different ways to get the same results.\n",
        "\n"
      ]
    },
    {
      "cell_type": "markdown",
      "metadata": {
        "id": "TPCu-9kjriy7"
      },
      "source": [
        "## 2.5 Selecting\n"
      ]
    },
    {
      "cell_type": "markdown",
      "metadata": {
        "id": "SwHyED7D5G4q"
      },
      "source": [
        "The Spark variant of SQL's `SELECT` is the `.select()` method. This method takes multiple arguments - one for each column you want to select. These arguments can either be the column name as a string (one for each column) or a column object (using the `df.colName` syntax). When you pass a column object, you can perform operations like addition or subtraction on the column to change the data contained in it, much like inside `.withColumn()`.\n",
        "\n",
        "The difference between `.select()` and `.withColumn()` methods is that `.select()` returns only the columns you specify, while `.withColumn()` returns all the columns of the DataFrame in addition to the one you defined. It's often a good idea to drop columns you don't need at the beginning of an operation so that you're not dragging around extra data as you're wrangling. In this case, you would use `.select()` and not `.withColumn()`.\n",
        "\n",
        "Remember, a SparkSession called `spark` is already in your workspace, along with the Spark DataFrame `flights`.\n",
        "\n",
        "##### Instructions\n",
        "\n",
        "**100 XP**\n",
        "\n",
        "- Select the columns `\"tailnum\"`, `\"origin\"`, and `\"dest\"` from `flights` by passing the column names as strings. Save this as `selected1`.\n",
        "- Select the columns `\"origin\"`, `\"dest\"`, and `\"carrier\"` using the `df.colName` syntax and then filter the result using both of the filters already defined for you (`filterA` and `filterB`) to only keep flights from SEA to PDX. Save this as `selected2`."
      ]
    },
    {
      "cell_type": "code",
      "execution_count": null,
      "metadata": {
        "id": "fKr9t5Sj5NyT"
      },
      "outputs": [],
      "source": [
        "# Select the first set of columns\n",
        "selected1 = flights.select(\"tailnum\", \"origin\", \"dest\")\n",
        "\n",
        "# Select the second set of columns\n",
        "temp = flights.select(flights.origin, flights.dest, flights.carrier)\n",
        "\n",
        "# Define first filter\n",
        "filterA = flights.origin == \"SEA\"\n",
        "\n",
        "# Define second filter\n",
        "filterB = flights.dest == \"PDX\"\n",
        "\n",
        "# Filter the data, first by filterA then by filterB\n",
        "selected2 = temp.filter(filterA).filter(filterB)\n"
      ]
    },
    {
      "cell_type": "markdown",
      "metadata": {
        "id": "X6acX4kO5Wj0"
      },
      "source": [
        "Great work! You're speeding right through this course!\n",
        "\n"
      ]
    },
    {
      "cell_type": "markdown",
      "metadata": {
        "id": "I38wEHiyri3c"
      },
      "source": [
        "## 2.6 Selecting II\n"
      ]
    },
    {
      "cell_type": "markdown",
      "metadata": {
        "id": "hbTfunG55xI4"
      },
      "source": [
        "Similar to SQL, you can also use the `.select()` method to perform column-wise operations. When you're selecting a column using the `df.colName` notation, you can perform any column operation and the `.select()` method will return the transformed column. For example,\n",
        "\n",
        "```\n",
        "flights.select(flights.air_time/60)\n",
        "```\n",
        "\n",
        "returns a column of flight durations in hours instead of minutes. You can also use the `.alias()` method to rename a column you're selecting. So if you wanted to `.select()` the column `duration_hrs` (which isn't in your DataFrame) you could do\n",
        "\n",
        "```\n",
        "flights.select((flights.air_time/60).alias(\"duration_hrs\"))\n",
        "```\n",
        "\n",
        "The equivalent Spark DataFrame method `.selectExpr()` takes SQL expressions as a string:\n",
        "\n",
        "```\n",
        "flights.selectExpr(\"air_time/60 as duration_hrs\")\n",
        "```\n",
        "\n",
        "with the SQL `as` keyword being equivalent to the `.alias()` method. To select multiple columns, you can pass multiple strings.\n",
        "\n",
        "Remember, a `SparkSession` called `spark` is already in your workspace, along with the Spark DataFrame `flights`.\n",
        "\n",
        "##### Instructions\n",
        "\n",
        "**100 XP**\n",
        "\n",
        "##### Instructions\n",
        "\n",
        "**100 XP**\n",
        "\n",
        "Create a table of the average speed of each flight both ways.\n",
        "\n",
        "- Calculate average speed by dividing the `distance` by the `air_time` (converted to hours). Use the `.alias()` method name this column `\"avg_speed\"`. Save the output as the variable `avg_speed`.\n",
        "- Select the columns `\"origin\", \"dest\", \"tailnum\"`, and `avg_speed` (without quotes!). Save this as `speed1`.\n",
        "- Create the same table using `.selectExpr()` and a string containing a SQL expression. Save this as `speed2`."
      ]
    },
    {
      "cell_type": "code",
      "execution_count": null,
      "metadata": {
        "id": "fPRTf-c25xXc"
      },
      "outputs": [],
      "source": [
        "# Define avg_speed\n",
        "avg_speed = (flights.distance/(flights.air_time/60)).alias(\"avg_speed\")\n",
        "\n",
        "# Select the correct columns\n",
        "speed1 = flights.select(\"origin\", \"dest\", \"tailnum\", avg_speed)\n",
        "\n",
        "# Create the same table using a SQL expression\n",
        "speed2 = flights.selectExpr(\"origin\", \"dest\", \"tailnum\", \"distance/(air_time/60) as avg_speed\")"
      ]
    },
    {
      "cell_type": "markdown",
      "metadata": {
        "id": "xsdhOald54MK"
      },
      "source": [
        "Wow! You're doing great!\n",
        "\n"
      ]
    },
    {
      "cell_type": "markdown",
      "metadata": {
        "id": "0Z7vXAMari8v"
      },
      "source": [
        "## 2.7 Aggregating\n"
      ]
    },
    {
      "cell_type": "markdown",
      "metadata": {
        "id": "Mjkmqr6B6qgz"
      },
      "source": [
        "All of the common aggregation methods, like `.min()`, `.max()`, and `.count()` are `GroupedData` methods. These are created by calling the `.groupBy()` DataFrame method. You'll learn exactly what that means in a few exercises. For now, all you have to do to use these functions is call that method on your DataFrame. For example, to find the minimum value of a column, `col`, in a DataFrame, `df`, you could do\n",
        "\n",
        "```\n",
        "df.groupBy().min(\"col\").show()\n",
        "```\n",
        "\n",
        "This creates a `GroupedData` object (so you can use the `.min()` method), then finds the minimum value in `col`, and returns it as a DataFrame.\n",
        "\n",
        "Now you're ready to do some aggregating of your own!\n",
        "\n",
        "A `SparkSession` called `spark` is already in your workspace, along with the Spark DataFrame `flights`.\n",
        "\n",
        "##### Instructions\n",
        "\n",
        "**100 XP**\n",
        "\n",
        "- Find the length of the shortest (in terms of distance) flight that left PDX by first `.filter()`ing and using the `.min()` method. Perform the filtering by referencing the column directly, not passing a SQL string.\n",
        "- Find the length of the longest (in terms of time) flight that left SEA by `filter()`ing and using the `.max()` method. Perform the filtering by referencing the column directly, not passing a SQL string."
      ]
    },
    {
      "cell_type": "code",
      "execution_count": null,
      "metadata": {
        "id": "W_DIKW726quZ"
      },
      "outputs": [],
      "source": [
        "# Find the shortest flight from PDX in terms of distance\n",
        "flights.filter(flights.origin == 'PDX').groupBy().min('distance').show()\n",
        "\n",
        "# Find the longest flight from SEA in terms of air time\n",
        "flights.filter(flights.origin == 'SEA').groupBy().max('air_time').show()\n"
      ]
    },
    {
      "cell_type": "markdown",
      "metadata": {
        "id": "Ms065T-66tKS"
      },
      "source": [
        "Fantastic work! How do these methods help you learn about your data?\n",
        "\n"
      ]
    },
    {
      "cell_type": "markdown",
      "metadata": {
        "id": "H1a-w16krjBr"
      },
      "source": [
        "## 2.8 Aggregating II\n"
      ]
    },
    {
      "cell_type": "markdown",
      "metadata": {
        "id": "AtpbJvIu62Hi"
      },
      "source": [
        "To get you familiar with more of the built in aggregation methods, here's a few more exercises involving the `flights` table!\n",
        "\n",
        "Remember, a `SparkSession` called `spark` is already in your workspace, along with the Spark DataFrame `flights`.\n",
        "\n",
        "##### Instructions\n",
        "\n",
        "**100 XP**\n",
        "\n",
        "- Use the `.avg()` method to get the average air time of Delta Airlines flights (where the `carrier` column has the value `\"DL\"`) that left SEA. The place of departure is stored in the column `origin`. `show()` the result.\n",
        "- Use the `.sum()` method to get the total number of hours all planes in this dataset spent in the air by creating a column called `duration_hrs` from the column `air_time`. `show()` the result."
      ]
    },
    {
      "cell_type": "code",
      "execution_count": null,
      "metadata": {
        "id": "0eocX9IJ69-o"
      },
      "outputs": [],
      "source": [
        "# Average duration of Delta flights\n",
        "flights.filter(flights.carrier == 'DL').filter(flights.origin == 'SEA').groupBy().avg('air_time').show()\n",
        "\n",
        "# Total hours in the air\n",
        "flights.withColumn('duration_hrs', flights.air_time / 60).groupBy().sum('duration_hrs').show()\n"
      ]
    },
    {
      "cell_type": "markdown",
      "metadata": {
        "id": "RWYEst7t6_Ys"
      },
      "source": [
        "Stellar job! Now you can answer some interesting questions about the data.\n",
        "\n",
        "```python\n",
        "<script.py> output:\n",
        "    +------------------+\n",
        "    |     avg(air_time)|\n",
        "    +------------------+\n",
        "    |188.20689655172413|\n",
        "    +------------------+\n",
        "    \n",
        "    +------------------+\n",
        "    | sum(duration_hrs)|\n",
        "    +------------------+\n",
        "    |25289.600000000126|\n",
        "    +------------------+\n",
        "    \n",
        "\n",
        "```"
      ]
    },
    {
      "cell_type": "markdown",
      "metadata": {
        "id": "3rH84x7VrjGr"
      },
      "source": [
        "## 2.9 Grouping and Aggregating I\n"
      ]
    },
    {
      "cell_type": "markdown",
      "metadata": {
        "id": "AN7PxE6J7KDv"
      },
      "source": [
        "Part of what makes aggregating so powerful is the addition of groups. PySpark has a whole class devoted to grouped data frames: `pyspark.sql.GroupedData`, which you saw in the last two exercises.\n",
        "\n",
        "You've learned how to create a grouped DataFrame by calling the `.groupBy()` method on a DataFrame with no arguments.\n",
        "\n",
        "Now you'll see that when you pass the name of one or more columns in your DataFrame to the `.groupBy()` method, the aggregation methods behave like when you use a `GROUP BY` statement in a SQL query!\n",
        "\n",
        "Remember, a `SparkSession` called `spark` is already in your workspace, along with the Spark DataFrame `flights`.\n",
        "\n",
        "##### Instructions\n",
        "\n",
        "**100 XP**\n",
        "\n",
        "##### Instructions\n",
        "\n",
        "**100 XP**\n",
        "\n",
        "- Create a DataFrame called `by_plane` that is grouped by the column `tailnum`.\n",
        "- Use the `.count()` method with no arguments to count the number of flights each plane made.\n",
        "- Create a DataFrame called `by_origin` that is grouped by the column `origin`.\n",
        "- Find the `.avg()` of the `air_time` column to find average duration of flights from PDX and SEA."
      ]
    },
    {
      "cell_type": "code",
      "execution_count": null,
      "metadata": {
        "id": "OYV3Ugje7ev6"
      },
      "outputs": [],
      "source": [
        "# Group by tailnum\n",
        "by_plane = flights.groupBy('tailnum')\n",
        "\n",
        "# Number of flights each plane made\n",
        "by_plane.count().show()\n",
        "\n",
        "# Group by origin\n",
        "by_origin = flights.groupBy(\"origin\")\n",
        "\n",
        "# Average duration of flights from PDX and SEA\n",
        "by_origin.avg('air_time').show()"
      ]
    },
    {
      "cell_type": "markdown",
      "metadata": {
        "id": "PDYN-ceU7ijr"
      },
      "source": [
        "Great work! You're passing with flying colors!\n",
        "\n",
        "```python\n",
        "<script.py> output:\n",
        "    +-------+-----+\n",
        "    |tailnum|count|\n",
        "    +-------+-----+\n",
        "    | N442AS|   38|\n",
        "    | N102UW|    2|\n",
        "    | N36472|    4|\n",
        "    | N38451|    4|\n",
        "    | N73283|    4|\n",
        "    | N513UA|    2|\n",
        "    | N954WN|    5|\n",
        "    | N388DA|    3|\n",
        "    | N567AA|    1|\n",
        "    | N516UA|    2|\n",
        "    | N927DN|    1|\n",
        "    | N8322X|    1|\n",
        "    | N466SW|    1|\n",
        "    |  N6700|    1|\n",
        "    | N607AS|   45|\n",
        "    | N622SW|    4|\n",
        "    | N584AS|   31|\n",
        "    | N914WN|    4|\n",
        "    | N654AW|    2|\n",
        "    | N336NW|    1|\n",
        "    +-------+-----+\n",
        "    only showing top 20 rows\n",
        "    \n",
        "    +------+------------------+\n",
        "    |origin|     avg(air_time)|\n",
        "    +------+------------------+\n",
        "    |   SEA| 160.4361496051259|\n",
        "    |   PDX|137.11543248288737|\n",
        "    +------+------------------+\n",
        "    \n",
        "```"
      ]
    },
    {
      "cell_type": "markdown",
      "metadata": {
        "id": "Qy8HBMEMrjLt"
      },
      "source": [
        "## 2.10 Grouping and Aggregating II\n"
      ]
    },
    {
      "cell_type": "markdown",
      "metadata": {
        "id": "EqeIzN477fT0"
      },
      "source": [
        "In addition to the `GroupedData` methods you've already seen, there is also the `.agg()` method. This method lets you pass an aggregate column expression that uses any of the aggregate functions from the `pyspark.sql.functions` submodule.\n",
        "\n",
        "This submodule contains many useful functions for computing things like standard deviations. All the aggregation functions in this submodule take the name of a column in a `GroupedData` table.\n",
        "\n",
        "Remember, a `SparkSession` called `spark` is already in your workspace, along with the Spark DataFrame `flights`. The grouped DataFrames you created in the last exercise are also in your workspace.\n",
        "\n",
        "##### Instructions\n",
        "\n",
        "**100 XP**\n",
        "\n",
        "##### Instructions\n",
        "\n",
        "**100 XP**\n",
        "\n",
        "- Import the submodule `pyspark.sql.functions` as `F`.\n",
        "- Create a `GroupedData` table called `by_month_dest` that's grouped by both the `month` and `dest` columns. Refer to the two columns by passing both strings as separate arguments.\n",
        "- Use the `.avg()` method on the `by_month_dest` DataFrame to get the average `dep_delay` in each month for each destination.\n",
        "- Find the standard deviation of `dep_delay` by using the `.agg()` method with the function `F.stddev()`."
      ]
    },
    {
      "cell_type": "code",
      "execution_count": null,
      "metadata": {
        "id": "gFdDm81U8Gl4"
      },
      "outputs": [],
      "source": [
        "# Import pyspark.sql.functions as F\n",
        "import pyspark.sql.functions as F\n",
        "\n",
        "# Group by month and est\n",
        "by_month_dest = flights.groupBy('month', 'dest')\n",
        "\n",
        "# Average departure delay by month and destination\n",
        "by_month_dest.avg('dep_delay').show()\n",
        "\n",
        "# Standard deviation of departure delay\n",
        "by_month_dest.agg(F.stddev('dep_delay')).show()"
      ]
    },
    {
      "cell_type": "markdown",
      "metadata": {
        "id": "hvz9WamI8RZy"
      },
      "source": [
        "Amazing! You're learning so much from just a few simple methods!\n",
        "\n",
        "```python\n",
        "<script.py> output:\n",
        "    +-----+----+--------------------+\n",
        "    |month|dest|      avg(dep_delay)|\n",
        "    +-----+----+--------------------+\n",
        "    |   11| TUS| -2.3333333333333335|\n",
        "    |   11| ANC|   7.529411764705882|\n",
        "    |    1| BUR|               -1.45|\n",
        "    |    1| PDX| -5.6923076923076925|\n",
        "    |    6| SBA|                -2.5|\n",
        "    |    5| LAX|-0.15789473684210525|\n",
        "    |   10| DTW|                 2.6|\n",
        "    |    6| SIT|                -1.0|\n",
        "    |   10| DFW|  18.176470588235293|\n",
        "    |    3| FAI|                -2.2|\n",
        "    |   10| SEA|                -0.8|\n",
        "    |    2| TUS| -0.6666666666666666|\n",
        "    |   12| OGG|  25.181818181818183|\n",
        "    |    9| DFW|   4.066666666666666|\n",
        "    |    5| EWR|               14.25|\n",
        "    |    3| RDM|                -6.2|\n",
        "    |    8| DCA|                 2.6|\n",
        "    |    7| ATL|   4.675675675675675|\n",
        "    |    4| JFK| 0.07142857142857142|\n",
        "    |   10| SNA| -1.1333333333333333|\n",
        "    +-----+----+--------------------+\n",
        "    only showing top 20 rows\n",
        "    \n",
        "    +-----+----+----------------------+\n",
        "    |month|dest|stddev_samp(dep_delay)|\n",
        "    +-----+----+----------------------+\n",
        "    |   11| TUS|    3.0550504633038935|\n",
        "    |   11| ANC|    18.604716401245316|\n",
        "    |    1| BUR|     15.22627576540667|\n",
        "    |    1| PDX|     5.677214918493858|\n",
        "    |    6| SBA|     2.380476142847617|\n",
        "    |    5| LAX|     13.36268698685904|\n",
        "    |   10| DTW|     5.639148871948674|\n",
        "    |    6| SIT|                   NaN|\n",
        "    |   10| DFW|     45.53019017606675|\n",
        "    |    3| FAI|    3.1144823004794873|\n",
        "    |   10| SEA|     18.70523227029577|\n",
        "    |    2| TUS|    14.468356276140469|\n",
        "    |   12| OGG|     82.64480404939947|\n",
        "    |    9| DFW|    21.728629347782924|\n",
        "    |    5| EWR|     42.41595968929191|\n",
        "    |    3| RDM|      2.16794833886788|\n",
        "    |    8| DCA|     9.946523680831074|\n",
        "    |    7| ATL|    22.767001039582183|\n",
        "    |    4| JFK|     8.156774303176903|\n",
        "    |   10| SNA|    13.726234873756304|\n",
        "    +-----+----+----------------------+\n",
        "    only showing top 20 rows\n",
        "    \n",
        "```"
      ]
    },
    {
      "cell_type": "markdown",
      "metadata": {
        "id": "BGrtS1fmrjQj"
      },
      "source": [
        "## 2.11 Joining\n"
      ]
    },
    {
      "cell_type": "markdown",
      "metadata": {
        "id": "Td9GhLna8Z7X"
      },
      "source": [
        "Another very common data operation is the _join_. Joins are a whole topic unto themselves, so in this course we'll just look at simple joins. If you'd like to learn more about joins, you can take a look [here](https://www.datacamp.com/courses/merging-dataframes-with-pandas).\n",
        "\n",
        "A join will combine two different tables along a column that they share. This column is called the _key_. Examples of keys here include the `tailnum` and `carrier` columns from the `flights` table.\n",
        "\n",
        "For example, suppose that you want to know more information about the plane that flew a flight than just the tail number. This information isn't in the `flights` table because the same plane flies many different flights over the course of two years, so including this information in every row would result in a lot of duplication. To avoid this, you'd have a second table that has only one row for each plane and whose columns list all the information about the plane, including its tail number. You could call this table `planes`\n",
        "\n",
        "When you join the `flights` table to this table of airplane information, you're adding all the columns from the `planes` table to the `flights` table. To fill these columns with information, you'll look at the tail number from the `flights` table and find the matching one in the `planes` table, and then use that row to fill out all the new columns.\n",
        "\n",
        "Now you'll have a much bigger table than before, but now every row has all information about the plane that flew that flight!\n",
        "\n",
        "* * *\n",
        "\n",
        "Which of the following is **not** true?\n",
        "\n",
        "##### Answer the question\n",
        "\n",
        "**50XP**\n",
        "\n",
        "#### Possible Answers\n",
        "\n",
        "- Joins combine tables.\n",
        "    \n",
        "    \n",
        "- Joins add information to a table.\n",
        "    \n",
        "    \n",
        "- Storing information in separate tables can reduce repetition.\n",
        "    \n",
        "    \n",
        "- **There is only one kind of join.**\n",
        "\n",
        "Great job! If there were only one kind of join, it would be tough to create some more complicated kinds of tables.\n",
        "\n"
      ]
    },
    {
      "cell_type": "markdown",
      "metadata": {
        "id": "5sl18gP3rjV5"
      },
      "source": [
        "## 2.12 Joining II"
      ]
    },
    {
      "cell_type": "markdown",
      "metadata": {
        "id": "PHKLEDM38tZk"
      },
      "source": [
        "In PySpark, joins are performed using the DataFrame method `.join()`. This method takes three arguments. The first is the second DataFrame that you want to join with the first one. The second argument, `on`, is the name of the key column(s) as a string. The names of the key column(s) must be the same in each table. The third argument, `how`, specifies the kind of join to perform. In this course we'll always use the value `how=\"leftouter\"`.\n",
        "\n",
        "The `flights` dataset and a new dataset called `airports` are already in your workspace.\n",
        "\n",
        "##### Instructions\n",
        "\n",
        "**100 XP**\n",
        "\n",
        "##### Instructions\n",
        "\n",
        "**100 XP**\n",
        "\n",
        "- Examine the `airports` DataFrame by calling `.show()`. Note which key column will let you join `airports` to the `flights` table.\n",
        "- Rename the `faa` column in `airports` to `dest` by re-assigning the result of `airports.withColumnRenamed(\"faa\", \"dest\")` to `airports`.\n",
        "- Join the `flights` with the `airports` DataFrame on the `dest` column by calling the `.join()` method on `flights`. Save the result as `flights_with_airports`.\n",
        "    - The first argument should be the other DataFrame, `airports`.\n",
        "    - The argument `on` should be the key column.\n",
        "    - The argument `how` should be `\"leftouter\"`.\n",
        "- Call `.show()` on `flights_with_airports` to examine the data again. Note the new information that has been added."
      ]
    },
    {
      "cell_type": "code",
      "execution_count": null,
      "metadata": {
        "id": "cGtcpKAs8u1K"
      },
      "outputs": [],
      "source": [
        "# Examine the data\n",
        "print(airports.show())\n",
        "\n",
        "# rename the faa column\n",
        "airports = airports.withColumnRenamed('faa', 'dest')\n",
        "\n",
        "# Joint the DataFrames\n",
        "flights_with_airports = flights.join(airports, on='dest', how='leftouter')\n",
        "\n",
        "# Examine the new DataFrame\n",
        "print(flights_with_airports.show())"
      ]
    },
    {
      "cell_type": "markdown",
      "metadata": {
        "id": "84G0oLu881lV"
      },
      "source": [
        "Fantastic work! You're a data manipulation pro!\n",
        "\n",
        "```python\n",
        "<script.py> output:\n",
        "    +---+--------------------+----------------+-----------------+----+---+---+\n",
        "    |faa|                name|             lat|              lon| alt| tz|dst|\n",
        "    +---+--------------------+----------------+-----------------+----+---+---+\n",
        "    |04G|   Lansdowne Airport|      41.1304722|      -80.6195833|1044| -5|  A|\n",
        "    |06A|Moton Field Munic...|      32.4605722|      -85.6800278| 264| -5|  A|\n",
        "    |06C| Schaumburg Regional|      41.9893408|      -88.1012428| 801| -6|  A|\n",
        "    |06N|     Randall Airport|       41.431912|      -74.3915611| 523| -5|  A|\n",
        "    |09J|Jekyll Island Air...|      31.0744722|      -81.4277778|  11| -4|  A|\n",
        "    |0A9|Elizabethton Muni...|      36.3712222|      -82.1734167|1593| -4|  A|\n",
        "    |0G6|Williams County A...|      41.4673056|      -84.5067778| 730| -5|  A|\n",
        "    |0G7|Finger Lakes Regi...|      42.8835647|      -76.7812318| 492| -5|  A|\n",
        "    |0P2|Shoestring Aviati...|      39.7948244|      -76.6471914|1000| -5|  U|\n",
        "    |0S9|Jefferson County ...|      48.0538086|     -122.8106436| 108| -8|  A|\n",
        "    |0W3|Harford County Ai...|      39.5668378|      -76.2024028| 409| -5|  A|\n",
        "    |10C|  Galt Field Airport|      42.4028889|      -88.3751111| 875| -6|  U|\n",
        "    |17G|Port Bucyrus-Craw...|      40.7815556|      -82.9748056|1003| -5|  A|\n",
        "    |19A|Jackson County Ai...|      34.1758638|      -83.5615972| 951| -4|  U|\n",
        "    |1A3|Martin Campbell F...|      35.0158056|      -84.3468333|1789| -4|  A|\n",
        "    |1B9| Mansfield Municipal|      42.0001331|      -71.1967714| 122| -5|  A|\n",
        "    |1C9|Frazier Lake Airpark|54.0133333333333|-124.768333333333| 152| -8|  A|\n",
        "    |1CS|Clow Internationa...|      41.6959744|      -88.1292306| 670| -6|  U|\n",
        "    |1G3|  Kent State Airport|      41.1513889|      -81.4151111|1134| -4|  A|\n",
        "    |1OH|     Fortman Airport|      40.5553253|      -84.3866186| 885| -5|  U|\n",
        "    +---+--------------------+----------------+-----------------+----+---+---+\n",
        "    only showing top 20 rows\n",
        "    \n",
        "    None\n",
        "    +----+----+-----+---+--------+---------+--------+---------+-------+-------+------+------+--------+--------+----+------+--------------------+---------+-----------+----+---+---+\n",
        "    |dest|year|month|day|dep_time|dep_delay|arr_time|arr_delay|carrier|tailnum|flight|origin|air_time|distance|hour|minute|                name|      lat|        lon| alt| tz|dst|\n",
        "    +----+----+-----+---+--------+---------+--------+---------+-------+-------+------+------+--------+--------+----+------+--------------------+---------+-----------+----+---+---+\n",
        "    | LAX|2014|   12|  8|     658|       -7|     935|       -5|     VX| N846VA|  1780|   SEA|     132|     954|   6|    58|    Los Angeles Intl|33.942536|-118.408075| 126| -8|  A|\n",
        "    | HNL|2014|    1| 22|    1040|        5|    1505|        5|     AS| N559AS|   851|   SEA|     360|    2677|  10|    40|       Honolulu Intl|21.318681|-157.922428|  13|-10|  N|\n",
        "    | SFO|2014|    3|  9|    1443|       -2|    1652|        2|     VX| N847VA|   755|   SEA|     111|     679|  14|    43|  San Francisco Intl|37.618972|-122.374889|  13| -8|  A|\n",
        "    | SJC|2014|    4|  9|    1705|       45|    1839|       34|     WN| N360SW|   344|   PDX|      83|     569|  17|     5|Norman Y Mineta S...|  37.3626|-121.929022|  62| -8|  A|\n",
        "    | BUR|2014|    3|  9|     754|       -1|    1015|        1|     AS| N612AS|   522|   SEA|     127|     937|   7|    54|            Bob Hope|34.200667|-118.358667| 778| -8|  A|\n",
        "    | DEN|2014|    1| 15|    1037|        7|    1352|        2|     WN| N646SW|    48|   PDX|     121|     991|  10|    37|         Denver Intl|39.861656|-104.673178|5431| -7|  A|\n",
        "    | OAK|2014|    7|  2|     847|       42|    1041|       51|     WN| N422WN|  1520|   PDX|      90|     543|   8|    47|Metropolitan Oakl...|37.721278|-122.220722|   9| -8|  A|\n",
        "    | SFO|2014|    5| 12|    1655|       -5|    1842|      -18|     VX| N361VA|   755|   SEA|      98|     679|  16|    55|  San Francisco Intl|37.618972|-122.374889|  13| -8|  A|\n",
        "    | SAN|2014|    4| 19|    1236|       -4|    1508|       -7|     AS| N309AS|   490|   SEA|     135|    1050|  12|    36|      San Diego Intl|32.733556|-117.189667|  17| -8|  A|\n",
        "    | ORD|2014|   11| 19|    1812|       -3|    2352|       -4|     AS| N564AS|    26|   SEA|     198|    1721|  18|    12|  Chicago Ohare Intl|41.978603| -87.904842| 668| -6|  A|\n",
        "    | LAX|2014|   11|  8|    1653|       -2|    1924|       -1|     AS| N323AS|   448|   SEA|     130|     954|  16|    53|    Los Angeles Intl|33.942536|-118.408075| 126| -8|  A|\n",
        "    | PHX|2014|    8|  3|    1120|        0|    1415|        2|     AS| N305AS|   656|   SEA|     154|    1107|  11|    20|Phoenix Sky Harbo...|33.434278|-112.011583|1135| -7|  N|\n",
        "    | LAS|2014|   10| 30|     811|       21|    1038|       29|     AS| N433AS|   608|   SEA|     127|     867|   8|    11|      Mc Carran Intl|36.080056| -115.15225|2141| -8|  A|\n",
        "    | ANC|2014|   11| 12|    2346|       -4|     217|      -28|     AS| N765AS|   121|   SEA|     183|    1448|  23|    46|Ted Stevens Ancho...|61.174361|-149.996361| 152| -9|  A|\n",
        "    | SFO|2014|   10| 31|    1314|       89|    1544|      111|     AS| N713AS|   306|   SEA|     129|     679|  13|    14|  San Francisco Intl|37.618972|-122.374889|  13| -8|  A|\n",
        "    | SFO|2014|    1| 29|    2009|        3|    2159|        9|     UA| N27205|  1458|   PDX|      90|     550|  20|     9|  San Francisco Intl|37.618972|-122.374889|  13| -8|  A|\n",
        "    | SMF|2014|   12| 17|    2015|       50|    2150|       41|     AS| N626AS|   368|   SEA|      76|     605|  20|    15|     Sacramento Intl|38.695417|-121.590778|  27| -8|  A|\n",
        "    | MDW|2014|    8| 11|    1017|       -3|    1613|       -7|     WN| N8634A|   827|   SEA|     216|    1733|  10|    17| Chicago Midway Intl|41.785972| -87.752417| 620| -6|  A|\n",
        "    | BOS|2014|    1| 13|    2156|       -9|     607|      -15|     AS| N597AS|    24|   SEA|     290|    2496|  21|    56|General Edward La...|42.364347| -71.005181|  19| -5|  A|\n",
        "    | BUR|2014|    6|  5|    1733|      -12|    1945|      -10|     OO| N215AG|  3488|   PDX|     111|     817|  17|    33|            Bob Hope|34.200667|-118.358667| 778| -8|  A|\n",
        "    +----+----+-----+---+--------+---------+--------+---------+-------+-------+------+------+--------+--------+----+------+--------------------+---------+-----------+----+---+---+\n",
        "    only showing top 20 rows\n",
        "    \n",
        "    None\n",
        "```"
      ]
    },
    {
      "cell_type": "markdown",
      "metadata": {
        "id": "8bSuKFA0rjaq"
      },
      "source": [
        "# 3. Getting started with machine learning pipelines\n",
        "\n",
        "PySpark has built-in, cutting-edge machine learning routines, along with utilities to create full machine learning pipelines. You'll learn about them in this chapter.\n",
        "\n",
        "\n"
      ]
    },
    {
      "cell_type": "markdown",
      "metadata": {
        "id": "lQtjww6NrtHP"
      },
      "source": [
        "## 3.1 Machine Learning Pipelines\n"
      ]
    },
    {
      "cell_type": "markdown",
      "metadata": {
        "id": "d4-f6fat9h1x"
      },
      "source": [
        "In the next two chapters you'll step through every stage of the machine learning pipeline, from data intake to model evaluation. Let's get to it!\n",
        "\n",
        "At the core of the `pyspark.ml` module are the `Transformer` and `Estimator` classes. Almost every other class in the module behaves similarly to these two basic classes.\n",
        "\n",
        "`Transformer` classes have a `.transform()` method that takes a DataFrame and returns a new DataFrame; usually the original one with a new column appended. For example, you might use the class `Bucketizer` to create discrete bins from a continuous feature or the class `PCA` to reduce the dimensionality of your dataset using principal component analysis.\n",
        "\n",
        "`Estimator` classes all implement a `.fit()` method. These methods also take a DataFrame, but instead of returning another DataFrame they return a model object. This can be something like a `StringIndexerModel` for including categorical data saved as strings in your models, or a `RandomForestModel` that uses the random forest algorithm for classification or regression.\n",
        "\n",
        "* * *\n",
        "\n",
        "Which of the following is **not** true about machine learning in Spark?\n",
        "\n",
        "##### Answer the question\n",
        "\n",
        "**50XP**\n",
        "\n",
        "#### Possible Answers\n",
        "\n",
        "- **Spark's algorithms give better results than other algorithms.**\n",
        "\n",
        "- Working in Spark allows you to create reproducible machine learning pipelines.\n",
        "\n",
        "- Machine learning pipelines in Spark are made up of `Transformer`s and `Estimator`s.\n",
        "    \n",
        "- PySpark uses the `pyspark.ml` submodule to interface with Spark's machine learning routines.\n",
        "\n",
        "That's right! Spark is just a platform that implements the same algorithms that can be found elsewhere.\n",
        "\n"
      ]
    },
    {
      "cell_type": "markdown",
      "metadata": {
        "id": "qBSNPlourtPa"
      },
      "source": [
        "## 3.2 Join the DataFrames\n"
      ]
    },
    {
      "cell_type": "markdown",
      "metadata": {
        "id": "YqT-KSFc9xl5"
      },
      "source": [
        "In the next two chapters you'll be working to build a model that predicts whether or not a flight will be delayed based on the flights data we've been working with. This model will also include information about the plane that flew the route, so the first step is to join the two tables: `flights` and `planes`!\n",
        "\n",
        "##### Instructions\n",
        "\n",
        "**100 XP**\n",
        "\n",
        "- First, rename the `year` column of `planes` to `plane_year` to avoid duplicate column names.\n",
        "- Create a new DataFrame called `model_data` by joining the `flights` table with `planes` using the `tailnum` column as the key."
      ]
    },
    {
      "cell_type": "code",
      "execution_count": null,
      "metadata": {
        "id": "ZpMs0VLA-IPl"
      },
      "outputs": [],
      "source": [
        "# Rename year column\n",
        "planes = planes.withColumnRenamed('year', 'plane_year')\n",
        "\n",
        "# Join the DataFrame\n",
        "model_data = flights.join(planes, on='tailnum', how='leftouter')"
      ]
    },
    {
      "cell_type": "markdown",
      "metadata": {
        "id": "oqKskB6V_UN2"
      },
      "source": [
        "Awesome work! You're one step closer to a model!"
      ]
    },
    {
      "cell_type": "markdown",
      "metadata": {
        "id": "L3Wyy4dNrtV9"
      },
      "source": [
        "## 3.3 Data types\n"
      ]
    },
    {
      "cell_type": "markdown",
      "metadata": {
        "id": "6-SifzVU_Yh4"
      },
      "source": [
        "Good work! Before you get started modeling, it's important to know that Spark only handles numeric data. That means all of the columns in your DataFrame must be either integers or decimals (called 'doubles' in Spark).\n",
        "\n",
        "When we imported our data, we let Spark guess what kind of information each column held. Unfortunately, Spark doesn't always guess right and you can see that some of the columns in our DataFrame are strings containing numbers as opposed to actual numeric values.\n",
        "\n",
        "To remedy this, you can use the `.cast()` method in combination with the `.withColumn()` method. It's important to note that `.cast()` works on columns, while `.withColumn()` works on DataFrames.\n",
        "\n",
        "The only argument you need to pass to `.cast()` is the kind of value you want to create, in string form. For example, to create integers, you'll pass the argument `\"integer\"` and for decimal numbers you'll use `\"double\"`.\n",
        "\n",
        "You can put this call to `.cast()` inside a call to `.withColumn()` to overwrite the already existing column, just like you did in the previous chapter!\n",
        "\n",
        "* * *\n",
        "\n",
        "What kind of data does Spark need for modeling?\n",
        "\n",
        "##### Answer the question\n",
        "\n",
        "**50XP**\n",
        "\n",
        "#### Possible Answers\n",
        "\n",
        "- Doubles\n",
        "    \n",
        "    \n",
        "- Integers\n",
        "    \n",
        "    \n",
        "- Decimals\n",
        "    \n",
        "    \n",
        "- **Numeric**\n",
        "    \n",
        "    \n",
        "- Strings\n",
        "\n",
        "Great job! Spark needs numeric values (doubles or integers) to do machine learning.\n",
        "\n"
      ]
    },
    {
      "cell_type": "markdown",
      "metadata": {
        "id": "8toYTKThrtbf"
      },
      "source": [
        "## 3.4 String to integer\n"
      ]
    },
    {
      "cell_type": "markdown",
      "metadata": {
        "id": "bySjuNQSABa3"
      },
      "source": [
        "Now you'll use the `.cast()` method you learned in the previous exercise to convert all the appropriate columns from your DataFrame `model_data` to integers!\n",
        "\n",
        "To convert the type of a column using the `.cast()` method, you can write code like this:\n",
        "\n",
        "```\n",
        "dataframe = dataframe.withColumn(\"col\", dataframe.col.cast(\"new_type\"))\n",
        "```\n",
        "\n",
        "##### Instructions\n",
        "\n",
        "**100 XP**\n",
        "\n",
        "- Use the method `.withColumn()` to `.cast()` the following columns to type `\"integer\"`. Access the columns using the `df.col` notation:\n",
        "    - `model_data.arr_delay`\n",
        "    - `model_data.air_time`\n",
        "    - `model_data.month`\n",
        "    - `model_data.plane_year`"
      ]
    },
    {
      "cell_type": "code",
      "execution_count": null,
      "metadata": {
        "id": "wW_xi-OTABrg"
      },
      "outputs": [],
      "source": [
        "# Cast the columns to integers\n",
        "model_data = model_data.withColumn(\"arr_delay\", model_data.arr_delay.cast('integer'))\n",
        "model_data = model_data.withColumn('air_time', model_data.air_time.cast('integer'))\n",
        "model_data = model_data.withColumn('month', model_data.month.cast('integer'))\n",
        "model_data = model_data.withColumn('plane_year', model_data.plane_year.cast('integer'))"
      ]
    },
    {
      "cell_type": "markdown",
      "metadata": {
        "id": "drbOMMLjAKt7"
      },
      "source": [
        "Awesome! You're a pro at converting columns!\n",
        "\n"
      ]
    },
    {
      "cell_type": "markdown",
      "metadata": {
        "id": "-TT_78I4rthX"
      },
      "source": [
        "## 3.5 Create a new column\n"
      ]
    },
    {
      "cell_type": "markdown",
      "metadata": {
        "id": "sD-DvRNkAQrR"
      },
      "source": [
        "In the last exercise, you converted the column `plane_year` to an integer. This column holds the year each plane was manufactured. However, your model will use the planes' _age_, which is slightly different from the year it was made!\n",
        "\n",
        "##### Instructions\n",
        "\n",
        "**100 XP**\n",
        "\n",
        "- Create the column `plane_age` using the `.withColumn()` method and subtracting the year of manufacture (column `plane_year`) from the year (column `year`) of the flight."
      ]
    },
    {
      "cell_type": "code",
      "execution_count": null,
      "metadata": {
        "id": "tiBVLSijAQ7L"
      },
      "outputs": [],
      "source": [
        "# Create the column plane_age\n",
        "model_data = model_data.withColumn('plane_age', model_data.year - model_data.plane_year)\n"
      ]
    },
    {
      "cell_type": "markdown",
      "metadata": {
        "id": "sXKZffOAAShH"
      },
      "source": [
        "Great work! Now you have one more variable to include in your model.\n",
        "\n"
      ]
    },
    {
      "cell_type": "markdown",
      "metadata": {
        "id": "caIKDAtJrtnI"
      },
      "source": [
        "## 3.6 Making a Boolean\n"
      ]
    },
    {
      "cell_type": "markdown",
      "metadata": {
        "id": "GIsoZojcAbTG"
      },
      "source": [
        "Consider that you're modeling a yes or no question: is the flight late? However, your data contains the arrival delay in minutes for each flight. Thus, you'll need to create a boolean column which indicates whether the flight was late or not!\n",
        "\n",
        "##### Instructions\n",
        "\n",
        "**100 XP**\n",
        "\n",
        "- Use the `.withColumn()` method to create the column `is_late`. This column is equal to `model_data.arr_delay > 0`.\n",
        "- Convert this column to an integer column so that you can use it in your model and name it `label` (this is the default name for the response variable in Spark's machine learning routines).\n",
        "- Filter out missing values (this has been done for you)."
      ]
    },
    {
      "cell_type": "code",
      "execution_count": null,
      "metadata": {
        "id": "0XBinyV8AqAQ"
      },
      "outputs": [],
      "source": [
        "# Create is_late\n",
        "model_data = model_data.withColumn('is_late', model_data.arr_delay > 0)\n",
        "\n",
        "# Convert to an integer\n",
        "model_data = model_data.withColumn('label', model_data.is_late.cast('integer'))\n",
        "\n",
        "# Remove missing values\n",
        "model_data = model_data.filter(\"arr_delay is not NULL and dep_delay is not NULL and air_time is not NULL and plane_year is not NULL\")"
      ]
    },
    {
      "cell_type": "markdown",
      "metadata": {
        "id": "_-kE0QTKAsmO"
      },
      "source": [
        "Awesome! Now you've defined the column that you're going to use as the outcome in your model.\n",
        "\n"
      ]
    },
    {
      "cell_type": "markdown",
      "metadata": {
        "id": "2n8g_yF_rts3"
      },
      "source": [
        "## 3.7 Strings and factors\n"
      ]
    },
    {
      "cell_type": "markdown",
      "metadata": {
        "id": "1Pci1UDwAxaH"
      },
      "source": [
        "As you know, Spark requires numeric data for modeling. So far this hasn't been an issue; even boolean columns can easily be converted to integers without any trouble. But you'll also be using the airline and the plane's destination as features in your model. These are coded as strings and there isn't any obvious way to convert them to a numeric data type.\n",
        "\n",
        "Fortunately, PySpark has functions for handling this built into the `pyspark.ml.features` submodule. You can create what are called 'one-hot vectors' to represent the carrier and the destination of each flight. A _one-hot vector_ is a way of representing a categorical feature where every observation has a vector in which all elements are zero except for at most one element, which has a value of one (1).\n",
        "\n",
        "Each element in the vector corresponds to a level of the feature, so it's possible to tell what the right level is by seeing which element of the vector is equal to one (1).\n",
        "\n",
        "The first step to encoding your categorical feature is to create a `StringIndexer`. Members of this class are `Estimator`s that take a DataFrame with a column of strings and map each unique string to a number. Then, the `Estimator` returns a `Transformer` that takes a DataFrame, attaches the mapping to it as metadata, and returns a new DataFrame with a numeric column corresponding to the string column.\n",
        "\n",
        "The second step is to encode this numeric column as a one-hot vector using a `OneHotEncoder`. This works exactly the same way as the `StringIndexer` by creating an `Estimator` and then a `Transformer`. The end result is a column that encodes your categorical feature as a vector that's suitable for machine learning routines!\n",
        "\n",
        "This may seem complicated, but don't worry! All you have to remember is that you need to create a `StringIndexer` and a `OneHotEncoder`, and the `Pipeline` will take care of the rest.\n",
        "\n",
        "* * *\n",
        "\n",
        "Why do you have to encode a categorical feature as a one-hot vector?\n",
        "\n",
        "##### Answer the question\n",
        "\n",
        "**50XP**\n",
        "\n",
        "#### Possible Answers\n",
        "\n",
        "- It makes fitting the model faster.\n",
        "    \n",
        "    \n",
        "- **Spark can only model numeric features.**\n",
        "    \n",
        "    \n",
        "- For compatibility with `scikit-learn`.\n",
        "    \n",
        "\n",
        "Awesome! You remembered that Spark can only model numeric features.\n",
        "\n"
      ]
    },
    {
      "cell_type": "markdown",
      "metadata": {
        "id": "ZHBWizdnrtyo"
      },
      "source": [
        "## 3.8 Carrier\n"
      ]
    },
    {
      "cell_type": "markdown",
      "metadata": {
        "id": "k4_2jY7kBG_P"
      },
      "source": [
        "In this exercise you'll create a `StringIndexer` and a `OneHotEncoder` to code the `carrier` column. To do this, you'll call the class constructors with the arguments `inputCol` and `outputCol`.\n",
        "\n",
        "The `inputCol` is the name of the column you want to index or encode, and the `outputCol` is the name of the new column that the `Transformer` should create.\n",
        "\n",
        "##### Instructions\n",
        "\n",
        "**100 XP**\n",
        "\n",
        "- Create a `StringIndexer` called `carr_indexer` by calling `StringIndexer()` with `inputCol=\"carrier\"` and `outputCol=\"carrier_index\"`.\n",
        "- Create a `OneHotEncoder` called `carr_encoder` by calling `OneHotEncoder()` with `inputCol=\"carrier_index\"` and `outputCol=\"carrier_fact\"`."
      ]
    },
    {
      "cell_type": "code",
      "execution_count": null,
      "metadata": {
        "id": "Tj8Km3FDBLkz"
      },
      "outputs": [],
      "source": [
        "# Create StringIndexer\n",
        "carr_indexer = StringIndexer(inputCol='carrier', outputCol='carrier_index')\n",
        "\n",
        "# Create a OneHotEncoder\n",
        "carr_encoder = OneHotEncoder(inputCol='carrier_index', outputCol='carrier_fact')"
      ]
    },
    {
      "cell_type": "markdown",
      "metadata": {
        "id": "6G578AsMrt4i"
      },
      "source": [
        "## 3.9 Destination\n"
      ]
    },
    {
      "cell_type": "markdown",
      "metadata": {
        "id": "BgwUlZXlBTRe"
      },
      "source": [
        "Now you'll encode the `dest` column just like you did in the previous exercise.\n",
        "\n",
        "##### Instructions\n",
        "\n",
        "**100 XP**\n",
        "\n",
        "- Create a `StringIndexer` called `dest_indexer` by calling `StringIndexer()` with `inputCol=\"dest\"` and `outputCol=\"dest_index\"`.\n",
        "- Create a `OneHotEncoder` called `dest_encoder` by calling `OneHotEncoder()` with `inputCol=\"dest_index\"` and `outputCol=\"dest_fact\"`."
      ]
    },
    {
      "cell_type": "code",
      "execution_count": null,
      "metadata": {
        "id": "R50xdS0PBToC"
      },
      "outputs": [],
      "source": [
        "# Create a StringIndexer\n",
        "dest_indexer = StringIndexer(inputCol='dest', outputCol='dest_index')\n",
        "\n",
        "# Create a OneHotEncoder\n",
        "dest_encoder = OneHotEncoder(inputCol='dest_index', outputCol='dest_fact')"
      ]
    },
    {
      "cell_type": "markdown",
      "metadata": {
        "id": "Rm_4W_GgBZvr"
      },
      "source": [
        "Perfect! You're all done messing with factors.\n",
        "\n"
      ]
    },
    {
      "cell_type": "markdown",
      "metadata": {
        "id": "AABb_Hwrrt9z"
      },
      "source": [
        "## 3.10 Assemble a vector\n"
      ]
    },
    {
      "cell_type": "markdown",
      "metadata": {
        "id": "OYtjp97RBuW1"
      },
      "source": [
        "The last step in the `Pipeline` is to combine all of the columns containing our features into a single column. This has to be done before modeling can take place because every Spark modeling routine expects the data to be in this form. You can do this by storing each of the values from a column as an entry in a vector. Then, from the model's point of view, every observation is a vector that contains all of the information about it and a label that tells the modeler what value that observation corresponds to.\n",
        "\n",
        "Because of this, the `pyspark.ml.feature` submodule contains a class called `VectorAssembler`. This `Transformer` takes all of the columns you specify and combines them into a new vector column.\n",
        "\n",
        "##### Instructions\n",
        "\n",
        "**100 XP**\n",
        "\n",
        "##### Instructions\n",
        "\n",
        "**100 XP**\n",
        "\n",
        "- Create a `VectorAssembler` by calling `VectorAssembler()` with the `inputCols` names as a list and the `outputCol` name `\"features\"`.\n",
        "    - The list of columns should be `[\"month\", \"air_time\", \"carrier_fact\", \"dest_fact\", \"plane_age\"]`."
      ]
    },
    {
      "cell_type": "code",
      "execution_count": null,
      "metadata": {
        "id": "ozFZm7E5Bul0"
      },
      "outputs": [],
      "source": [
        "# Make a VectorAssembler\n",
        "vec_assembler = VectorAssembler(inputCols=[\"month\", \"air_time\", \"carrier_fact\", \"dest_fact\", \"plane_age\"],\n",
        "                outputCol='features')"
      ]
    },
    {
      "cell_type": "markdown",
      "metadata": {
        "id": "diFMzTHUBwg4"
      },
      "source": [
        "Good job! Your data is all assembled now.\n",
        "\n"
      ]
    },
    {
      "cell_type": "markdown",
      "metadata": {
        "id": "OwNZAsL0ruDU"
      },
      "source": [
        "## 3.11 Create the pipeline\n"
      ]
    },
    {
      "cell_type": "markdown",
      "metadata": {
        "id": "iUYY9Z2wCAmd"
      },
      "source": [
        "You're finally ready to create a `Pipeline`!\n",
        "\n",
        "`Pipeline` is a class in the `pyspark.ml` module that combines all the `Estimators` and `Transformers` that you've already created. This lets you reuse the same modeling process over and over again by wrapping it up in one simple object. Neat, right?\n",
        "\n",
        "##### Instructions\n",
        "\n",
        "**100 XP**\n",
        "\n",
        "- Import `Pipeline` from `pyspark.ml`.\n",
        "- Call the `Pipeline()` constructor with the keyword argument `stages` to create a `Pipeline` called `flights_pipe`.\n",
        "    - `stages` should be a list holding all the stages you want your data to go through in the pipeline. Here this is just: `[dest_indexer, dest_encoder, carr_indexer, carr_encoder, vec_assembler]`"
      ]
    },
    {
      "cell_type": "code",
      "execution_count": null,
      "metadata": {
        "id": "bS07cqjnCBJL"
      },
      "outputs": [],
      "source": [
        "# Import Pipeline\n",
        "from pyspark.ml import Pipeline\n",
        "\n",
        "# Make the pipeline\n",
        "flights_pipe = Pipeline(stages=[dest_indexer, dest_encoder, carr_indexer, carr_encoder, vec_assembler])\n"
      ]
    },
    {
      "cell_type": "markdown",
      "metadata": {
        "id": "9KFwW4XWCBWg"
      },
      "source": [
        "Fantastic! You've made a fully reproducible machine learning pipeline!\n",
        "\n"
      ]
    },
    {
      "cell_type": "markdown",
      "metadata": {
        "id": "03TuoBVBruI1"
      },
      "source": [
        "## 3.12 Test vs Train\n"
      ]
    },
    {
      "cell_type": "markdown",
      "metadata": {
        "id": "eBhfUyZjCHRg"
      },
      "source": [
        "After you've cleaned your data and gotten it ready for modeling, one of the most important steps is to split the data into a _test set_ and a _train set_. After that, don't touch your test data until you think you have a good model! As you're building models and forming hypotheses, you can test them on your training data to get an idea of their performance.\n",
        "\n",
        "Once you've got your favorite model, you can see how well it predicts the new data in your test set. This never-before-seen data will give you a much more realistic idea of your model's performance in the real world when you're trying to predict or classify new data.\n",
        "\n",
        "In Spark it's important to make sure you split the data **after** all the transformations. This is because operations like `StringIndexer` don't always produce the same index even when given the same list of strings.\n",
        "\n",
        "* * *\n",
        "\n",
        "Why is it important to use a test set in model evaluation?\n",
        "\n",
        "##### Answer the question\n",
        "\n",
        "**50XP**\n",
        "\n",
        "#### Possible Answers\n",
        "\n",
        "- Evaluating your model improves its accuracy.\n",
        "\n",
        "- **By evaluating your model with a test set you can get a good idea of performance on new data.**\n",
        "\n",
        "- Using a test set lets you check your code for errors.\n",
        "\n",
        "Exactly! A test set approximates the 'real world error' of your model.\n",
        "\n"
      ]
    },
    {
      "cell_type": "markdown",
      "metadata": {
        "id": "rUuLFuoQruOF"
      },
      "source": [
        "## 3.13 Transform the data\n"
      ]
    },
    {
      "cell_type": "markdown",
      "metadata": {
        "id": "lr5SVPT7CUCX"
      },
      "source": [
        "Hooray, now you're finally ready to pass your data through the `Pipeline` you created!\n",
        "\n",
        "##### Instructions\n",
        "\n",
        "**100 XP**\n",
        "\n",
        "- Create the DataFrame `piped_data` by calling the `Pipeline` methods `.fit()` and `.transform()` in a chain. Both of these methods take `model_data` as their only argument."
      ]
    },
    {
      "cell_type": "code",
      "execution_count": null,
      "metadata": {
        "id": "aDyYjg7rCUZq"
      },
      "outputs": [],
      "source": [
        "# Fit and transform the data\n",
        "piped_data = flights_pipe.fit(model_data).transform(model_data)"
      ]
    },
    {
      "cell_type": "markdown",
      "metadata": {
        "id": "DH-NcV72CeDC"
      },
      "source": [
        "Great work! Your pipeline chewed right through that data!\n",
        "\n"
      ]
    },
    {
      "cell_type": "markdown",
      "metadata": {
        "id": "OUU-3bbDruTA"
      },
      "source": [
        "## 3.14 Split the data"
      ]
    },
    {
      "cell_type": "markdown",
      "metadata": {
        "id": "hVHCgJlRChGS"
      },
      "source": [
        "Now that you've done all your manipulations, the last step before modeling is to split the data!\n",
        "\n",
        "##### Instructions\n",
        "\n",
        "**100 XP**\n",
        "\n",
        "- Use the DataFrame method `.randomSplit()` to split `piped_data` into two pieces, `training` with 60% of the data, and `test` with 40% of the data by passing the list `[.6, .4]` to the `.randomSplit()` method."
      ]
    },
    {
      "cell_type": "code",
      "execution_count": null,
      "metadata": {
        "id": "X-raXs63ChV3"
      },
      "outputs": [],
      "source": [
        "# Split the data into training and test sets\n",
        "training, test = piped_data.randomSplit([.6, .4])"
      ]
    },
    {
      "cell_type": "markdown",
      "metadata": {
        "id": "Q8_2JOqeCmtH"
      },
      "source": [
        "Awesome! Now you're ready to start fitting a model!\n",
        "\n"
      ]
    },
    {
      "cell_type": "markdown",
      "metadata": {
        "id": "3gS1rxuPrjgf"
      },
      "source": [
        "# 4. Model tuning and selection\n",
        "\n",
        "In this last chapter, you'll apply what you've learned to create a model that predicts which flights will be delayed.\n",
        "\n",
        "\n"
      ]
    },
    {
      "cell_type": "markdown",
      "metadata": {
        "id": "iq1NZGs3rjmO"
      },
      "source": [
        "## 4.1 What is logistic regression?\n"
      ]
    },
    {
      "cell_type": "markdown",
      "metadata": {
        "id": "RTSiFC8UCthy"
      },
      "source": [
        "The model you'll be fitting in this chapter is called a _logistic regression_. This model is very similar to a linear regression, but instead of predicting a numeric variable, it predicts the probability (between 0 and 1) of an event.\n",
        "\n",
        "To use this as a classification algorithm, all you have to do is assign a cutoff point to these probabilities. If the predicted probability is above the cutoff point, you classify that observation as a 'yes' (in this case, the flight being late), if it's below, you classify it as a 'no'!\n",
        "\n",
        "You'll tune this model by testing different values for several _hyperparameters_. A _hyperparameter_ is just a value in the model that's not estimated from the data, but rather is supplied by the user to maximize performance. For this course it's not necessary to understand the mathematics behind all of these values - what's important is that you'll try out a few different choices and pick the best one.\n",
        "\n",
        "* * *\n",
        "\n",
        "Why do you supply hyperparameters?\n",
        "\n",
        "##### Answer the question\n",
        "\n",
        "**50XP**\n",
        "\n",
        "#### Possible Answers\n",
        "\n",
        "- They explain information about the data.\n",
        "    \n",
        "    \n",
        "- **They improve model performance.**\n",
        "        \n",
        "- They improve model fitting speed.\n",
        "\n",
        "Great job! You supply hyperparameters to optimize your model.\n",
        "\n"
      ]
    },
    {
      "cell_type": "markdown",
      "metadata": {
        "id": "OzDKjtuNrjrn"
      },
      "source": [
        "## 4.2 Create the modeler\n"
      ]
    },
    {
      "cell_type": "markdown",
      "metadata": {
        "id": "n2it-ZYxC7TX"
      },
      "source": [
        "The `Estimator` you'll be using is a `LogisticRegression` from the `pyspark.ml.classification` submodule.\n",
        "\n",
        "##### Instructions\n",
        "\n",
        "**100 XP**\n",
        "\n",
        "- Import the `LogisticRegression` class from `pyspark.ml.classification`.\n",
        "- Create a `LogisticRegression` called `lr` by calling `LogisticRegression()` with no arguments."
      ]
    },
    {
      "cell_type": "code",
      "execution_count": null,
      "metadata": {
        "id": "2nTQvZuaC73g"
      },
      "outputs": [],
      "source": [
        "# Import LogisticRegression\n",
        "from pyspark.ml.classification import LogisticRegression\n",
        "\n",
        "# Create a LogisticRegression Estimator\n",
        "lr = LogisticRegression()"
      ]
    },
    {
      "cell_type": "markdown",
      "metadata": {
        "id": "BmZs05DoDB3b"
      },
      "source": [
        "Great work! That's the first step to any modeling in PySpark.\n",
        "\n"
      ]
    },
    {
      "cell_type": "markdown",
      "metadata": {
        "id": "lqB7V93Krjwz"
      },
      "source": [
        "## 4.3 Cross validation\n"
      ]
    },
    {
      "cell_type": "markdown",
      "metadata": {
        "id": "_NsIDAeHC9mC"
      },
      "source": [
        "In the next few exercises you'll be tuning your logistic regression model using a procedure called _k-fold cross validation_. This is a method of estimating the model's performance on unseen data (like your `test` DataFrame).\n",
        "\n",
        "It works by splitting the training data into a few different partitions. The exact number is up to you, but in this course you'll be using PySpark's default value of three. Once the data is split up, one of the partitions is set aside, and the model is fit to the others. Then the error is measured against the held out partition. This is repeated for each of the partitions, so that every block of data is held out and used as a test set exactly once. Then the error on each of the partitions is averaged. This is called the _cross validation error_ of the model, and is a good estimate of the actual error on the held out data.\n",
        "\n",
        "You'll be using cross validation to choose the hyperparameters by creating a grid of the possible pairs of values for the two hyperparameters, `elasticNetParam` and `regParam`, and using the cross validation error to compare all the different models so you can choose the best one!\n",
        "\n",
        "What does cross validation allow you to estimate?\n",
        "\n",
        "* * *\n",
        "\n",
        "##### Answer the question\n",
        "\n",
        "**50XP**\n",
        "\n",
        "#### Possible Answers\n",
        "\n",
        "- **The model's error on held out data.**\n",
        "    \n",
        "- The model's error on data used for fitting.\n",
        "    \n",
        "- The time it will take to fit the model.\n",
        "\n",
        "Exactly! The cross validation error is an estimate of the model's error on the test set.\n",
        "\n"
      ]
    },
    {
      "cell_type": "markdown",
      "metadata": {
        "id": "0vDXdExmrj1Y"
      },
      "source": [
        "## 4.4 Create the evaluator\n"
      ]
    },
    {
      "cell_type": "markdown",
      "metadata": {
        "id": "3CCiHTRJDQIN"
      },
      "source": [
        "The first thing you need when doing cross validation for model selection is a way to compare different models. Luckily, the `pyspark.ml.evaluation` submodule has classes for evaluating different kinds of models. Your model is a binary classification model, so you'll be using the `BinaryClassificationEvaluator` from the `pyspark.ml.evaluation` module.\n",
        "\n",
        "This evaluator calculates the area under the ROC. This is a metric that combines the two kinds of errors a binary classifier can make (false positives and false negatives) into a simple number. You'll learn more about this towards the end of the chapter!\n",
        "\n",
        "##### Instructions\n",
        "\n",
        "**100 XP**\n",
        "\n",
        "- Import the submodule `pyspark.ml.evaluation` as `evals`.\n",
        "- Create `evaluator` by calling `evals.BinaryClassificationEvaluator()` with the argument `metricName=\"areaUnderROC\"`."
      ]
    },
    {
      "cell_type": "code",
      "execution_count": null,
      "metadata": {
        "id": "U7PodcRbC-Sk"
      },
      "outputs": [],
      "source": [
        "# Import the evaluation submodule\n",
        "import pyspark.ml.evaluation as evals\n",
        "\n",
        "# Create a BinaryClassificationEvaluator\n",
        "evaluator = evals.BinaryClassificationEvaluator(metricName=\"areaUnderROC\")"
      ]
    },
    {
      "cell_type": "markdown",
      "metadata": {
        "id": "JDXhUgw0Dd_m"
      },
      "source": [
        "Perfect! Now you can compare models using the metric output by your evaluator!\n",
        "\n"
      ]
    },
    {
      "cell_type": "markdown",
      "metadata": {
        "id": "ImvLixsqsZgM"
      },
      "source": [
        "## 4.5 Make a grid\n"
      ]
    },
    {
      "cell_type": "markdown",
      "metadata": {
        "id": "QGGqDU-SDh8d"
      },
      "source": [
        "Next, you need to create a grid of values to search over when looking for the optimal hyperparameters. The submodule `pyspark.ml.tuning` includes a class called `ParamGridBuilder` that does just that (maybe you're starting to notice a pattern here; PySpark has a submodule for just about everything!).\n",
        "\n",
        "You'll need to use the `.addGrid()` and `.build()` methods to create a grid that you can use for cross validation. The `.addGrid()` method takes a model parameter (an attribute of the model `Estimator`, `lr`, that you created a few exercises ago) and a list of values that you want to try. The `.build()` method takes no arguments, it just returns the grid that you'll use later.\n",
        "\n",
        "##### Instructions\n",
        "\n",
        "**100 XP**\n",
        "\n",
        "##### Instructions\n",
        "\n",
        "**100 XP**\n",
        "\n",
        "- Import the submodule `pyspark.ml.tuning` under the alias `tune`.\n",
        "- Call the class constructor `ParamGridBuilder()` with no arguments. Save this as `grid`.\n",
        "- Call the `.addGrid()` method on `grid` with `lr.regParam` as the first argument and `np.arange(0, .1, .01)` as the second argument. This second call is a function from the `numpy` module (imported `as np`) that creates a list of numbers from 0 to .1, incrementing by .01. Overwrite `grid` with the result.\n",
        "- Update `grid` again by calling the `.addGrid()` method a second time create a grid for `lr.elasticNetParam` that includes only the values `[0, 1]`.\n",
        "- Call the `.build()` method on `grid` and overwrite it with the output."
      ]
    },
    {
      "cell_type": "code",
      "execution_count": null,
      "metadata": {
        "id": "aNRRd0o3DzRM"
      },
      "outputs": [],
      "source": [
        "# Import the tuning submodule\n",
        "import pyspark.ml.tuning as tune\n",
        "\n",
        "# Create the parameter grid\n",
        "grid = tune.ParamGridBuilder()\n",
        "\n",
        "# Add the hyperparameter\n",
        "grid = grid.addGrid(lr.regParam, np.arange(0, .1, .01))\n",
        "grid = grid.addGrid(lr.elasticNetParam, [0, 1])\n",
        "\n",
        "# Build the grid\n",
        "grid = grid.build()"
      ]
    },
    {
      "cell_type": "markdown",
      "metadata": {
        "id": "ahg6QBWGD2Sw"
      },
      "source": [
        "Awesome! That's the last ingredient in your cross validation recipe!\n",
        "\n"
      ]
    },
    {
      "cell_type": "markdown",
      "metadata": {
        "id": "YgyoHq1hsZn4"
      },
      "source": [
        "## 4.6 Make the validator\n"
      ]
    },
    {
      "cell_type": "markdown",
      "metadata": {
        "id": "kuqktCyiD5f_"
      },
      "source": [
        "The submodule `pyspark.ml.tuning` also has a class called `CrossValidator` for performing cross validation. This `Estimator` takes the modeler you want to fit, the grid of hyperparameters you created, and the evaluator you want to use to compare your models.\n",
        "\n",
        "The submodule `pyspark.ml.tune` has already been imported as `tune`. You'll create the `CrossValidator` by passing it the logistic regression `Estimator` `lr`, the parameter `grid`, and the `evaluator` you created in the previous exercises.\n",
        "\n",
        "##### Instructions\n",
        "\n",
        "**100 XP**\n",
        "\n",
        "- Create a `CrossValidator` by calling `tune.CrossValidator()` with the arguments:\n",
        "    - `estimator=lr`\n",
        "    - `estimatorParamMaps=grid`\n",
        "    - `evaluator=evaluator`\n",
        "- Name this object `cv`."
      ]
    },
    {
      "cell_type": "code",
      "execution_count": null,
      "metadata": {
        "id": "CiR2KplUEGRA"
      },
      "outputs": [],
      "source": [
        "# Create the CrossValidator\n",
        "cv = tune.CrossValidator(estimator=lr,\n",
        "               estimatorParamMaps=grid,\n",
        "               evaluator=evaluator\n",
        "               )"
      ]
    },
    {
      "cell_type": "markdown",
      "metadata": {
        "id": "Bye1q94cEIvD"
      },
      "source": [
        "Great job! You're almost a machine learning pro!\n",
        "\n"
      ]
    },
    {
      "cell_type": "markdown",
      "metadata": {
        "id": "YOY1UYazsZuz"
      },
      "source": [
        "## 4.7 Fit the model(s)\n"
      ]
    },
    {
      "cell_type": "markdown",
      "metadata": {
        "id": "wfZd8ZJ3ENBk"
      },
      "source": [
        "You're finally ready to fit the models and select the best one!\n",
        "\n",
        "Unfortunately, cross validation is a very computationally intensive procedure. Fitting all the models would take too long on DataCamp.\n",
        "\n",
        "To do this locally you would use the code:\n",
        "\n",
        "```\n",
        "# Fit cross validation models\n",
        "models = cv.fit(training)\n",
        "\n",
        "# Extract the best model\n",
        "best_lr = models.bestModel\n",
        "```\n",
        "\n",
        "Remember, the training data is called `training` and you're using `lr` to fit a logistic regression model. Cross validation selected the parameter values `regParam=0` and `elasticNetParam=0` as being the best. These are the default values, so you don't need to do anything else with `lr` before fitting the model.\n",
        "\n",
        "##### Instructions\n",
        "\n",
        "**100 XP**\n",
        "\n",
        "- Create `best_lr` by calling `lr.fit()` on the `training` data.\n",
        "- Print `best_lr` to verify that it's an object of the `LogisticRegressionModel` class."
      ]
    },
    {
      "cell_type": "code",
      "execution_count": null,
      "metadata": {
        "id": "9mOdqOH4EGkR"
      },
      "outputs": [],
      "source": [
        "# Call lr.fit()\n",
        "best_lr = lr.fit(training)\n",
        "\n",
        "# Print best_lr\n",
        "print(best_lr)"
      ]
    },
    {
      "cell_type": "markdown",
      "metadata": {
        "id": "_RtGthzoEeQa"
      },
      "source": [
        "Wow! You fit your first Spark model!\n",
        "\n"
      ]
    },
    {
      "cell_type": "markdown",
      "metadata": {
        "id": "JCDRTvigsZ1y"
      },
      "source": [
        "## 4.8 Evaluating binary classifiers\n"
      ]
    },
    {
      "cell_type": "markdown",
      "metadata": {
        "id": "N16mGJihEjUv"
      },
      "source": [
        " For this course we'll be using a common metric for binary classification algorithms call the _AUC_, or area under the curve. In this case, the curve is the ROC, or receiver operating curve. The details of what these things actually measure isn't important for this course. All you need to know is that for our purposes, the closer the AUC is to one (1), the better the model is!\n",
        "\n",
        "* * *\n",
        "\n",
        "If you've created a perfect binary classification model, what would the AUC be?\n",
        "\n",
        "##### Answer the question\n",
        "\n",
        "**50XP**\n",
        "\n",
        "#### Possible Answers\n",
        "\n",
        "- \\-1\n",
        "\n",
        "- 1\n",
        "\n",
        "- 0\n",
        "\n",
        "- .5"
      ]
    },
    {
      "cell_type": "markdown",
      "metadata": {
        "id": "oE9VeunxEtm5"
      },
      "source": [
        "Great job! An AUC of one represents a model that always perfectly classifies observations.\n",
        "\n"
      ]
    },
    {
      "cell_type": "markdown",
      "metadata": {
        "id": "agwM0VQosZ7h"
      },
      "source": [
        "## 4.9 Evaluate the model"
      ]
    },
    {
      "cell_type": "markdown",
      "metadata": {
        "id": "q5emnWiWsaB_"
      },
      "source": [
        "Remember the test data that you set aside waaaaaay back in chapter 3? It's finally time to test your model on it! You can use the same evaluator you made to fit the model.\n",
        "\n",
        "##### Instructions\n",
        "\n",
        "**100 XP**\n",
        "\n",
        "- Use your model to generate predictions by applying `best_lr.transform()` to the `test` data. Save this as `test_results`.\n",
        "- Call `evaluator.evaluate()` on `test_results` to compute the AUC. Print the output."
      ]
    },
    {
      "cell_type": "code",
      "execution_count": null,
      "metadata": {
        "id": "5yFrK7FpFlpS"
      },
      "outputs": [],
      "source": [
        "# Use the model to predict the test set\n",
        "test_results = best_lr.transform(test)\n",
        "\n",
        "# Evaluate the predictions\n",
        "print(evaluator.evaluate(test_results))"
      ]
    },
    {
      "cell_type": "markdown",
      "metadata": {
        "id": "qrOu57SosaIx"
      },
      "source": [
        "Congratulations! What do you think of the AUC? Your model isn't half bad! You went from knowing nothing about Spark to doing advanced machine learning. Great job on making it to the end of the course! The next steps are learning how to create large scale Spark clusters and manage and submit jobs so that you can use models in the real world. Check out some of the other DataCamp courses that use Spark! And remember, Spark is still being actively developed, so there's new features coming all the time!"
      ]
    }
  ],
  "metadata": {
    "colab": {
      "name": "2021-12-26-introduction-to-pyspark.ipynb",
      "provenance": [],
      "toc_visible": true
    },
    "kernelspec": {
      "display_name": "Python 3",
      "name": "python3"
    },
    "language_info": {
      "name": "python"
    },
    "orig_nbformat": 4
  },
  "nbformat": 4,
  "nbformat_minor": 0
}
