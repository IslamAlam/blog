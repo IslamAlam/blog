{
  "cells": [
    {
      "cell_type": "markdown",
      "metadata": {},
      "source": [
        "# \"Hyperparameter Tuning in Python\"\n",
        "> \"Building powerful machine learning models depends heavily on the set of hyperparameters used. But with increasingly complex models with lots of options, how do you efficiently find the best settings for your particular problem? In this course you will get practical experience in using some common methodologies for automated hyperparameter tuning in Python using Scikit Learn. These include Grid Search, Random Search & advanced optimization methodologies including Bayesian & Genetic algorithms . You will use a dataset predicting credit card defaults as you build skills to dramatically increase the efficiency and effectiveness of your machine learning model building.\"\n",
        "- toc: true\n",
        "- branch: master\n",
        "- badges: true\n",
        "- comments: true\n",
        "- author: Islam Mansour\n",
        "- categories: [Python, DataCamp, Machine Learning Scientist with Python]\n",
        "- hide: false"
      ]
    },
    {
      "cell_type": "markdown",
      "metadata": {
        "id": "TXDjKp2NbYJ1"
      },
      "source": [
        "# Hyperparameter Tuning in Python\n",
        "\n",
        "---\n",
        "\n",
        "\n",
        "\n",
        "**Course Description**\n",
        "\n",
        "Building powerful machine learning models depends heavily on the set of hyperparameters used. But with increasingly complex models with lots of options, how do you efficiently find the best settings for your particular problem? In this course you will get practical experience in using some common methodologies for automated hyperparameter tuning in Python using Scikit Learn. These include Grid Search, Random Search & advanced optimization methodologies including Bayesian & Genetic algorithms . You will use a dataset predicting credit card defaults as you build skills to dramatically increase the efficiency and effectiveness of your machine learning model building.\n"
      ]
    },
    {
      "cell_type": "markdown",
      "metadata": {
        "id": "vkysCA96d-E7"
      },
      "source": [
        "# 1. Hyperparameters and Parameters\n",
        "In this introductory chapter you will learn the difference between hyperparameters and parameters. You will practice extracting and analyzing parameters, setting hyperparameter values for several popular machine learning algorithms. Along the way you will learn some best practice tips & tricks for choosing which hyperparameters to tune and what values to set & build learning curves to analyze your hyperparameter choices.\n",
        "\n",
        "[link text](https://projector-video-pdf-converter.datacamp.com/15167/chapter1.pdf#pdfjs.action=download)"
      ]
    },
    {
      "cell_type": "markdown",
      "metadata": {
        "id": "vnNmvnJhedVZ"
      },
      "source": [
        "## 1.1 Introduction & 'Parameters'\n"
      ]
    },
    {
      "cell_type": "markdown",
      "metadata": {
        "id": "7UzSs6cZXuYW"
      },
      "source": [
        "## 1.2 Parameters in Logistic Regression\n",
        "Now that you have had a chance to explore what a parameter is, let us apply this knowledge. It is important to be able to review any new algorithm and identify which elements are parameters and hyperparameters.\n",
        "\n",
        "Which of the following is a parameter for the Scikit Learn logistic regression model? Here we mean _conceptually_ based on the theory introduced in this course. **NOT** what the Scikit Learn documentation calls a parameter or attribute.\n",
        "\n",
        "##### Answer the question\n",
        "\n",
        "**50XP**\n",
        "\n",
        "#### Possible Answers\n",
        "\n",
        "- `n_jobs`\n",
        "\n",
        "- **`coef_`**\n",
        "\n",
        "- `class_weight`\n",
        "\n",
        "- `LogisticRegression()`\n",
        "\n",
        "Yes! `coef_` contains the important information about coefficients on our variables in the model. We do not set this, it is learned by the algorithm through the modeling process."
      ]
    },
    {
      "cell_type": "markdown",
      "metadata": {
        "id": "wTYGUeweXxEI"
      },
      "source": [
        "## 1.3 Extracting a Logistic Regression parameter\n",
        "You are now going to practice extracting an important parameter of the logistic regression model. The logistic regression has a few other parameters you will not explore here but you can review them in the [scikit-learn.org](https://scikit-learn.org/) documentation for the `LogisticRegression()` module under 'Attributes'.\n",
        "\n",
        "This parameter is important for understanding the direction and magnitude of the effect the variables have on the target.\n",
        "\n",
        "In this exercise we will extract the coefficient parameter (found in the `coef_` attribute), zip it up with the original column names, and see which variables had the largest positive effect on the target variable.\n",
        "\n",
        "You will have available:\n",
        "\n",
        "- A logistic regression model object named `log_reg_clf`\n",
        "- The `X_train` DataFrame\n",
        "\n",
        "`sklearn` and `pandas` have been imported for you.\n",
        "\n",
        "##### Instructions\n",
        "\n",
        "**100 XP**\n",
        "\n",
        "- Create a list of the original column names used in the training DataFrame.\n",
        "- Extract the coefficients of the logistic regression estimator.\n",
        "- Create a DataFrame of coefficients and variable names & view it.\n",
        "- Print out the top 3 'positive' variables based on the coefficient size."
      ]
    },
    {
      "cell_type": "code",
      "execution_count": null,
      "metadata": {
        "id": "7Grtkm1ubuei"
      },
      "outputs": [],
      "source": [
        "# Create a list of original variable names from the training DataFrame\n",
        "original_variables = list(X_train.columns)\n",
        "\n",
        "# Extract the coefficients of the logistic regression estimator\n",
        "model_coefficients = log_reg_clf.coef_[0]\n",
        "\n",
        "# Create a dataframe of the variables and coefficients & print it out\n",
        "coefficient_df = pd.DataFrame({\"Variable\" : original_variables, \"Coefficient\": model_coefficients})\n",
        "print(coefficient_df)\n",
        "\n",
        "# Print out the top 3 positive variables\n",
        "top_three_df = coefficient_df.sort_values(by='Coefficient', axis=0, ascending=False)[0:3]\n",
        "print(top_three_df)"
      ]
    },
    {
      "cell_type": "markdown",
      "metadata": {
        "id": "UrIV7eqxb5z9"
      },
      "source": [
        "Nice! You have succesfully extracted and reviewed a very important parameter for the Logistic Regression Model. The coefficients of the model allow you to see which variables are having a larger or smaller impact on the outcome. Additionally the sign lets you know if it is a positive or negative relationship."
      ]
    },
    {
      "cell_type": "markdown",
      "metadata": {
        "id": "2q-TR_lcXxqi"
      },
      "source": [
        "## 1.4 Extracting a Random Forest parameter\n",
        "You will now translate the work previously undertaken on the logistic regression model to a random forest model. A parameter of this model is, for a given tree, how it decided to split at each level.\n",
        "\n",
        "This analysis is not as useful as the coefficients of logistic regression as you will be unlikely to ever explore every split and every tree in a random forest model. However, it is a very useful exercise to peak under the hood at what the model is doing.\n",
        "\n",
        "In this exercise we will extract a single tree from our random forest model, visualize it and programmatically extract one of the splits.\n",
        "\n",
        "You have available:\n",
        "\n",
        "- A random forest model object, `rf_clf`\n",
        "- An image of the top of the chosen decision tree, `tree_viz_image`\n",
        "- The `X_train` DataFrame & the `original_variables` list\n",
        "\n",
        "##### Instructions\n",
        "\n",
        "**100 XP**\n",
        "\n",
        "##### Instructions\n",
        "\n",
        "**100 XP**\n",
        "\n",
        "- Extract the 7th tree (6th index) from the random forest model.\n",
        "- Visualize this tree (`tree_viz_image`) to see the split decisions.\n",
        "- Extract the feature & level of the top split.\n",
        "- Print out the feature and level together."
      ]
    },
    {
      "cell_type": "code",
      "execution_count": null,
      "metadata": {
        "id": "W195haKRb950"
      },
      "outputs": [],
      "source": [
        "# Extract the 7th (index 6) tree from the random forest\n",
        "chosen_tree = rf_clf.estimators_[6]\n",
        "\n",
        "# Visualize the graph using the provided image\n",
        "imgplot = plt.imshow(tree_viz_image)\n",
        "plt.show()\n",
        "\n",
        "# Extract the parameters and level of the top (index 0) node\n",
        "split_column = chosen_tree.tree_.feature[0]\n",
        "split_column_name = X_train.columns[split_column]\n",
        "split_value = chosen_tree.tree_.threshold[0]\n",
        "\n",
        "# Print out the feature and level\n",
        "print(\"This node split on feature {}, at a value of {}\".format(split_column_name, split_value))"
      ]
    },
    {
      "cell_type": "markdown",
      "metadata": {
        "id": "B4sSDDNqcpam"
      },
      "source": [
        "Excellent! You visualized and extracted some of the parameters of a random forest model.\n",
        "\n",
        "\n",
        "\n",
        "![image.png](data:image/png;base64,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)"
      ]
    },
    {
      "cell_type": "markdown",
      "metadata": {
        "id": "DbO6dNlZXxte"
      },
      "source": [
        "## 1.5 Introducing Hyperparameters\n"
      ]
    },
    {
      "cell_type": "markdown",
      "metadata": {
        "id": "TElHUVkdXxwJ"
      },
      "source": [
        "## 1.6 Hyperparameters in Random Forests\n",
        "As you saw, there are many different hyperparameters available in a Random Forest model using Scikit Learn. Here you can remind yourself how to differentiate between a hyperparameter and a parameter, and easily check whether something is a hyperparameter.\n",
        "\n",
        "You can create a random forest estimator yourself from the imported Scikit Learn package. Then print this estimator out to see the hyperparameters and their values.\n",
        "\n",
        "Which of the following is a hyperparameter for the Scikit Learn random forest model?\n",
        "\n",
        "##### Instructions\n",
        "\n",
        "**50 XP**\n",
        "\n",
        "##### Possible Answers\n",
        "\n",
        "- `oob_score`\n",
        "    \n",
        "- `classes_`\n",
        "    \n",
        "- `trees`\n",
        "    \n",
        "- `random_level`\n",
        "\n",
        "That's correct! `oob_score` set to `True` or `False` decides whether to use out-of-bag samples to estimate the generalization accuracy."
      ]
    },
    {
      "cell_type": "markdown",
      "metadata": {
        "id": "-Z0Wmsj-XxzU"
      },
      "source": [
        "## 1.7 Exploring Random Forest Hyperparameters\n",
        "Understanding what hyperparameters are available and the impact of different hyperparameters is a core skill for any data scientist. As models become more complex, there are many different settings you can set, but only some will have a large impact on your model.\n",
        "\n",
        "You will now assess an existing random forest model (it has some bad choices for hyperparameters!) and then make better choices for a new random forest model and assess its performance.\n",
        "\n",
        "You will have available:\n",
        "\n",
        "- `X_train`, `X_test`, `y_train`, `y_test` DataFrames\n",
        "- An existing pre-trained random forest estimator, `rf_clf_old`\n",
        "- The predictions of the existing random forest estimator on the test set, `rf_old_predictions`\n",
        "\n",
        "##### Instructions 1/3\n",
        "\n",
        "**35 XP**\n",
        "\n",
        "- Print out the hyperparameters of the existing random forest classifier by printing the estimator and then create a confusion matrix and accuracy score from it. The test set `y_test` and the old predictions `rf_old_predictions` will be quite useful!"
      ]
    },
    {
      "cell_type": "code",
      "execution_count": null,
      "metadata": {
        "id": "C_fBMJNXd3vS"
      },
      "outputs": [],
      "source": [
        "# Print out the old estimator, notice which hyperparameter is badly set\n",
        "print(rf_clf_old)\n",
        "\n",
        "# Get confusion matrix & accuracy for the old rf_model\n",
        "print(\"Confusion Matrix: \\n\\n {} \\n Accuracy Score: \\n\\n {}\".format(\n",
        "  \tconfusion_matrix(y_test, rf_old_predictions),\n",
        "  \taccuracy_score(y_test, rf_old_predictions))) "
      ]
    },
    {
      "cell_type": "markdown",
      "metadata": {
        "id": "HDJT_nT9d365"
      },
      "source": [
        "\n",
        "##### Instructions 2/3\n",
        "\n",
        "**35 XP**\n",
        "\n",
        "- Create a new random forest classifier with a better `n_estimators` (try 500) then fit this to the data and obtain predictions."
      ]
    },
    {
      "cell_type": "code",
      "execution_count": null,
      "metadata": {
        "id": "y36waQkVd4Jq"
      },
      "outputs": [],
      "source": [
        "# Print out the old estimator, notice which hyperparameter is badly set\n",
        "print(rf_clf_old)\n",
        "\n",
        "# Get confusion matrix & accuracy for the old rf_model\n",
        "print(\"Confusion Matrix: \\n\\n {} \\n Accuracy Score: \\n\\n {}\".format(\n",
        "  confusion_matrix(y_test, rf_old_predictions),\n",
        "  accuracy_score(y_test, rf_old_predictions))) \n",
        "\n",
        "# Create a new random forest classifier with better hyperparamaters\n",
        "rf_clf_new = RandomForestClassifier(n_estimators=500)\n",
        "\n",
        "# Fit this to the data and obtain predictions\n",
        "rf_new_predictions = rf_clf_new.fit(X_train, y_train).predict(X_test)"
      ]
    },
    {
      "cell_type": "markdown",
      "metadata": {
        "id": "-8yjoT2Ud4iG"
      },
      "source": [
        "##### Instructions 3/3\n",
        "\n",
        "**30 XP**\n",
        "\n",
        "- Assess the performance of the new random forest classifier. Create the confusion matrix and accuracy score and print them out. How does this compare to the first model you were given?"
      ]
    },
    {
      "cell_type": "code",
      "execution_count": null,
      "metadata": {
        "id": "xHTgdjOLd4uj"
      },
      "outputs": [],
      "source": [
        "# Print out the old estimator, notice which hyperparameter is badly set\n",
        "print(rf_clf_old)\n",
        "\n",
        "# Get confusion matrix & accuracy for the old rf_model\n",
        "print(\"Confusion Matrix: \\n\\n {} \\n Accuracy Score: \\n\\n {}\".format(\n",
        "  confusion_matrix(y_test, rf_old_predictions),\n",
        "  accuracy_score(y_test, rf_old_predictions))) \n",
        "\n",
        "# Create a new random forest classifier with better hyperparamaters\n",
        "rf_clf_new = RandomForestClassifier(n_estimators=500)\n",
        "\n",
        "# Fit this to the data and obtain predictions\n",
        "rf_new_predictions = rf_clf_new.fit(X_train, y_train).predict(X_test)\n",
        "\n",
        "# Assess the new model (using new predictions!)\n",
        "print(\"Confusion Matrix: \\n\\n\", confusion_matrix(y_test, rf_new_predictions))\n",
        "print(\"Accuracy Score: \\n\\n\", accuracy_score(y_test, rf_new_predictions))"
      ]
    },
    {
      "cell_type": "markdown",
      "metadata": {
        "id": "_qIhJkh00qXB"
      },
      "source": [
        "Nice! We got a nice 5% accuracy boost just from changing the `n_estimators`. You have had your first taste of hyperparameter tuning for a random forest model."
      ]
    },
    {
      "cell_type": "markdown",
      "metadata": {
        "id": "mQooR5xYXx2F"
      },
      "source": [
        "## 1.8 Hyperparameters of KNN\n",
        "To apply the concepts learned in the prior exercise, it is good practice to try out learnings on a new algorithm. The k-nearest-neighbors algorithm is not as popular as it used to be but can still be an excellent choice for data that has groups of data that behave similarly. Could this be the case for our credit card users?\n",
        "\n",
        "In this case you will try out several different values for one of the core hyperparameters for the knn algorithm and compare performance.\n",
        "\n",
        "You will have available:\n",
        "\n",
        "- `X_train`, `X_test`, `y_train`, `y_test` DataFrames\n",
        "\n",
        "##### Instructions\n",
        "\n",
        "**100 XP**\n",
        "\n",
        "- Build a knn estimator for the following values of `n_neighbors` \\[5,10,20\\].\n",
        "- Fit each to the training data and produce predictions.\n",
        "- Get an accuracy score for each model and print them out."
      ]
    },
    {
      "cell_type": "code",
      "execution_count": null,
      "metadata": {
        "id": "GrEAdQNo0yXz"
      },
      "outputs": [],
      "source": [
        "# Build a knn estimator for each value of n_neighbours\n",
        "knn_5 = KNeighborsClassifier(n_neighbors=5)\n",
        "knn_10 = KNeighborsClassifier(n_neighbors=10)\n",
        "knn_20 = KNeighborsClassifier(n_neighbors=20)\n",
        "\n",
        "# Fit each to the training data & produce predictions\n",
        "knn_5_predictions = knn_5.fit(X_train, y_train).predict(X_test)\n",
        "knn_10_predictions = knn_10.fit(X_train, y_train).predict(X_test)\n",
        "knn_20_predictions = knn_20.fit(X_train, y_train).predict(X_test)\n",
        "\n",
        "# Get an accuracy score for each of the models\n",
        "knn_5_accuracy = accuracy_score(y_test, knn_5_predictions)\n",
        "knn_10_accuracy = accuracy_score(y_test, knn_10_predictions)\n",
        "knn_20_accuracy = accuracy_score(y_test, knn_20_predictions)\n",
        "print(\"The accuracy of 5, 10, 20 neighbours was {}, {}, {}\".format(knn_5_accuracy, knn_10_accuracy, knn_20_accuracy))"
      ]
    },
    {
      "cell_type": "markdown",
      "metadata": {
        "id": "EI3Q5tcW1E_l"
      },
      "source": [
        "Phew! You succesfully tested 3 different options for 1 hyperparameter, but it was pretty exhausting. Next, we will try to find a way to make this easier."
      ]
    },
    {
      "cell_type": "markdown",
      "metadata": {
        "id": "KwRQ97tsXyFJ"
      },
      "source": [
        "## 1.9 Setting & Analyzing Hyperparameter Values\n"
      ]
    },
    {
      "cell_type": "markdown",
      "metadata": {
        "id": "mLJtMWu4XyH5"
      },
      "source": [
        "## 1.10 Automating Hyperparameter Choice\n",
        "Finding the best hyperparameter of interest without writing hundreds of lines of code for hundreds of models is an important efficiency gain that will greatly assist your future machine learning model building.\n",
        "\n",
        "An important hyperparameter for the GBM algorithm is the learning rate. But which learning rate is best for this problem? By writing a loop to search through a number of possibilities, collating these and viewing them you can find the best one.\n",
        "\n",
        "Possible learning rates to try include 0.001, 0.01, 0.05, 0.1, 0.2 and 0.5\n",
        "\n",
        "You will have available `X_train`, `X_test`, `y_train` & `y_test` datasets, and `GradientBoostingClassifier` has been imported for you.\n",
        "\n",
        "##### Instructions\n",
        "\n",
        "**100 XP**\n",
        "\n",
        "- Create a `learning_rates` list for the learning rates, and a `results_list` to hold the accuracy score of your predictions.\n",
        "- Write a loop to create a GBM model for each learning rate mentioned and create predictions for each model.\n",
        "- Save the learning rate and accuracy score to a `results_list`.\n",
        "- Turn the results list into a DataFrame and print it out."
      ]
    },
    {
      "cell_type": "code",
      "execution_count": null,
      "metadata": {
        "id": "eXEgnIW_2EX3"
      },
      "outputs": [],
      "source": [
        "# Set the learning rates & results storage\n",
        "learning_rates = [0.001, 0.01, 0.05, 0.1, 0.2, 0.5]\n",
        "results_list = []\n",
        "\n",
        "# Create the for loop to evaluate model predictions for each learning rate\n",
        "for learning_rate in learning_rates:\n",
        "    model = GradientBoostingClassifier(learning_rate=learning_rate)\n",
        "    predictions = model.fit(X_train, y_train).predict(X_test)\n",
        "    # Save the learning rate and accuracy score\n",
        "    results_list.append([learning_rate, accuracy_score(y_test, predictions)])\n",
        "\n",
        "# Gather everything into a DataFrame\n",
        "results_df = pd.DataFrame(results_list, columns=['learning_rate', 'accuracy'])\n",
        "print(results_df)"
      ]
    },
    {
      "cell_type": "markdown",
      "metadata": {
        "id": "7k_NRPQo2Hq_"
      },
      "source": [
        "Nice! You efficiently tested a few different values for a single hyperparameter and can easily see which learning rate value was the best. Here, it seems that a learning rate of 0.05 yields the best accuracy."
      ]
    },
    {
      "cell_type": "markdown",
      "metadata": {
        "id": "Xw8nuVijXyK4"
      },
      "source": [
        "## 1.11 Building Learning Curves\n",
        "\n",
        "If we want to test many different values for a single hyperparameter it can be difficult to easily view that in the form of a DataFrame. Previously you learned about a nice trick to analyze this. A graph called a 'learning curve' can nicely demonstrate the effect of increasing or decreasing a particular hyperparameter on the final result.\n",
        "\n",
        "Instead of testing only a few values for the learning rate, you will test many to easily see the effect of this hyperparameter across a large range of values. A useful function from NumPy is `np.linspace(start, end, num)` which allows you to create a number of values (`num`) evenly spread within an interval (`start`, `end`) that you specify.\n",
        "\n",
        "You will have available `X_train`, `X_test`, `y_train` & `y_test` datasets.\n",
        "\n",
        "##### Instructions\n",
        "\n",
        "**100 XP**\n",
        "\n",
        "- Create a list of 30 learning rates evenly spread between 0.01 and 2.\n",
        "- Create a similar loop to last exercise but just save out accuracy scores to a list.\n",
        "- Plot the learning rates against the accuracy score."
      ]
    },
    {
      "cell_type": "code",
      "execution_count": null,
      "metadata": {
        "id": "7BY3kxMR2oSG"
      },
      "outputs": [],
      "source": [
        "# Set the learning rates & accuracies list\n",
        "learn_rates = np.linspace(0.01, 2, num=30)\n",
        "accuracies = []\n",
        "\n",
        "# Create the for loop\n",
        "for learn_rate in learn_rates:\n",
        "  \t# Create the model, predictions & save the accuracies as before\n",
        "    model = GradientBoostingClassifier(learning_rate=learn_rate)\n",
        "    predictions = model.fit(X_train, y_train).predict(X_test)\n",
        "    accuracies.append(accuracy_score(y_test, predictions))\n",
        "\n",
        "# Plot results    \n",
        "plt.plot(learn_rates, accuracies);\n",
        "plt.gca().set(xlabel='learning_rate', ylabel='Accuracy', title='Accuracy for different learning_rates')\n",
        "plt.show()"
      ]
    },
    {
      "cell_type": "markdown",
      "metadata": {
        "id": "LSWRWyau2sxz"
      },
      "source": [
        "Excellent work! You can see that for low values, you get a pretty good accuracy. However once the learning rate pushes much above 1.5, the accuracy starts to drop. You have learned and practiced a useful skill for visualizing large amounts of results for a single hyperparameter.\n",
        "\n",
        "![image.png](data:image/png;base64,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)"
      ]
    },
    {
      "cell_type": "markdown",
      "metadata": {
        "id": "GWANd7VNeGNj"
      },
      "source": [
        "# 2. Grid search\n",
        "This chapter introduces you to a popular automated hyperparameter tuning methodology called Grid Search. You will learn what it is, how it works and practice undertaking a Grid Search using Scikit Learn. You will then learn how to analyze the output of a Grid Search & gain practical experience doing this."
      ]
    },
    {
      "cell_type": "markdown",
      "metadata": {
        "id": "M0Og2flKe7PV"
      },
      "source": [
        "## 2.1 Introducing Grid Search\n"
      ]
    },
    {
      "cell_type": "markdown",
      "metadata": {
        "id": "eeloSRr1YAcz"
      },
      "source": [
        "## 2.2 Build Grid Search functions\n",
        "In data science it is a great idea to try building algorithms, models and processes 'from scratch' so you can really understand what is happening at a deeper level. Of course there are great packages and libraries for this work (and we will get to that very soon!) but building from scratch will give you a great edge in your data science work.\n",
        "\n",
        "In this exercise, you will create a function to take in 2 hyperparameters, build models and return results. You will use this function in a future exercise.\n",
        "\n",
        "You will have available the `X_train`, `X_test`, `y_train` and `y_test` datasets available.\n",
        "\n",
        "##### Instructions\n",
        "\n",
        "**100 XP**\n",
        "\n",
        "- Build a function that takes two parameters called `learning_rate` and `max_depth` for the learning rate and maximum depth.\n",
        "- Add capability in the function to build a GBM model and fit it to the data with the input hyperparameters.\n",
        "- Have the function return the results of that model and the chosen hyperparameters (`learning_rate` and `max_depth`)."
      ]
    },
    {
      "cell_type": "code",
      "execution_count": null,
      "metadata": {
        "id": "tEAwzFDC4rd8"
      },
      "outputs": [],
      "source": [
        "# Create the function\n",
        "def gbm_grid_search(learning_rate, max_depth):\n",
        "\n",
        "\t# Create the model\n",
        "    model = GradientBoostingClassifier(learning_rate=learning_rate, max_depth=max_depth)\n",
        "    \n",
        "    # Use the model to make predictions\n",
        "    predictions = model.fit(X_train, y_train).predict(X_test)\n",
        "    \n",
        "    # Return the hyperparameters and score\n",
        "    return([learning_rate, max_depth, accuracy_score(y_test, predictions)])"
      ]
    },
    {
      "cell_type": "markdown",
      "metadata": {
        "id": "gg88BHO44yDw"
      },
      "source": [
        "Nice! You now have a function you can call to test different combinations of two hyperparameters for the GBM algorithm. In the next exercise we will use it to test some values and analyze the results."
      ]
    },
    {
      "cell_type": "markdown",
      "metadata": {
        "id": "_qaY9T5JYAke"
      },
      "source": [
        "## 2.3 Iteratively tune multiple hyperparameters\n",
        "In this exercise, you will build on the function you previously created to take in 2 hyperparameters, build a model and return the results. You will now use that to loop through some values and then extend this function and loop with another hyperparameter.\n",
        "\n",
        "The function `gbm_grid_search(learn_rate, max_depth)` is available in this exercise.\n",
        "\n",
        "If you need to remind yourself of the function you can run the function `print_func()` that has been created for you\n",
        "\n",
        "##### Instructions 1/3\n",
        "\n",
        "**35 XP**\n",
        "\n",
        "- Write a for-loop to test the values (0.01, 0.1, 0.5) for the `learning_rate` and (2, 4, 6) for the `max_depth` using the function you created `gbm_grid_search` and print the results."
      ]
    },
    {
      "cell_type": "code",
      "execution_count": null,
      "metadata": {
        "id": "mIfN-Wur45Mq"
      },
      "outputs": [],
      "source": [
        "# Create the relevant lists\n",
        "results_list = []\n",
        "learn_rate_list = [0.01, 0.1, 0.5]\n",
        "max_depth_list = [2, 4, 6]\n",
        "\n",
        "# Create the for loop\n",
        "for learn_rate in learn_rate_list:\n",
        "    for max_depth in max_depth_list:\n",
        "        results_list.append(gbm_grid_search(learn_rate,max_depth))\n",
        "\n",
        "# Print the results\n",
        "print(results_list)   "
      ]
    },
    {
      "cell_type": "markdown",
      "metadata": {
        "id": "2ZR4BI0c45Wq"
      },
      "source": [
        "##### Instructions 2/3\n",
        "\n",
        "**35 XP**\n",
        "\n",
        "\n",
        "- Extend the `gbm_grid_search` function to include the hyperparameter `subsample`. Name this new function `gbm_grid_search_extended`."
      ]
    },
    {
      "cell_type": "code",
      "execution_count": null,
      "metadata": {
        "id": "l587FAPQ45gQ"
      },
      "outputs": [],
      "source": [
        "results_list = []\n",
        "learn_rate_list = [0.01, 0.1, 0.5]\n",
        "max_depth_list = [2,4,6]\n",
        "\n",
        "# Extend the function input\n",
        "def gbm_grid_search_extended(learn_rate, max_depth, subsample):\n",
        "\n",
        "\t# Extend the model creation section\n",
        "    model = GradientBoostingClassifier(learning_rate=learn_rate, max_depth=max_depth, subsample=subsample)\n",
        "    \n",
        "    predictions = model.fit(X_train, y_train).predict(X_test)\n",
        "    \n",
        "    # Extend the return part\n",
        "    return([learn_rate, max_depth, subsample, accuracy_score(y_test, predictions)])       "
      ]
    },
    {
      "cell_type": "markdown",
      "metadata": {
        "id": "2XL2fdzq45r8"
      },
      "source": [
        "##### Instructions 3/3\n",
        "\n",
        "**30 XP**\n",
        "\n",
        "- Extend your loop to call `gbm_grid_search` (available in your console), then test the values \\[0.4 , 0.6\\] for the `subsample` hyperparameter and print the results. `max_depth_list` & `learn_rate_list` are available in your environment."
      ]
    },
    {
      "cell_type": "code",
      "execution_count": null,
      "metadata": {
        "id": "qpD12eWF46EK"
      },
      "outputs": [],
      "source": [
        "results_list = []\n",
        "\n",
        "# Create the new list to test\n",
        "subsample_list = [0.4, 0.6]\n",
        "\n",
        "for learn_rate in learn_rate_list:\n",
        "    for max_depth in max_depth_list:\n",
        "    \n",
        "    \t# Extend the for loop\n",
        "        for subsample in subsample_list:\n",
        "        \t\n",
        "            # Extend the results to include the new hyperparameter\n",
        "            results_list.append(gbm_grid_search_extended(learn_rate, max_depth, subsample))\n",
        "            \n",
        "# Print results\n",
        "print(results_list)            "
      ]
    },
    {
      "cell_type": "markdown",
      "metadata": {
        "id": "xfa3qPHA5qRk"
      },
      "source": [
        "Congratulations. You have effectively built your own grid search! You went from 2 to 3 hyperparameters and can see how you could extend that to even more values and hyperparameters. That was a lot of effort though. Be warned - we are now entering a world that can get very computationally expensive very fast!"
      ]
    },
    {
      "cell_type": "markdown",
      "metadata": {
        "id": "eIiUCOx7YAnP"
      },
      "source": [
        "## 2.4 How Many Models?\n",
        "Adding more hyperparameters or values, you increase the amount of models created but the increases is not linear it is proportional to how many values and hyperparameters you already have.\n",
        "\n",
        "How many models would be created when running a grid search over the following hyperparameters and values for a GBM algorithm?\n",
        "\n",
        "- learning\\_rate = \\[0.001, 0.01, 0.05, 0.1, 0.2, 0.3, 0.5, 1, 2\\]\n",
        "- max\\_depth = \\[4,6,8,10,12,14,16,18, 20\\]\n",
        "- subsample = \\[0.4, 0.6, 0.7, 0.8, 0.9\\]\n",
        "- max\\_features = \\['auto', 'sqrt', 'log2'\\]\n",
        "\n",
        "These lists are in your console so you can utilize properties of them to help you!\n",
        "\n",
        "##### Instructions\n",
        "\n",
        "**50 XP**\n",
        "\n",
        "##### Possible Answers\n",
        "\n",
        "- 26\n",
        "    \n",
        "- 9 of one model, 9 of another\n",
        "    \n",
        "- 1 large model\n",
        "    \n",
        "- **1215**\n",
        "\n",
        "```python\n",
        "In [2]:\n",
        "len(learning_rate) * len(max_depth) * len(subsample) * len(max_features)\n",
        "Out[2]:\n",
        "1215\n",
        "```\n",
        "\n",
        "Excellent! For every value of one hyperparameter, we test EVERY value of EVERY other hyperparameter. So you correctly multiplied the number of values (the lengths of the lists)."
      ]
    },
    {
      "cell_type": "markdown",
      "metadata": {
        "id": "HgBjafhyYArZ"
      },
      "source": [
        "## 2.5 Grid Search with Scikit Learn\n",
        "\n"
      ]
    },
    {
      "cell_type": "markdown",
      "metadata": {
        "id": "WBudY2-SYAuJ"
      },
      "source": [
        "## 2.6 GridSearchCV inputs\n",
        "\n",
        "Let's test your knowledge of `GridSeachCV` inputs by answering the question below.\n",
        "\n",
        "Three `GridSearchCV` objects are available in the console, named `model_1`, `model_2`, `model_3`. Note that there is no data available to fit these models. Instead, you must answer by looking at their construct.\n",
        "\n",
        "Which of these `GridSearchCV` objects would not work when we try to fit it?\n",
        "\n",
        "##### Instructions\n",
        "\n",
        "**50 XP**\n",
        "\n",
        "##### Possible Answers\n",
        "\n",
        "- `model_1` would not work when we try to fit it.\n",
        "    \n",
        "- `model_2` would not work when we try to fit it.\n",
        "    \n",
        "- **`model_3` would not work when we try to fit it.**\n",
        "    \n",
        "- None - they will all work when we try to fit them.\n",
        "\n",
        "\n",
        "Correct! By looking at the Scikit Learn documentation (or your excellent memory!) you know that `number_attempts` is not a valid hyperparameter. This `GridSearchCV` will not fit to our data."
      ]
    },
    {
      "cell_type": "markdown",
      "metadata": {
        "id": "rQEsYpcURFs7"
      },
      "source": [
        "```python\n",
        "Model #1:\n",
        " GridSearchCV(\n",
        "    estimator = RandomForestClassifier(),\n",
        "    param_grid = {'max_depth': [2, 4, 8, 15], 'max_features': ['auto', 'sqrt']},\n",
        "    scoring='roc_auc',\n",
        "    n_jobs=4,\n",
        "    cv=5,\n",
        "    refit=True, return_train_score=True) \n",
        "\n",
        "\n",
        "Model #2:\n",
        " GridSearchCV(\n",
        "    estimator = KNeighborsClassifier(),\n",
        "    param_grid = {'n_neighbors': [5, 10, 20], 'algorithm': ['ball_tree', 'brute']},\n",
        "    scoring='accuracy',\n",
        "    n_jobs=8,\n",
        "    cv=10,\n",
        "    refit=False) \n",
        "\n",
        "\n",
        "Model #3:\n",
        " GridSearchCV(\n",
        "    estimator = GradientBoostingClassifier(),\n",
        "    param_grid = {'number_attempts': [2, 4, 6], 'max_depth': [3, 6, 9, 12]},\n",
        "    scoring='accuracy',\n",
        "    n_jobs=2,\n",
        "    cv=7,\n",
        "    refit=True) \n",
        "```"
      ]
    },
    {
      "cell_type": "markdown",
      "metadata": {
        "id": "bGYioHL4YAyK"
      },
      "source": [
        "## 2.7 GridSearchCV with Scikit Learn\n",
        "\n",
        "\n",
        "The `GridSearchCV` module from Scikit Learn provides many useful features to assist with efficiently undertaking a grid search. You will now put your learning into practice by creating a `GridSearchCV` object with certain parameters.\n",
        "\n",
        "The desired options are:\n",
        "\n",
        "- A Random Forest Estimator, with the split criterion as 'entropy'\n",
        "- 5-fold cross validation\n",
        "- The hyperparameters `max_depth` (2, 4, 8, 15) and `max_features` ('auto' vs 'sqrt')\n",
        "- Use `roc_auc` to score the models\n",
        "- Use 4 cores for processing in parallel\n",
        "- Ensure you refit the best model and return training scores\n",
        "\n",
        "You will have available `X_train`, `X_test`, `y_train` & `y_test` datasets.\n",
        "\n",
        "##### Instructions\n",
        "\n",
        "**100 XP**\n",
        "\n",
        "- Create a Random Forest estimator as specified in the context above.\n",
        "- Create a parameter grid as specified in the context above.\n",
        "- Create a `GridSearchCV` object as outlined in the context above, using the two elements created in the previous two instructions."
      ]
    },
    {
      "cell_type": "code",
      "execution_count": null,
      "metadata": {
        "id": "tyvpyjr8R26H"
      },
      "outputs": [],
      "source": [
        "# Create a Random Forest Classifier with specified criterion\n",
        "rf_class = RandomForestClassifier(criterion='entropy')\n",
        "\n",
        "# Create the parameter grid\n",
        "param_grid = { 'max_depth':[2, 4, 8, 15],\n",
        "    'max_features':['auto', 'sqrt']} \n",
        "\n",
        "# Create a GridSearchCV object\n",
        "grid_rf_class = GridSearchCV(\n",
        "    estimator=rf_class,\n",
        "    param_grid=param_grid,\n",
        "    scoring='roc_auc',\n",
        "    n_jobs=4,\n",
        "    cv=5,\n",
        "    refit=True,\n",
        "    return_train_score=True)\n",
        "print(grid_rf_class)\n"
      ]
    },
    {
      "cell_type": "markdown",
      "metadata": {
        "id": "OaUalPOPR50E"
      },
      "source": [
        "Excellent work! You now understand all the inputs to a `GridSearchCV` object and can tune many different hyperparameters and many different values for each on a chosen algorithm!"
      ]
    },
    {
      "cell_type": "markdown",
      "metadata": {
        "id": "_BBOIvxkYA1D"
      },
      "source": [
        "## 2.8 Understanding a grid search output\n"
      ]
    },
    {
      "cell_type": "markdown",
      "metadata": {
        "id": "iMRZyjf7YA3x"
      },
      "source": [
        "## 2.9 Using the best outputs\n",
        "\n",
        "\n",
        "Which of the following parameters must be set in order to be able to directly use the `best_estimator_` property for predictions?\n",
        "\n",
        "##### Answer the question\n",
        "\n",
        "**50XP**\n",
        "\n",
        "#### Possible Answers\n",
        "\n",
        "- `return_train_score = True`\n",
        "\n",
        "- **`refit = True`**\n",
        "    \n",
        "- `refit = False`\n",
        "    \n",
        "- `verbose = 1`\n",
        "\n",
        "Correct! When we set this to true, the creation of the grid search object automatically refits the best parameters on the whole training set and creates the `best_estimator_` property."
      ]
    },
    {
      "cell_type": "markdown",
      "metadata": {
        "id": "dP5HSCaqYBQX"
      },
      "source": [
        "## 2.10 Exploring the grid search results\n",
        "You will now explore the `cv_results_` property of the GridSearchCV object defined in the video. This is a dictionary that we can read into a pandas DataFrame and contains a lot of useful information about the grid search we just undertook.\n",
        "\n",
        "A reminder of the different column types in this property:\n",
        "\n",
        "- `time_` columns\n",
        "- `param_` columns (one for each hyperparameter) and **the** singular `params` column (with all hyperparameter settings)\n",
        "- a `train_score` column for each cv fold including the `mean_train_score` and `std_train_score` columns\n",
        "- a `test_score` column for each cv fold including the `mean_test_score` and `std_test_score` columns\n",
        "- a `rank_test_score` column with a number from 1 to n (number of iterations) ranking the rows based on their `mean_test_score`\n",
        "\n",
        "##### Instructions\n",
        "\n",
        "**100 XP**\n",
        "\n",
        "- Read the `cv_results_` property of the `grid_rf_class` GridSearchCV object into a data frame & print the whole thing out to inspect.\n",
        "- Extract & print the **singular** column containing a dictionary of all hyperparameters used in each iteration of the grid search.\n",
        "- Extract & print the row that had the best mean test score by indexing using the `rank_test_score` column."
      ]
    },
    {
      "cell_type": "code",
      "execution_count": null,
      "metadata": {
        "id": "WOH5gWsvS9uw"
      },
      "outputs": [],
      "source": [
        "# Read the cv_results property into a dataframe & print it out\n",
        "cv_results_df = pd.DataFrame(grid_rf_class.cv_results_)\n",
        "print(cv_results_df)\n",
        "\n",
        "# Extract and print the column with a dictionary of hyperparameters used\n",
        "column = cv_results_df.loc[:, [\"params\"]]\n",
        "print(column)\n",
        "\n",
        "# Extract and print the row that had the best mean test score\n",
        "best_row = cv_results_df[cv_results_df['rank_test_score'] == 1]\n",
        "print(best_row)"
      ]
    },
    {
      "cell_type": "markdown",
      "metadata": {
        "id": "JrGW7bkGTJZB"
      },
      "source": [
        "Great work! You have built invaluable skills in looking 'under the hood' at what your grid search is doing by extracting and analysing the `cv_results_` property."
      ]
    },
    {
      "cell_type": "markdown",
      "metadata": {
        "id": "zCPj1w-zYBTI"
      },
      "source": [
        "## 2.11 Analyzing the best results\n",
        "\n",
        "At the end of the day, we primarily care about the best performing 'square' in a grid search. Luckily Scikit Learn's `gridSearchCv` objects have a number of parameters that provide key information on just the best square (or row in `cv_results_`).\n",
        "\n",
        "Three properties you will explore are:\n",
        "\n",
        "- `best_score_` – The score (here ROC\\_AUC) from the best-performing square.\n",
        "- `best_index_` – The index of the row in `cv_results_` containing information on the best-performing square.\n",
        "- `best_params_` – A dictionary of the parameters that gave the best score, for example `'max_depth': 10`\n",
        "\n",
        "The grid search object `grid_rf_class` is available.\n",
        "\n",
        "A dataframe (`cv_results_df`) has been created from the `cv_results_` for you on line 6. This will help you index into the results.\n",
        "\n",
        "##### Instructions\n",
        "\n",
        "**100 XP**\n",
        "\n",
        "- Extract and print out the ROC\\_AUC **score** from the **best** performing square in `grid_rf_class`.\n",
        "- Create a variable from the best-performing row by **index**ing into `cv_results_df`.\n",
        "- Create a variable, `best_n_estimators` by extracting the `n_estimators` parameter from the best-performing square in `grid_rf_class` and print it out."
      ]
    },
    {
      "cell_type": "code",
      "execution_count": null,
      "metadata": {
        "id": "ozlh_ERNT9BF"
      },
      "outputs": [],
      "source": [
        "# Print out the ROC_AUC score from the best-performing square\n",
        "best_score = grid_rf_class.best_score_\n",
        "print(best_score)\n",
        "\n",
        "# Create a variable from the row related to the best-performing square\n",
        "cv_results_df = pd.DataFrame(grid_rf_class.cv_results_)\n",
        "best_row = cv_results_df.loc[[grid_rf_class.best_index_]]\n",
        "print(best_row)\n",
        "\n",
        "# Get the n_estimators parameter from the best-performing square and print\n",
        "best_n_estimators = grid_rf_class.best_params_['n_estimators']\n",
        "print(best_n_estimators)"
      ]
    },
    {
      "cell_type": "markdown",
      "metadata": {
        "id": "aoYyE1ysUQZq"
      },
      "source": [
        "Nice stuff! Being able to quickly find and prioritize the huge volume of information given back from machine learning modeling output is a great skill. Here you had great practice doing that with `cv_results_` by quickly isolating the key information on the best performing square. This will be very important when your grids grow from 12 squares to many more!"
      ]
    },
    {
      "cell_type": "markdown",
      "metadata": {
        "id": "ZpYhwVkvYBWm"
      },
      "source": [
        "## 2.12 Using the best results\n",
        "\n",
        "While it is interesting to analyze the results of our grid search, our final goal is practical in nature; we want to make predictions on our test set using our estimator object.\n",
        "\n",
        "We can access this object through the `best_estimator_` property of our grid search object.\n",
        "\n",
        "Let's take a look inside the `best_estimator_` property, make predictions, and generate evaluation scores. We will firstly use the default `predict` (giving class predictions), but then we will need to use `predict_proba` rather than `predict` to generate the roc-auc score as roc-auc needs probability scores for its calculation. We use a slice `[:,1]` to get probabilities of the positive class.\n",
        "\n",
        "You have available the `X_test` and `y_test` datasets to use and the `grid_rf_class` object from previous exercises.\n",
        "\n",
        "##### Instructions\n",
        "\n",
        "**100 XP**\n",
        "\n",
        "- Check the type of the `best_estimator_` property.\n",
        "- Use the `best_estimator_` property to make predictions on our test set.\n",
        "- Generate a confusion matrix and ROC\\_AUC score from our predictions."
      ]
    },
    {
      "cell_type": "code",
      "execution_count": null,
      "metadata": {
        "id": "gjTgGoHDUfOv"
      },
      "outputs": [],
      "source": [
        "# See what type of object the best_estimator_ property is\n",
        "print(type(grid_rf_class.best_estimator_))\n",
        "\n",
        "# Create an array of predictions directly using the best_estimator_ property\n",
        "predictions = grid_rf_class.best_estimator_.predict(X_test)\n",
        "\n",
        "# Take a look to confirm it worked, this should be an array of 1's and 0's\n",
        "print(predictions[0:5])\n",
        "\n",
        "# Now create a confusion matrix \n",
        "print(\"Confusion Matrix \\n\", confusion_matrix(y_test, predictions))\n",
        "\n",
        "# Get the ROC-AUC score\n",
        "predictions_proba = grid_rf_class.best_estimator_.predict_proba(X_test)[:,1]\n",
        "print(\"ROC-AUC Score \\n\", roc_auc_score(y_test, predictions_proba))"
      ]
    },
    {
      "cell_type": "markdown",
      "metadata": {
        "id": "J1a5G8eOYBmt"
      },
      "source": [
        "Nice stuff! The `.best_estimator_` property is a really powerful property to understand for streamlining your machine learning model building process. You now can run a grid search and seamlessly use the best model from that search to make predictions. Piece of cake!"
      ]
    },
    {
      "cell_type": "markdown",
      "metadata": {
        "id": "2LsdCxMmeGcH"
      },
      "source": [
        "# 3. Random Search\n",
        "In this chapter you will be introduced to another popular automated hyperparameter tuning methodology called Random Search. You will learn what it is, how it works and importantly how it differs from grid search. You will learn some advantages and disadvantages of this method and when to choose this method compared to Grid Search. You will practice undertaking a Random Search with Scikit Learn as well as visualizing & interpreting the output."
      ]
    },
    {
      "cell_type": "markdown",
      "metadata": {
        "id": "iW7Z9cekfGwq"
      },
      "source": [
        "\n",
        "## 3.1 Introducing Random Search\n"
      ]
    },
    {
      "cell_type": "markdown",
      "metadata": {
        "id": "adHjRqMIYR9z"
      },
      "source": [
        "## 3.2 Randomly Sample Hyperparameters\n",
        "To undertake a random search, we firstly need to undertake a random sampling of our hyperparameter space.\n",
        "\n",
        "In this exercise, you will firstly create some lists of hyperparameters that can be zipped up to a list of lists. Then you will randomly sample hyperparameter combinations preparation for running a random search.\n",
        "\n",
        "You will use just the hyperparameters `learning_rate` and `min_samples_leaf` of the GBM algorithm to keep the example illustrative and not overly complicated.\n",
        "\n",
        "##### Instructions\n",
        "\n",
        "**100 XP**\n",
        "\n",
        "- Create a list of 200 values for the `learning_rate` hyperparameter between 0.01 and 1.5 and assign to the list `learn_rate_list`.\n",
        "- Create a list of values between 10 and 40 inclusive for the hyperparameter `min_samples_leaf` and assign to the list `min_samples_list`.\n",
        "- Combine these lists into a list of lists to sample from.\n",
        "- Randomly sample 250 models from these hyperparameter combinations and print the result."
      ]
    },
    {
      "cell_type": "code",
      "execution_count": null,
      "metadata": {
        "id": "qNf-eI3HVo-A"
      },
      "outputs": [],
      "source": [
        "# Create a list of values for the learning_rate hyperparameter\n",
        "learn_rate_list = list(np.linspace(0.01, 1.5, 200))\n",
        "\n",
        "# Create a list of values for the min_samples_leaf hyperparameter\n",
        "min_samples_list = list(range(10, 41))\n",
        "\n",
        "# Combination list\n",
        "combinations_list = [list(x) for x in product(learn_rate_list, min_samples_list)]\n",
        "\n",
        "# Sample hyperparameter combinations for a random search.\n",
        "random_combinations_index = np.random.choice(range(0, len(combinations_list)), 250, replace=False)\n",
        "combinations_random_chosen = [combinations_list[x] for x in random_combinations_index]\n",
        "\n",
        "# Print the result\n",
        "print(combinations_random_chosen)"
      ]
    },
    {
      "cell_type": "markdown",
      "metadata": {
        "id": "XsE4HybUV0bp"
      },
      "source": [
        "Excellent work! You generated some hyperparameter combinations and randomly sampled in that space. The output was not too nice though, in the next lesson we will use a much more efficient method for this. In a future lesson we will also make this output look much nicer!"
      ]
    },
    {
      "cell_type": "markdown",
      "metadata": {
        "id": "lObAGo_7YSA3"
      },
      "source": [
        "## 3.3 Randomly Search with Random Forest\n",
        "To solidify your knowledge of random sampling, let's try a similar exercise but using different hyperparameters and a different algorithm.\n",
        "\n",
        "As before, create some lists of hyperparameters that can be zipped up to a list of lists. You will use the hyperparameters `criterion`, `max_depth` and `max_features` of the random forest algorithm. Then you will randomly sample hyperparameter combinations in preparation for running a random search.\n",
        "\n",
        "You will use a slightly different package for sampling in this task, `random.sample()`.\n",
        "\n",
        "##### Instructions\n",
        "\n",
        "**100 XP**\n",
        "\n",
        "- Create lists of the values `'gini'` and `'entropy'` for `criterion` & `\"auto\", \"sqrt\", \"log2\", None` for `max_features`.\n",
        "- Create a list of values between 3 and 55 inclusive for the hyperparameter `max_depth` and assign to the list `max_depth_list`. Remember that `range(N,M)` will create a list from `N` to `M`\\-1.\n",
        "- Combine these lists into a list of lists to sample from using `product()`.\n",
        "- Randomly sample 150 models from the combined list and print the result."
      ]
    },
    {
      "cell_type": "code",
      "execution_count": null,
      "metadata": {
        "id": "4sTASnt5V3zf"
      },
      "outputs": [],
      "source": [
        "# Create lists for criterion and max_features\n",
        "criterion_list = ['gini', 'entropy']\n",
        "max_feature_list = ['auto', 'sqrt', 'log2', None]\n",
        "\n",
        "# Create a list of values for the max_depth hyperparameter\n",
        "max_depth_list = list(range(3, 56))\n",
        "\n",
        "# Combination list\n",
        "combinations_list = [list(x) for x in product(criterion_list, max_feature_list, max_depth_list)]\n",
        "\n",
        "# Sample hyperparameter combinations for a random search\n",
        "combinations_random_chosen = random.sample(combinations_list, 150)\n",
        "\n",
        "# Print the result\n",
        "print(combinations_random_chosen)"
      ]
    },
    {
      "cell_type": "markdown",
      "metadata": {
        "id": "_ujNrxkBWcTa"
      },
      "source": [
        "Excellent work! This one was a bit harder but you managed to sample using text options and learned a new function to sample your lists."
      ]
    },
    {
      "cell_type": "markdown",
      "metadata": {
        "id": "SJN5gRLsYSFX"
      },
      "source": [
        "## 3.4 Visualizing a Random Search\n",
        "Visualizing the search space of random search allows you to easily see the coverage of this technique and therefore allows you to see the effect of your sampling on the search space.\n",
        "\n",
        "In this exercise you will use several different samples of hyperparameter combinations and produce visualizations of the search space.\n",
        "\n",
        "The function `sample_and_visualize_hyperparameters()` takes a single argument (number of combinations to sample) and then randomly samples hyperparameter combinations, just like you did in the last exercise! The function will then visualize the combinations.\n",
        "\n",
        "If you want to see the function definition, you can use Python's handy `inspect` library, like so:\n",
        "\n",
        "`print(inspect.getsource(sample_and_visualize_hyperparameters))`\n",
        "\n",
        "##### Instructions\n",
        "\n",
        "**100 XP**\n",
        "\n",
        "##### Instructions\n",
        "\n",
        "**100 XP**\n",
        "\n",
        "- Confirm how many possible hyperparameter combinations there are in `combinations_list` by assigning to the variable `number_combs` and print this out.\n",
        "- Sample and visualize 50, 500 and 1500 combinations. You will use a loop for succinctness. What do you notice about the visualization?\n",
        "- Now sample and visualize the entire set of combinations. You have already made a variable to assist with this. What does this look like?\n",
        "\n",
        "```python\n",
        "# Extract the 7th (index 6) tree from the random forest\n",
        "chosen_tree = rf_clf.estimators_[6]\n",
        "\n",
        "# Visualize the graph using the provided image\n",
        "imgplot = plt.imshow(tree_viz_image)\n",
        "plt.show()\n",
        "\n",
        "# Extract the parameters and level of the top (index 0) node\n",
        "split_column = chosen_tree.tree_.feature[0]\n",
        "split_column_name = X_train.columns[split_column]\n",
        "split_value = chosen_tree.tree_.threshold[1]\n",
        "\n",
        "# Print out the feature and level\n",
        "print(\"This node split on feature {}, at a value of {}\".format(split_column_name, split_value))\n",
        "```"
      ]
    },
    {
      "cell_type": "code",
      "execution_count": null,
      "metadata": {
        "id": "U0TDSo5kW-Xg"
      },
      "outputs": [],
      "source": [
        "import matplotlib.pyplot as plt\n",
        "\n",
        "def sample_and_visualize_hyperparameters(n_samples):\n",
        "    # If asking for all combinations, just return the entire list.\n",
        "    if n_samples == len(combinations_list):\n",
        "        combinations_random_chosen = combinations_list\n",
        "    else:\n",
        "        combinations_random_chosen = []\n",
        "        random_combinations_index = np.random.choice(range(0, len(combinations_list)), n_samples, replace=False)\n",
        "        combinations_random_chosen = [combinations_list[x] for x in random_combinations_index]\n",
        "    \n",
        "    # Pull out the X and Y to plot\n",
        "    rand_y, rand_x = [x[0] for x in combinations_random_chosen], [x[1] for x in combinations_random_chosen]\n",
        "\n",
        "    # Plot \n",
        "    plt.clf() \n",
        "    plt.scatter(rand_y, rand_x, c=['blue']*len(combinations_random_chosen))\n",
        "    plt.gca().set(xlabel='learn_rate', ylabel='min_samples_leaf', title='Random Search Hyperparameters')\n",
        "    plt.gca().set_xlim([0.01, 1.5])\n",
        "    plt.gca().set_ylim([10, 29])"
      ]
    },
    {
      "cell_type": "code",
      "execution_count": null,
      "metadata": {
        "id": "UgP7ripwX2BS"
      },
      "outputs": [],
      "source": [
        "learn_rate_list = list(np.linspace(0.01, 1.5, 200))\n",
        "\n",
        "# Create a list of values for the min_samples_leaf hyperparameter\n",
        "min_samples_list = list(range(10, 30))"
      ]
    },
    {
      "cell_type": "code",
      "execution_count": null,
      "metadata": {
        "id": "KKqHPi-KW_Z6"
      },
      "outputs": [],
      "source": [
        "# Confirm how many hyperparameter combinations & print\n",
        "number_combs = len(combinations_list)\n",
        "print(number_combs)\n",
        "\n",
        "# Sample and visualise specified combinations\n",
        "for x in [50, 500, 1500]:\n",
        "    sample_and_visualize_hyperparameters(x)\n",
        "    \n",
        "# Sample all the hyperparameter combinations & visualise\n",
        "sample_and_visualize_hyperparameters(number_combs)\n",
        "\n"
      ]
    },
    {
      "cell_type": "markdown",
      "metadata": {
        "id": "qLBpd3NyYNwt"
      },
      "source": [
        "Those were some great viz you produced! Notice how the bigger your sample space of a random search the more it looks like a grid search? In a later lesson we will look closer at comparing these two methods side by side."
      ]
    },
    {
      "cell_type": "markdown",
      "metadata": {
        "id": "tRHrB8oqYSI0"
      },
      "source": [
        "## 3.5 Random Search in Scikit Learn\n"
      ]
    },
    {
      "cell_type": "markdown",
      "metadata": {
        "id": "HSvYcVctYSLm"
      },
      "source": [
        "## 3.6 RandomSearchCV inputs\n",
        "Let's test your knowledge of how `RandomizedSearchCV` differs from `GridSearchCV`.\n",
        "\n",
        "You can check the documentation on Scitkit Learn's website to compare these two functions.\n",
        "\n",
        "Which of these parameters is _only_ for a `RandomizedSearchCV`?\n",
        "\n",
        "##### Instructions\n",
        "\n",
        "**50 XP**\n",
        "\n",
        "##### Possible Answers\n",
        "\n",
        "- `param_grid`\n",
        "    \n",
        "- `n_jobs`\n",
        "    \n",
        "- `best_estimator_`\n",
        "    \n",
        "- **`n_iter`**\n",
        "\n",
        "\n",
        "```python\n",
        "# Confirm how many hyperparameter combinations & print\n",
        "number_combs = len(combinations_list)\n",
        "print(number_combs)\n",
        "\n",
        "# Sample and visualise specified combinations\n",
        "for x in [50, 500, 1500]:\n",
        "    sample_and_visualize_hyperparameters(x)\n",
        "    \n",
        "# Sample all the hyperparameter combinations & visualise\n",
        "sample_and_visualize_hyperparameters(____)\n",
        "```\n",
        "\n",
        "Correct! RandomizedSearchCV asks you for how many models to sample from the grid you set."
      ]
    },
    {
      "cell_type": "markdown",
      "metadata": {
        "id": "U1g0ScTdYSOi"
      },
      "source": [
        "## 3.7 The RandomizedSearchCV Object\n",
        "\n",
        "Just like the `GridSearchCV` library from Scikit Learn, `RandomizedSearchCV` provides many useful features to assist with efficiently undertaking a random search. You're going to create a `RandomizedSearchCV` object, making the small adjustment needed from the `GridSearchCV` object.\n",
        "\n",
        "The desired options are:\n",
        "\n",
        "- A default Gradient Boosting Classifier Estimator\n",
        "- 5-fold cross validation\n",
        "- Use accuracy to score the models\n",
        "- Use 4 cores for processing in parallel\n",
        "- Ensure you refit the best model and return training scores\n",
        "- Randomly sample 10 models\n",
        "\n",
        "The hyperparameter grid should be for `learning_rate` (150 values between 0.1 and 2) and `min_samples_leaf` (all values between and including 20 and 64).\n",
        "\n",
        "You will have available `X_train` & `y_train` datasets.\n",
        "\n",
        "##### Instructions\n",
        "\n",
        "**100 XP**\n",
        "\n",
        "- Create a parameter grid as specified in the context above.\n",
        "- Create a `RandomizedSearchCV` object as outlined in the context above.\n",
        "- Fit the `RandomizedSearchCV` object to the training data.\n",
        "- Print the values chosen by the modeling process for both hyperparameters."
      ]
    },
    {
      "cell_type": "code",
      "execution_count": null,
      "metadata": {
        "id": "Ms2uq9ZgZtbu"
      },
      "outputs": [],
      "source": [
        "from sklearn.model_selection import train_test_split\n",
        "\n",
        "credit_card = pd.read_csv('./dataset/credit-card-full.csv')\n",
        "# To change categorical variable with dummy variables\n",
        "credit_card = pd.get_dummies(credit_card, columns=['SEX', 'EDUCATION', 'MARRIAGE'], drop_first=True)\n",
        "\n",
        "X = credit_card.drop(['ID', 'default payment next month'], axis=1)\n",
        "y = credit_card['default payment next month']\n",
        "\n",
        "X_train, X_test, y_train, y_test = train_test_split(X, y, test_size=0.3, shuffle=True)\n",
        "\n",
        "from sklearn.ensemble import GradientBoostingClassifier\n",
        "from sklearn.model_selection import RandomizedSearchCV"
      ]
    },
    {
      "cell_type": "code",
      "execution_count": null,
      "metadata": {
        "id": "WIO4nxRwZs0Z"
      },
      "outputs": [],
      "source": [
        "# Create the parameter grid\n",
        "param_grid = {'learning_rate': np.linspace(0.1, 2, 150), \n",
        "              'min_samples_leaf': list(range(20, 65))}\n",
        "\n",
        "# Create a random search object\n",
        "random_GBM_class = RandomizedSearchCV(\n",
        "    estimator=GradientBoostingClassifier(),\n",
        "    param_distributions=param_grid,\n",
        "    n_iter=10,\n",
        "    scoring='accuracy', n_jobs=4, cv=5, refit=True, return_train_score=True\n",
        ")\n",
        "\n",
        "# Fit to the training data\n",
        "random_GBM_class.fit(X_train, y_train)\n",
        "\n",
        "# Print the values used for both hyperparameters\n",
        "print(random_GBM_class.cv_results_['param_learning_rate'])\n",
        "print(random_GBM_class.cv_results_['param_min_samples_leaf'])"
      ]
    },
    {
      "cell_type": "markdown",
      "metadata": {
        "id": "i7DFcQ8lZ26Y"
      },
      "source": [
        "Great work! You have succesfully taken the knowledge gained from the grid search section and adjusted it to be able to run a random search. This is a very valuable tool to add to your Machine Learning Toolkit!"
      ]
    },
    {
      "cell_type": "markdown",
      "metadata": {
        "id": "q433lq8EYSTM"
      },
      "source": [
        "## 3.8 RandomSearchCV in Scikit Learn\n",
        "Let's practice building a RandomizedSearchCV object using Scikit Learn.\n",
        "\n",
        "The hyperparameter grid should be for `max_depth` (all values between and including 5 and 25) and `max_features` ('auto' and 'sqrt').\n",
        "\n",
        "The desired options for the RandomizedSearchCV object are:\n",
        "\n",
        "- A RandomForestClassifier Estimator with `n_estimators` of 80.\n",
        "- 3-fold cross validation (`cv`)\n",
        "- Use `roc_auc` to **score** the models\n",
        "- Use 4 cores for processing in parallel (`n_jobs`)\n",
        "- Ensure you refit the best model and return training scores\n",
        "- Only sample 5 models for efficiency (`n_iter`)\n",
        "\n",
        "`X_train` & `y_train` datasets are loaded for you.\n",
        "\n",
        "Remember, to extract the chosen hyperparameters these are found in `cv_results_` with a column per hyperparameter. For example, the column for the hyperparameter `criterion` would be `param_criterion`.\n",
        "\n",
        "##### Instructions\n",
        "\n",
        "**100 XP**\n",
        "\n",
        "- Create a hyperparameter grid as specified in the context above.\n",
        "- Create a `RandomizedSearchCV` object as outlined in the context above.\n",
        "- Fit the `RandomizedSearchCV` object to the training data.\n",
        "- Index into the `cv_results_` object to print the values chosen by the modeling process for both hyperparameters (`max_depth` and `max_features`)."
      ]
    },
    {
      "cell_type": "code",
      "execution_count": null,
      "metadata": {
        "id": "8fkQ5vM3axcE"
      },
      "outputs": [],
      "source": [
        "# Create the parameter grid\n",
        "param_grid = {'max_depth': list(range(5, 26)), 'max_features': ['auto', 'sqrt']} \n",
        "\n",
        "# Create a random search object\n",
        "random_rf_class = RandomizedSearchCV(\n",
        "    estimator = RandomForestClassifier(n_estimators=80),\n",
        "    param_distributions = param_grid, n_iter = 5,\n",
        "    scoring='roc_auc', n_jobs=4, cv = 3, refit=True, return_train_score = True )\n",
        "\n",
        "# Fit to the training data\n",
        "random_rf_class.fit(X_train, y_train)\n",
        "\n",
        "# Print the values used for both hyperparameters\n",
        "print(random_rf_class.cv_results_['param_max_depth'])\n",
        "print(random_rf_class.cv_results_['param_max_features'])"
      ]
    },
    {
      "cell_type": "markdown",
      "metadata": {
        "id": "yzTos8S0bJbd"
      },
      "source": [
        "Excellent stuff! You adapted your knowledge to a new algorithm and set of hyperparameters and values. Being able to transpose your knowledge to new situations is an invaluable skill - excellent!"
      ]
    },
    {
      "cell_type": "markdown",
      "metadata": {
        "id": "r83u2iUsYSUb"
      },
      "source": [
        "## 3.9 Comparing Grid and Random Search\n"
      ]
    },
    {
      "cell_type": "markdown",
      "metadata": {
        "id": "lv54VDTYYSVz"
      },
      "source": [
        "## 3.10 Comparing Random & Grid Search\n",
        "In the video, you just studied some of the advantages and disadvantages of random search as compared to grid search.\n",
        "\n",
        "* * *\n",
        "\n",
        "Which of the following is an advantage of random search?\n",
        "\n",
        "##### Answer the question\n",
        "\n",
        "**50XP**\n",
        "\n",
        "#### Possible Answers\n",
        "\n",
        "- It exhaustively searches all possible hyperparameter combinations, so is guaranteed to find the best model within the specified grid.\n",
        "        \n",
        "- It doesn't matter what grid you sample from, it will still find the best model.\n",
        "    \n",
        "    \n",
        "- There are no advantages, it is worse than Grid Search.\n",
        "    \n",
        "    \n",
        "- It is more computationally efficient than Grid Search.\n",
        "\n",
        "Yes! As you saw in the slides, random search tests a larger space of values so is more likely to get close to the best score, given the same computational resources as Grid Search."
      ]
    },
    {
      "cell_type": "markdown",
      "metadata": {
        "id": "iETzL7KJYSXb"
      },
      "source": [
        "## 3.11 Grid and Random Search Side by Side\n",
        "\n",
        "Visualizing the search space of random and grid search together allows you to easily see the coverage that each technique has and therefore brings to life their specific advantages and disadvantages.\n",
        "\n",
        "In this exercise, you will sample hyperparameter combinations in a grid search way as well as a random search way, then plot these to see the difference.\n",
        "\n",
        "You will have available:\n",
        "\n",
        "- `combinations_list` which is a list of combinations of `learn_rate` and `min_samples_leaf` for this algorithm\n",
        "- The function `visualize_search()` which will make your hyperparameter combinations into X and Y coordinates and plot both grid and random search combinations on the same graph. It takes as input two lists of hyperparameter combinations.\n",
        "\n",
        "If you wish to view the `visualize_search()` function definition, you can run this code:\n",
        "\n",
        "```\n",
        "import inspect\n",
        "print(inspect.getsource(visualize_search))\n",
        "```\n",
        "\n",
        "##### Instructions 1/4\n",
        "\n",
        "**35 XP**\n",
        "\n",
        "\n",
        "- Sample (by slicing) 300 hyperparameter combinations for a grid search from `combinations_list` into two lists and print the result."
      ]
    },
    {
      "cell_type": "code",
      "execution_count": null,
      "metadata": {
        "id": "ENJltHyMbxF6"
      },
      "outputs": [],
      "source": [
        "# Sample grid coordinates\n",
        "grid_combinations_chosen = combinations_list[0:300]\n",
        "\n",
        "# Print result\n",
        "print(grid_combinations_chosen)"
      ]
    },
    {
      "cell_type": "markdown",
      "metadata": {
        "id": "tDHdnQcubxQ6"
      },
      "source": [
        "##### Instructions 2/4\n",
        "\n",
        "**35 XP**\n",
        "\n",
        "\n",
        "- Let's randomly sample too. Create a list of every index in `combinations_list` to sample from using `range()`\n",
        "- Use `np.random.choice()` to sample 300 combinations. The first two arguments are a list to sample from and the number of samples."
      ]
    },
    {
      "cell_type": "code",
      "execution_count": null,
      "metadata": {
        "id": "zXgxuMbkbxaq"
      },
      "outputs": [],
      "source": [
        "# Sample grid coordinates\n",
        "grid_combinations_chosen = combinations_list[0:300]\n",
        "\n",
        "# Create a list of sample indexes\n",
        "sample_indexes = list(range(0, len(combinations_list)))\n",
        "\n",
        "# Randomly sample 300 indexes\n",
        "random_indexes = np.random.choice(sample_indexes, 300, replace=False)"
      ]
    },
    {
      "cell_type": "markdown",
      "metadata": {
        "id": "Pp3BMeYnbxk6"
      },
      "source": [
        "##### Instructions 3/4\n",
        "\n",
        "**0 XP**\n",
        "\n",
        "- Now use the list of random indexes to index into `combinations_list` using a list comprehension."
      ]
    },
    {
      "cell_type": "code",
      "execution_count": null,
      "metadata": {
        "id": "DYL5MK4RbxvY"
      },
      "outputs": [],
      "source": [
        "# Sample grid coordinates\n",
        "grid_combinations_chosen = combinations_list[0:300]\n",
        "\n",
        "# Create a list of sample indexes\n",
        "sample_indexes = list(range(0,len(combinations_list)))\n",
        "\n",
        "# Randomly sample 300 indexes\n",
        "random_indexes = np.random.choice(sample_indexes, 300, replace=False)\n",
        "\n",
        "# Use indexes to create random sample\n",
        "random_combinations_chosen = [combinations_list[index] for index in random_indexes]"
      ]
    },
    {
      "cell_type": "markdown",
      "metadata": {
        "id": "jM8ZZp1ubzv1"
      },
      "source": [
        "##### Instructions 4/4\n",
        "\n",
        "**30 XP**\n",
        "\n",
        "- Use the provided `visualize_search()` function to visualize the two sampling methodologies. The first argument is your grid combinations, the second argument is the random combinations you created."
      ]
    },
    {
      "cell_type": "code",
      "execution_count": null,
      "metadata": {
        "id": "JO58Pufbbz9x"
      },
      "outputs": [],
      "source": [
        "# Sample grid coordinates\n",
        "grid_combinations_chosen = combinations_list[0:300]\n",
        "\n",
        "# Create a list of sample indexes\n",
        "sample_indexes = list(range(0,len(combinations_list)))\n",
        "\n",
        "# Randomly sample 300 indexes\n",
        "random_indexes = np.random.choice(sample_indexes, 300, replace=False)\n",
        "\n",
        "# Use indexes to create random sample\n",
        "random_combinations_chosen = [combinations_list[index] for index in random_indexes]\n",
        "\n",
        "# Call the function to produce the visualization\n",
        "visualize_search(grid_combinations_chosen, random_combinations_chosen)\n"
      ]
    },
    {
      "cell_type": "markdown",
      "metadata": {
        "id": "Gz_GI8Q-cupY"
      },
      "source": [
        "That is a great viz you produced! You can really see how a grid search will cover a small area completely whilst random search will cover a much larger area but not completely.\n",
        "\n"
      ]
    },
    {
      "cell_type": "markdown",
      "metadata": {
        "id": "fmfxs0PXeGpK"
      },
      "source": [
        "# 4. Informed Search\n",
        "In this final chapter you will be given a taste of more advanced hyperparameter tuning methodologies known as ''informed search''. This includes a methodology known as Coarse To Fine as well as Bayesian & Genetic hyperparameter tuning algorithms. You will learn how informed search differs from uninformed search and gain practical skills with each of the mentioned methodologies, comparing and contrasting them as you go."
      ]
    },
    {
      "cell_type": "markdown",
      "metadata": {
        "id": "yyxy_uWkfSn0"
      },
      "source": [
        "## 4.1 Informed Search: Coarse to Fine\n"
      ]
    },
    {
      "cell_type": "markdown",
      "metadata": {
        "id": "n0cKBsSQYfKQ"
      },
      "source": [
        "## 4.2 Visualizing Coarse to Fine\n",
        "You're going to undertake the first part of a Coarse to Fine search. This involves analyzing the results of an initial random search that took place over a large search space, then deciding what would be the next logical step to make your hyperparameter search finer.\n",
        "\n",
        "You have available:\n",
        "\n",
        "- `combinations_list` - a list of the possible hyperparameter combinations the random search was undertaken on.\n",
        "- `results_df` - a DataFrame that has each hyperparameter combination and the resulting accuracy of all 500 trials. **Each hyperparameter is a column**, with the header the hyperparameter name.\n",
        "- `visualize_hyperparameter()` - a function that takes in a column of the DataFrame (as a string) and produces a scatter plot of this column's values compared to the accuracy scores. An example call of the function would be `visualize_hyperparameter('accuracy')`\n",
        "\n",
        "If you wish to view the `visualize_hyperparameter()` function definition, you can run this code:\n",
        "\n",
        "```\n",
        "import inspect\n",
        "print(inspect.getsource(visualize_hyperparameter))\n",
        "```\n",
        "\n",
        "##### Instructions\n",
        "\n",
        "**100 XP**\n",
        "\n",
        "- Confirm (by printing out) the size of the `combinations_list`, justifying the need to start with a random search.\n",
        "- Sort the `results_df` by accuracy values and print the top 10 rows. Are there clear insights? Beware a small sample size!\n",
        "- Confirm (by printing out) which hyperparameters were used in this search. These are the column names in `results_df`.\n",
        "- Call `visualize_hyperparameter()` with each hyperparameter in turn (`max_depth`, `min_samples_leaf`, `learn_rate`). Are there any trends?"
      ]
    },
    {
      "cell_type": "code",
      "execution_count": null,
      "metadata": {
        "id": "lwlnh-HDeeaV"
      },
      "outputs": [],
      "source": [
        "def visualize_hyperparameter(name):\n",
        "    plt.clf()\n",
        "    plt.scatter(results_df[name],results_df['accuracy'], c=['blue']*500)\n",
        "    plt.gca().set(xlabel='{}'.format(name), ylabel='accuracy', title='Accuracy for different {}s'.format(name))\n",
        "    plt.gca().set_ylim([0,100])"
      ]
    },
    {
      "cell_type": "code",
      "execution_count": null,
      "metadata": {
        "id": "RDFiG99Re8DX"
      },
      "outputs": [],
      "source": [
        "from itertools import product\n",
        "\n",
        "max_depth_list = range(1, 6)\n",
        "min_samples_leaf_list = range(3, 14)\n",
        "learn_rate_list = np.linspace(0.01, 1.33, 200)\n",
        "\n",
        "combinations_list = [list(x) for x in product(max_depth_list, \n",
        "                                              min_samples_leaf_list, \n",
        "                                              learn_rate_list)]\n",
        "\n",
        "results_df = pd.read_csv('./dataset/results_df.csv')"
      ]
    },
    {
      "cell_type": "code",
      "execution_count": null,
      "metadata": {
        "id": "RTlEeM46ehcE"
      },
      "outputs": [],
      "source": [
        "# Confirm the size fo the combinations_list\n",
        "print(len(combinations_list))\n",
        "\n",
        "# Sort the results_df by accuracy and print the top 10 rows\n",
        "print(results_df.sort_values(by='accuracy', ascending=False).head(10))\n",
        "\n",
        "# Confirm which hyperparameters were used in this search\n",
        "print(results_df.columns)\n",
        "\n",
        "# Call visualize_hyperparameter() with each hyperparameter in turn\n",
        "visualize_hyperparameter('max_depth')\n",
        "visualize_hyperparameter('min_samples_leaf')\n",
        "visualize_hyperparameter('learn_rate')"
      ]
    },
    {
      "cell_type": "markdown",
      "metadata": {
        "id": "oZePFXtafS7_"
      },
      "source": [
        "Great stuff! We have undertaken the first step of a Coarse to Fine search. Results clearly seem better when `max_depth` is below 20. `learn_rate`s smaller than 1 seem to perform well too. There is not a strong trend for `min_samples leaf` though. Let's use this in the next exercise!"
      ]
    },
    {
      "cell_type": "markdown",
      "metadata": {
        "id": "bYzS9jM7YfNu"
      },
      "source": [
        "## 4.3 Coarse to Fine Iterations\n",
        "You will now visualize the first random search undertaken, construct a tighter grid and check the results. You will have available:\n",
        "\n",
        "- `results_df` - a DataFrame that has the hyperparameter combination and the resulting accuracy of all 500 trials. Only the hyperparameters that had the strongest visualizations from the previous exercise are included (`max_depth` and `learn_rate`)\n",
        "- `visualize_first()` - This function takes no arguments but will visualize each of your hyperparameters against accuracy for your first random search.\n",
        "\n",
        "If you wish to view the `visualize_first()` (or the `visualize_second()`) function definition, you can run this code:\n",
        "\n",
        "```\n",
        "import inspect\n",
        "print(inspect.getsource(visualize_first))\n",
        "```\n",
        "\n",
        "##### Instructions 1/3\n",
        "\n",
        "**35 XP**\n",
        "\n",
        "\n",
        "- Use the `visualize_first()` function to check the values of `max_depth` and `learn_rate` that tend to perform better. A convenient red line will be added to make this explicit."
      ]
    },
    {
      "cell_type": "code",
      "execution_count": null,
      "metadata": {
        "id": "1SnChZ-vfsEw"
      },
      "outputs": [],
      "source": [
        "def visualize_first():\n",
        "    for name in results_df.columns[0:2]:\n",
        "        plt.clf()\n",
        "        plt.scatter(results_df[name],results_df['accuracy'], c=['blue']*500)\n",
        "        plt.gca().set(xlabel='{}'.format(name), ylabel='accuracy', title='Accuracy for different {}s'.format(name))\n",
        "        plt.gca().set_ylim([0,100])\n",
        "        x_line = 20\n",
        "        if name == \"learn_rate\":\n",
        "            x_line = 1\n",
        "        plt.axvline(x=x_line, color=\"red\", linewidth=4)\n",
        "\n",
        "def visualize_second():\n",
        "    for name in results_df2.columns[0:2]:\n",
        "        plt.clf()\n",
        "        plt.scatter(results_df[name],results_df['accuracy'], c=['blue']*500)\n",
        "        plt.gca().set(xlabel='{}'.format(name), ylabel='accuracy', title='Accuracy for different {}s'.format(name))\n",
        "        plt.gca().set_ylim([0,100])\n",
        "        x_line = 20\n",
        "        if name == \"learn_rate\":\n",
        "            x_line = 1\n",
        "        plt.axvline(x=x_line, color=\"red\", linewidth=4)"
      ]
    },
    {
      "cell_type": "code",
      "execution_count": null,
      "metadata": {
        "id": "yDiLsPv3fX8k"
      },
      "outputs": [],
      "source": [
        "# Use the provided function to visualize the first results\n",
        "visualize_first()"
      ]
    },
    {
      "cell_type": "markdown",
      "metadata": {
        "id": "NuFk-K52fYIG"
      },
      "source": [
        "##### Instructions 2/3\n",
        "\n",
        "**35 XP**\n",
        "\n",
        "\n",
        "- Now create a more narrow grid search, testing for `max_depth` values between 1 and 20 and for 50 learning rates between 0.001 and 1."
      ]
    },
    {
      "cell_type": "code",
      "execution_count": null,
      "metadata": {
        "id": "VIq4d3oOfYRd"
      },
      "outputs": [],
      "source": [
        "# Use the provided function to visualize the first results\n",
        "# visualize_first()\n",
        "\n",
        "# Create some combinations lists & combine:\n",
        "max_depth_list = list(range(1,21))\n",
        "learn_rate_list = np.linspace(0.001,1,50)"
      ]
    },
    {
      "cell_type": "markdown",
      "metadata": {
        "id": "d09e9QDSfYbc"
      },
      "source": [
        "##### Instructions 3/3\n",
        "\n",
        "**30 XP**\n",
        "\n",
        "\n",
        "- We ran the 1,000 model grid search in the background based on those new combinations. Now use the `visualize_second()` function to visualize the second iteration (grid search) and see if there is any improved results. This function takes no arguments, just run it in-place to generate the plots!"
      ]
    },
    {
      "cell_type": "code",
      "execution_count": null,
      "metadata": {
        "id": "oN7geghXfYkY"
      },
      "outputs": [],
      "source": [
        "# Use the provided function to visualize the first results\n",
        "# visualize_first()\n",
        "\n",
        "# Create some combinations lists & combine:\n",
        "max_depth_list = list(range(1,21))\n",
        "learn_rate_list = np.linspace(0.001,1,50)\n",
        "\n",
        "# Call the function to visualize the second results\n",
        "visualize_second()"
      ]
    },
    {
      "cell_type": "markdown",
      "metadata": {
        "id": "kAHevZ1LgPfb"
      },
      "source": [
        "Excellent! You can see in the second example our results are all generally higher. There also appears to be a bump around `max_depths` between 5 and 10 as well as `learn_rate` less than 0.2 so perhaps there is even more room for improvement!"
      ]
    },
    {
      "cell_type": "markdown",
      "metadata": {
        "id": "Tp6koczBYfRF"
      },
      "source": [
        "## 4.4 Informed Search: Bayesian Statistics\n",
        "- Bayes rule\n",
        "  - A statistical method of using new evidence to iteratively update our beliefs about some outcome\n",
        "  $$ P(A \\vert B) = \\frac{P(B \\vert A) P(A)}{P(B)}$$\n",
        "\n",
        "  - LHS = the probability of A given B has occurred. B is some new evidence (**Posterior**)\n",
        "\n",
        "  - RHS = how to calculate LHS\n",
        "    - $P(A)$ is the **'prior'**. The initial hypothesis about the event. \n",
        "    - $P(A∣B)$ is the probability given new evidence\n",
        "    - $P(B)$ is the **'marginal likelihood'**. It is the probability of observing this new evidence\n",
        "    - $P(B \\\\vert A)$ is the **likelihood** which is the probability of observing the evidence, given the event we care about\n",
        "\n",
        "- Bayes in Hyperparameter Tuning\n",
        "  - Pick a hyperparameter combination\n",
        "  - Build a model\n",
        "  - Get new evidence (the score of the model)\n",
        "  - Update our belief and chose better hyperparamters next round\n"
      ]
    },
    {
      "cell_type": "markdown",
      "metadata": {
        "id": "fE2t3OSwYfTR"
      },
      "source": [
        "## 4.5 Bayes Rule in Python\n",
        "\n"
      ]
    },
    {
      "cell_type": "markdown",
      "metadata": {
        "id": "vaz9AO0MmPnj"
      },
      "source": [
        "In this exercise you will undertake a practical example of setting up Bayes formula, obtaining new evidence and updating your 'beliefs' in order to get a more accurate result. The example will relate to the likelihood that someone will close their account for your online software product.\n",
        "\n",
        "These are the probabilities we know:\n",
        "\n",
        "- 7% (0.07) of people are likely to close their account next month\n",
        "- 15% (0.15) of people with accounts are unhappy with your product (you don't know who though!)\n",
        "- 35% (0.35) of people who are likely to close their account are unhappy with your product\n",
        "\n",
        "##### Instructions 1/3\n",
        "\n",
        "**35 XP**\n",
        "\n",
        "\n",
        "- Assign the different probabilities (as decimals) to variables. `p_unhappy` is the likelihood someone is unhappy, `p_unhappy_close` is the probability that someone is unhappy with the product, given they are going to close their account."
      ]
    },
    {
      "cell_type": "code",
      "execution_count": null,
      "metadata": {
        "id": "JCxvwuQrkHCM"
      },
      "outputs": [],
      "source": [
        "# Assign probabilities to variables \n",
        "p_unhappy = 0.15\n",
        "p_unhappy_close = 0.35\n"
      ]
    },
    {
      "cell_type": "markdown",
      "metadata": {
        "id": "i4aHsW3RkILp"
      },
      "source": [
        "##### Instructions 2/3\n",
        "\n",
        "**35 XP**\n",
        "\n",
        "- Assign the probability that someone will close their account next month to the variable `p_close` as a decimal."
      ]
    },
    {
      "cell_type": "code",
      "execution_count": null,
      "metadata": {
        "id": "-ozOhc4ikIVG"
      },
      "outputs": [],
      "source": [
        "# Assign probabilities to variables \n",
        "p_unhappy = 0.15\n",
        "p_unhappy_close = 0.35\n",
        "\n",
        "# Probabiliy someone will close\n",
        "p_close = 0.07"
      ]
    },
    {
      "cell_type": "markdown",
      "metadata": {
        "id": "hZv5U3i0kIek"
      },
      "source": [
        "##### Instructions 3/3\n",
        "\n",
        "**30 XP**\n",
        "\n",
        "\n",
        "- You interview one of your customers and discover they are unhappy. What is the probability they will close their account, now that you know this evidence? Assign the result to `p_close_unhappy` and print it."
      ]
    },
    {
      "cell_type": "code",
      "execution_count": null,
      "metadata": {
        "id": "p-pLfvf2kIn0"
      },
      "outputs": [],
      "source": [
        "# Assign probabilities to variables \n",
        "p_unhappy = 0.15\n",
        "p_unhappy_close = 0.35\n",
        "\n",
        "# Probabiliy someone will close\n",
        "p_close = 0.07\n",
        "\n",
        "# Probability unhappy person will close\n",
        "p_close_unhappy = (p_unhappy_close * p_close) / p_unhappy\n",
        "print(p_close_unhappy)"
      ]
    },
    {
      "cell_type": "markdown",
      "metadata": {
        "id": "GXOFLZoUkcRD"
      },
      "source": [
        "Nice work! You correctly were able to frame this problem in a Bayesian way, and update your beliefs using new evidence. There's a 16.3% chance that a customer, given that they are unhappy, will close their account. Next we'll use a package which uses this methodology to automatically tune hyperparameters for us."
      ]
    },
    {
      "cell_type": "markdown",
      "metadata": {
        "id": "PaLJD10pYfXd"
      },
      "source": [
        "## 4.6 Bayesian Hyperparameter tuning with Hyperopt\n"
      ]
    },
    {
      "cell_type": "markdown",
      "metadata": {
        "id": "FWYaoec8mZgl"
      },
      "source": [
        "In this example you will set up and run a Bayesian hyperparameter optimization process using the package Hyperopt (already imported as `hp` for you). You will set up the domain (which is similar to setting up the grid for a grid search), then set up the objective function. Finally, you will run the optimizer over 20 iterations.\n",
        "\n",
        "You will need to set up the domain using values:\n",
        "\n",
        "- `max_depth` using quniform distribution (between 2 and 10, increasing by 2)\n",
        "- `learning_rate` using uniform distribution (0.001 to 0.9)\n",
        "\n",
        "Note that for the purpose of this exercise, this process was reduced in data sample size and hyperopt & GBM iterations. If you are trying out this method by yourself on your own machine, try a larger search space, more trials, more cvs and a larger dataset size to really see this in action!\n",
        "\n",
        "##### Instructions\n",
        "\n",
        "**100 XP**\n",
        "\n",
        "- Set up a `space` dictionary using the domain mentioned above.\n",
        "- Set up the objective function using a gradient boosting classifier.\n",
        "- Run the algorithm for 20 evaluations (just use the default, suggested algorithm from the slides)."
      ]
    },
    {
      "cell_type": "code",
      "execution_count": null,
      "metadata": {
        "id": "k4gtWvfzk2IO"
      },
      "outputs": [],
      "source": [
        "from sklearn.model_selection import train_test_split\n",
        "\n",
        "credit_card = pd.read_csv('./dataset/credit-card-full.csv')\n",
        "# To change categorical variable with dummy variables\n",
        "credit_card = pd.get_dummies(credit_card, columns=['SEX', 'EDUCATION', 'MARRIAGE'], drop_first=True)\n",
        "\n",
        "X = credit_card.drop(['ID', 'default payment next month'], axis=1)\n",
        "y = credit_card['default payment next month']\n",
        "\n",
        "X_train, X_test, y_train, y_test = train_test_split(X, y, test_size=0.3, shuffle=True)\n",
        "\n",
        "import hyperopt as hp\n",
        "from hyperopt import tpe, hp, fmin\n",
        "from sklearn.ensemble import GradientBoostingClassifier\n",
        "from sklearn.model_selection import cross_val_score\n"
      ]
    },
    {
      "cell_type": "code",
      "execution_count": null,
      "metadata": {
        "id": "0SVqVW4rk2im"
      },
      "outputs": [],
      "source": [
        "# Set up space dictionary with specified hyperparamters\n",
        "space = {'max_depth': hp.quniform('max_depth', 2, 10, 2),\n",
        "         'learning_rate': hp.uniform('learning_rate', 0.001, 0.9)}\n",
        "\n",
        "# Set up objective function\n",
        "def objective(params):\n",
        "    params = {'max_depth': int(params['max_depth']), \n",
        "              'learning_rate': params['learning_rate']}\n",
        "    gbm_clf = GradientBoostingClassifier(n_estimators=100, **params)\n",
        "    best_score = cross_val_score(gbm_clf, X_train, y_train, \n",
        "                                 scoring='accuracy', cv=2, n_jobs=4).mean()\n",
        "    loss = 1 - best_score\n",
        "    return loss\n",
        "\n",
        "# Run the algorithm\n",
        "best = fmin(fn=objective, space=space, max_evals=20, \n",
        "               rstate=np.random.RandomState(42), algo=tpe.suggest)\n",
        "print(best)"
      ]
    },
    {
      "cell_type": "markdown",
      "metadata": {
        "id": "G0HpRTaglhle"
      },
      "source": [
        "Excellent! You succesfully built your first Bayesian hyperparameter tuning algorithm. This will be a very powerful tool for your machine learning modeling in future. Bayesian hyperparameter tuning is a new and popular method so this first taster is a valuable thing to gain experience in. You are highly encouraged to extend this example on your own!\n",
        "\n",
        "```python\n",
        "<script.py> output:\n",
        "    \n",
        "  0%|          | 0/20 [00:00<?, ?it/s, best loss: ?]\n",
        "  5%|5         | 1/20 [00:00<00:06,  2.91it/s, best loss: 0.26759418985474637]\n",
        " 10%|#         | 2/20 [00:00<00:06,  2.79it/s, best loss: 0.2549063726593165] \n",
        " 15%|#5        | 3/20 [00:01<00:05,  2.92it/s, best loss: 0.2549063726593165]\n",
        " 20%|##        | 4/20 [00:01<00:05,  3.00it/s, best loss: 0.2549063726593165]\n",
        " 25%|##5       | 5/20 [00:02<00:07,  1.98it/s, best loss: 0.2549063726593165]\n",
        " 30%|###       | 6/20 [00:02<00:06,  2.08it/s, best loss: 0.2549063726593165]\n",
        " 35%|###5      | 7/20 [00:02<00:05,  2.35it/s, best loss: 0.2549063726593165]\n",
        " 40%|####      | 8/20 [00:03<00:04,  2.47it/s, best loss: 0.2549063726593165]\n",
        " 45%|####5     | 9/20 [00:03<00:04,  2.64it/s, best loss: 0.2549063726593165]\n",
        " 50%|#####     | 10/20 [00:03<00:03,  2.82it/s, best loss: 0.2549063726593165]\n",
        " 55%|#####5    | 11/20 [00:04<00:02,  3.03it/s, best loss: 0.2549063726593165]\n",
        " 60%|######    | 12/20 [00:04<00:02,  2.96it/s, best loss: 0.2549063726593165]\n",
        " 65%|######5   | 13/20 [00:04<00:02,  2.74it/s, best loss: 0.2549063726593165]\n",
        " 70%|#######   | 14/20 [00:05<00:03,  1.87it/s, best loss: 0.2525688142203555]\n",
        " 75%|#######5  | 15/20 [00:06<00:02,  2.23it/s, best loss: 0.2525688142203555]\n",
        " 80%|########  | 16/20 [00:06<00:01,  2.48it/s, best loss: 0.2525688142203555]\n",
        " 85%|########5 | 17/20 [00:07<00:01,  1.83it/s, best loss: 0.24246856171404285]\n",
        " 90%|######### | 18/20 [00:07<00:00,  2.12it/s, best loss: 0.24246856171404285]\n",
        " 95%|#########5| 19/20 [00:07<00:00,  2.45it/s, best loss: 0.24246856171404285]\n",
        "100%|##########| 20/20 [00:08<00:00,  2.80it/s, best loss: 0.24246856171404285]\n",
        "100%|##########| 20/20 [00:08<00:00,  2.47it/s, best loss: 0.24246856171404285]\n",
        "    {'learning_rate': 0.11310589268581149, 'max_depth': 6.0}\n",
        "```"
      ]
    },
    {
      "cell_type": "markdown",
      "metadata": {
        "id": "uQZTfe7pYfdj"
      },
      "source": [
        "## 4.7 Informed Search: Genetic Algorithms\n",
        "\n",
        "- Genetics in Machine Learning\n",
        "    1. Create some models (that have hyperparameter settings)\n",
        "    2. Pick the best (by our scoring function) : these are the ones that \"survive\"\n",
        "    3. Create new models that are similar to the best ones\n",
        "    4. Add in some randomness so we don't reach a local optimum\n",
        "    5. Repeat until we are happy!\n",
        "- Advantages\n",
        "    - It allows us to learn from previous iterations, just like bayesian hyperparameter tuning\n",
        "    - It has the additional advantage of some randomness\n",
        "    - Takes care of many tedious aspects of machine learning\n"
      ]
    },
    {
      "cell_type": "markdown",
      "metadata": {
        "id": "DTI912iiYfgD"
      },
      "source": [
        "## 4.8 Genetic Hyperparameter Tuning with TPOT\n"
      ]
    },
    {
      "cell_type": "markdown",
      "metadata": {
        "id": "657Jfbp9nzsh"
      },
      "source": [
        "You're going to undertake a simple example of genetic hyperparameter tuning. `TPOT` is a very powerful library that has a lot of features. You're just scratching the surface in this lesson, but you are highly encouraged to explore in your own time.\n",
        "\n",
        "This is a very small example. In real life, TPOT is designed to be run for many hours to find the best model. You would have a much larger population and offspring size as well as hundreds more generations to find a good model.\n",
        "\n",
        "You will create the estimator, fit the estimator to the training data and then score this on the test data.\n",
        "\n",
        "For this example we wish to use:\n",
        "\n",
        "- 3 generations\n",
        "- 4 in the population size\n",
        "- 3 offspring in each generation\n",
        "- accuracy for scoring\n",
        "\n",
        "A `random_state` of 2 has been set for consistency of results.\n",
        "\n",
        "##### Instructions\n",
        "\n",
        "**100 XP**\n",
        "\n",
        "- Assign the values outlined in the context to the inputs for `tpot_clf`.\n",
        "- Create the `tpot_clf` classifier with the correct inputs.\n",
        "- Fit the classifier to the training data (`X_train` & `y_train` are available in your workspace).\n",
        "- Use the fitted classifier to score on the test set (`X_test` & `y_test` are available in your workspace)."
      ]
    },
    {
      "cell_type": "code",
      "execution_count": null,
      "metadata": {
        "id": "J3Ow-NTmnUHn"
      },
      "outputs": [],
      "source": [
        "from tpot import TPOTClassifier\n"
      ]
    },
    {
      "cell_type": "code",
      "execution_count": null,
      "metadata": {
        "id": "z7QMCL_Pnu6l"
      },
      "outputs": [],
      "source": [
        "# Assign the values outlined to the inputs\n",
        "number_generations = 3\n",
        "population_size = 4\n",
        "offspring_size = 3\n",
        "scoring_function = 'accuracy'\n",
        "\n",
        "# Create the tpot classifier\n",
        "tpot_clf = TPOTClassifier(generations=number_generations, \n",
        "                            population_size=population_size,\n",
        "                            offspring_size=offspring_size,\n",
        "                            scoring=scoring_function,\n",
        "                            verbosity=2, random_state=2, cv=2)\n",
        "\n",
        "# Fit the classifier to the training data\n",
        "tpot_clf.fit(X_train, y_train)\n",
        "\n",
        "# Score on the test set\n",
        "print(tpot_clf.score(X_test, y_test))\n"
      ]
    },
    {
      "cell_type": "markdown",
      "metadata": {
        "id": "z3d3FBc5nwm3"
      },
      "source": [
        "Nice work! You can see in the output the score produced by the chosen model (in this case a version of Naive Bayes) over each generation, and then the final accuracy score with the hyperparameters chosen for the final model. This is a great first example of using TPOT for automated hyperparameter tuning. You can now extend on this on your own and build great machine learning models!"
      ]
    },
    {
      "cell_type": "markdown",
      "metadata": {
        "id": "gTtXqx6TYfih"
      },
      "source": [
        "## 4.9 Analysing TPOT's stability\n"
      ]
    },
    {
      "cell_type": "markdown",
      "metadata": {
        "id": "O1hPuokQn8SV"
      },
      "source": [
        "You will now see the random nature of TPOT by constructing the classifier with different random states and seeing what model is found to be best by the algorithm. This assists to see that TPOT is quite unstable when not run for a reasonable amount of time.\n",
        "\n",
        "##### Instructions 1/3\n",
        "\n",
        "**35 XP**\n",
        "\n",
        "  - Create the TPOT classifier, fit to the data and score using a `random_state` of 42.\n",
        "        \n"
      ]
    },
    {
      "cell_type": "code",
      "execution_count": null,
      "metadata": {
        "id": "H-Uy_fMGn88-"
      },
      "outputs": [],
      "source": [
        "# Create the tpot classifier \n",
        "tpot_clf = TPOTClassifier(generations=2, population_size=4, offspring_size=3, scoring='accuracy', cv=2,\n",
        "                          verbosity=2, random_state=42)\n",
        "\n",
        "# Fit the classifier to the training data\n",
        "tpot_clf.fit(X_train, y_train)\n",
        "\n",
        "# Score on the test set\n",
        "print(tpot_clf.score(X_test, y_test))"
      ]
    },
    {
      "cell_type": "markdown",
      "metadata": {
        "id": "8h61Ymchn9Ik"
      },
      "source": [
        "##### Instructions 2/3\n",
        "    \n",
        "  - Now try using a `random_state` of 122. The numbers don't mean anything special, but should produce different results.\n",
        "    \n"
      ]
    },
    {
      "cell_type": "code",
      "execution_count": null,
      "metadata": {
        "id": "EOV-QaRRn9TW"
      },
      "outputs": [],
      "source": [
        "# Create the tpot classifier \n",
        "tpot_clf = TPOTClassifier(generations=2, population_size=4, offspring_size=3, scoring='accuracy', cv=2,\n",
        "                          verbosity=2, random_state=122)\n",
        "\n",
        "# Fit the classifier to the training data\n",
        "tpot_clf.fit(X_train, y_train)\n",
        "\n",
        "# Score on the test set\n",
        "print(tpot_clf.score(X_test, y_test))"
      ]
    },
    {
      "cell_type": "markdown",
      "metadata": {
        "id": "mqrS1GAvn9dN"
      },
      "source": [
        "##### Instructions 3/3\n",
        "    \n",
        "  - Finally try using the `random_state` of 99. See how there is a different result again?"
      ]
    },
    {
      "cell_type": "code",
      "execution_count": null,
      "metadata": {
        "id": "rioHYqsRn9nm"
      },
      "outputs": [],
      "source": [
        "# Create the tpot classifier \n",
        "tpot_clf = TPOTClassifier(generations=2, population_size=4, offspring_size=3, scoring='accuracy', cv=2,\n",
        "                          verbosity=2, random_state=99)\n",
        "\n",
        "# Fit the classifier to the training data\n",
        "tpot_clf.fit(X_train, y_train)\n",
        "\n",
        "# Score on the test set\n",
        "print(tpot_clf.score(X_test, y_test))"
      ]
    },
    {
      "cell_type": "markdown",
      "metadata": {
        "id": "lvUxNeJiofXN"
      },
      "source": [
        "Well done! You can see that TPOT is quite unstable when only running with low generations, population size and offspring. The first model chosen was a Decision Tree, then a K-nearest Neighbor model and finally a Random Forest. Increasing the generations, population size and offspring and running this for a long time will assist to produce better models and more stable results. Don't hesitate to try it yourself on your own machine!"
      ]
    },
    {
      "cell_type": "markdown",
      "metadata": {
        "id": "At2HI09dYflM"
      },
      "source": [
        "## 4.10 Congratulations!"
      ]
    },
    {
      "cell_type": "markdown",
      "metadata": {
        "id": "NHO_152wYfpe"
      },
      "source": []
    },
    {
      "cell_type": "markdown",
      "metadata": {
        "id": "yFxMB6WUYfq5"
      },
      "source": []
    },
    {
      "cell_type": "markdown",
      "metadata": {
        "id": "C4yFxf55Yfsa"
      },
      "source": []
    },
    {
      "cell_type": "markdown",
      "metadata": {
        "id": "qXCfwNgoYfuA"
      },
      "source": []
    },
    {
      "cell_type": "code",
      "execution_count": null,
      "metadata": {
        "id": "ATPuOn_leS7t"
      },
      "outputs": [],
      "source": []
    }
  ],
  "metadata": {
    "colab": {
      "name": "2021-12-26-hyperparameter-tuning-in-python.ipynb",
      "provenance": [],
      "toc_visible": true
    },
    "language_info": {
      "name": "python"
    },
    "orig_nbformat": 4
  },
  "nbformat": 4,
  "nbformat_minor": 0
}
